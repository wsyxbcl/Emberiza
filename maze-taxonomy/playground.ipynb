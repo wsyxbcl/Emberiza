{
 "cells": [
  {
   "cell_type": "code",
   "execution_count": 1,
   "id": "faac6cd3-d126-4a5b-9372-5a30864eb218",
   "metadata": {},
   "outputs": [
    {
     "name": "stdout",
     "output_type": "stream",
     "text": [
      "0.20.13\n"
     ]
    }
   ],
   "source": [
    "import re\n",
    "import polars as pl\n",
    "pl.Config.set_fmt_str_lengths(50)\n",
    "print(pl.__version__)\n",
    "\n",
    "from utils import xmp_to_taglist"
   ]
  },
  {
   "cell_type": "code",
   "execution_count": 2,
   "id": "f361057c-073b-419b-b4ad-eef9d59e41a9",
   "metadata": {},
   "outputs": [],
   "source": [
    "col_taxon_file = \"/home/wsyxbcl/Downloads/26a0a309-f729-42d3-8f76-56afa21686db/NameUsage.tsv\"\n",
    "col_name_file = \"/home/wsyxbcl/Downloads/26a0a309-f729-42d3-8f76-56afa21686db/VernacularName.tsv\"\n",
    "shanshui_file = \"/home/wsyxbcl/Downloads/_Species_Data__202401051603.csv\"\n",
    "gbif_backbone_file = \"/home/wsyxbcl/Downloads/backbone/Taxon.tsv\"\n",
    "gbif_backbone_name_file = \"/home/wsyxbcl/Downloads/backbone/VernacularName.tsv\""
   ]
  },
  {
   "cell_type": "code",
   "execution_count": 3,
   "id": "4e675aa5-9b24-4bc3-9683-75081fff3827",
   "metadata": {},
   "outputs": [],
   "source": [
    "dtypes = {\n",
    "    # \"col:ID\": pl.Categorical,\n",
    "    \"col:rank\": pl.Categorical,\n",
    "    \"col:status\": pl.Categorical,\n",
    "    \"col:combinationAuthorshipYear\": pl.Utf8,\n",
    "    \"col:basionymAuthorshipYear\": pl.Utf8,\n",
    "}\n",
    "# COL taxon data\n",
    "df_col_taxon_raw = pl.read_csv(col_taxon_file, separator='\\t', dtypes=dtypes, rechunk=True, quote_char=None)\n",
    "df_col_taxon = df_col_taxon_raw.filter(pl.col(\"col:code\").eq(\"zoological\"))\n",
    "df_col_taxon = df_col_taxon.select([\n",
    "    pl.col(\"col:ID\").alias(\"taxonID\"), \n",
    "    pl.col(\"col:parentID\").alias(\"parentID\"), \n",
    "    pl.col(\"col:rank\").alias(\"rank\"), \n",
    "    pl.col(\"col:scientificName\").str.replace(r' \\([^)]*\\)', '').alias(\"scientificName\"), \n",
    "    pl.col(\"col:status\").alias(\"status\")])\n",
    "# COL name data\n",
    "df_col_name_raw = pl.read_csv(col_name_file, separator=\"\\t\")\n",
    "df_col_name = df_col_name_raw.filter(pl.col(\"col:language\") == \"eng\")\n",
    "df_col_name = df_col_name.select([\n",
    "    pl.col(\"col:taxonID\").alias(\"taxonID\"),\n",
    "    pl.col(\"col:name\").str.to_lowercase().alias(\"colVernacularNameEN\"),\n",
    "])\n",
    "df_col_name = df_col_name.group_by(\"taxonID\").agg([pl.col(\"colVernacularNameEN\")])\n",
    "\n",
    "df_col = df_col_taxon.join(df_col_name, on=\"taxonID\", how=\"left\")"
   ]
  },
  {
   "cell_type": "code",
   "execution_count": 4,
   "id": "47592b7a-7ad0-48c1-9673-5a21da448a23",
   "metadata": {},
   "outputs": [],
   "source": [
    "# GBIF backbone data\n",
    "\n",
    "df_gbif_taxon_raw = pl.read_csv(gbif_backbone_file, separator='\\t', rechunk=True, quote_char=None)\n",
    "# df_gbif_taxon = df_gbif_taxon_raw.filter(pl.col(\"taxonRank\").is_in([\"species\", \"subspecies\"]))\n",
    "df_gbif_taxon = (df_gbif_taxon_raw\n",
    "    .filter(pl.col(\"kingdom\").eq(\"Animalia\"))\n",
    "    .filter(pl.col(\"taxonRank\").is_in([\"species\", \"subspecies\"]))\n",
    "    .filter(pl.col(\"taxonomicStatus\").eq(\"accepted\"))\n",
    "    .select([\n",
    "        pl.col(\"taxonID\").alias(\"gbifTaxonID\"),\n",
    "        pl.col(\"canonicalName\").alias(\"scientificName\"),\n",
    "        \"kingdom\",\n",
    "        \"phylum\",\n",
    "        \"class\",\n",
    "        \"order\",\n",
    "        \"family\",\n",
    "        \"genus\"\n",
    "    ])\n",
    ")\n",
    "\n",
    "df_gbif_name_raw = pl.read_csv(gbif_backbone_name_file, separator=\"\\t\")\n",
    "df_gbif_name = (df_gbif_name_raw\n",
    "    # .filter((pl.col(\"language\") == \"en\") | (pl.col(\"language\").is_null()))\n",
    "    .filter((pl.col(\"language\") == \"en\") | (pl.col(\"source\") == \"NCBI Taxonomy\"))\n",
    "    .filter(pl.col(\"source\") != \"United Kingdom Species Inventory (UKSI)\")\n",
    "    .select([\n",
    "        pl.col(\"taxonID\").alias(\"gbifTaxonID\"),\n",
    "        pl.col(\"vernacularName\").str.to_lowercase().alias(\"gbifVernacularNameEN\"),])\n",
    "    .group_by(\"gbifTaxonID\")\n",
    "    .agg([pl.col(\"gbifVernacularNameEN\")])\n",
    ")\n",
    "\n",
    "df_gbif = df_gbif_taxon.join(df_gbif_name, on=\"gbifTaxonID\", how=\"left\")"
   ]
  },
  {
   "cell_type": "code",
   "execution_count": 21,
   "id": "bab14c86-0db5-49c4-8908-7f408ec11c85",
   "metadata": {},
   "outputs": [],
   "source": [
    "# Taglists\n",
    "taglist_yushu = xmp_to_taglist(\"/home/wsyxbcl/Downloads/玉树TagList.jpg.xmp\")\n",
    "taglist_qilian = xmp_to_taglist(\"/home/wsyxbcl/Downloads/祁连TagList.jpg.xmp\")\n",
    "taglist_lasa = xmp_to_taglist(\"/home/wsyxbcl/Downloads/拉萨TagList.jpg.xmp\")\n",
    "# taglist_yaluzangbu = xmp_to_taglist(\"/home/wsyxbcl/Downloads/雅鲁藏布TagList.jpg.xmp\")\n",
    "\n",
    "taglist = list((set(taglist_qilian) | set(taglist_yushu) | set(taglist_lasa)))\n",
    "s_tag = pl.Series(\"tag\", taglist).str.to_lowercase()"
   ]
  },
  {
   "cell_type": "code",
   "execution_count": 7,
   "id": "c7a86339-40e5-49e4-9305-be9701cc60cc",
   "metadata": {},
   "outputs": [],
   "source": [
    "# # find unincluded tag in COL vernacular name\n",
    "# tag_unincluded_in_col = []\n",
    "# for tag in taglist:\n",
    "#     try:\n",
    "#         df_col.filter(pl.col(\"colVernacularNameEN\").list.contains(tag.lower())).get_column(\"scientificName\")[0]\n",
    "#     except IndexError:\n",
    "#         tag_unincluded_in_col.append(tag)\n",
    "# print(tag_unincluded_in_col)\n",
    "\n",
    "# # find unincluded tag in GBIF vernacular name\n",
    "# tag_unincluded_in_gbif = []\n",
    "# for tag in taglist:\n",
    "#     try:\n",
    "#         df_gbif.filter(pl.col(\"gbifVernacularNameEN\").list.contains(tag.lower())).get_column(\"scientificName\")[0]\n",
    "#     except IndexError:\n",
    "#         tag_unincluded_in_gbif.append(tag)\n",
    "# print(tag_unincluded_in_gbif)"
   ]
  },
  {
   "cell_type": "code",
   "execution_count": 22,
   "id": "9d2b5aaa-929d-4773-8654-c3af332fae26",
   "metadata": {},
   "outputs": [],
   "source": [
    "# Check tag in GBIF backbone\n",
    "tag_list = []\n",
    "latin_name_list = []\n",
    "for tag in taglist:\n",
    "    tag_list.append(tag)\n",
    "    try:\n",
    "        latin_name_list.append(df_gbif.filter(pl.col(\"gbifVernacularNameEN\").list.contains(tag.lower())).get_column(\"scientificName\").to_list())\n",
    "    except IndexError:\n",
    "        latin_name_list.append([])\n",
    "    "
   ]
  },
  {
   "cell_type": "code",
   "execution_count": 24,
   "id": "e9d9aa6a-892e-4d78-9fa7-f93e5ee32afb",
   "metadata": {},
   "outputs": [
    {
     "data": {
      "text/plain": [
       "[['Felis catus'],\n",
       " ['Canis lupus dingo', 'Canis lupus familiaris'],\n",
       " ['Phylloscopus trochiloides'],\n",
       " ['Pyrrhocorax graculus'],\n",
       " ['Leptopoecile elegans'],\n",
       " ['Athene noctua'],\n",
       " ['Emberiza koslowi'],\n",
       " ['Naemorhedus baileyi', 'Nemorhaedus baileyi'],\n",
       " [],\n",
       " ['Aquila chrysaetos', 'Aquila bivia'],\n",
       " ['Phylloscopus fuscatus'],\n",
       " ['Parus minor'],\n",
       " ['Ochotona gloveri'],\n",
       " ['Carpodacus waltoni'],\n",
       " ['Trochalopteron elliotii'],\n",
       " [],\n",
       " [],\n",
       " ['Coloeus dauuricus'],\n",
       " ['Accipiter nisus'],\n",
       " ['Mycerobas carnipes'],\n",
       " ['Prunella fulvescens'],\n",
       " ['Tetraogallus himalayensis'],\n",
       " ['Martes foina'],\n",
       " ['Tetraophasis szechenyii'],\n",
       " ['Ochotona curzoniae'],\n",
       " ['Catopuma temminckii'],\n",
       " [],\n",
       " ['Carpodacus rubicilla'],\n",
       " [],\n",
       " ['Perdix hodgsoniae'],\n",
       " ['Phoenicurus frontalis'],\n",
       " ['Vulpes vulpes'],\n",
       " ['Corvus corax'],\n",
       " ['Carpodacus rubicilloides'],\n",
       " ['Mustela eversmanii'],\n",
       " [],\n",
       " ['Columba leuconota'],\n",
       " ['Montifringilla adamsi', 'Montifringilla henrici'],\n",
       " ['Lanius tephronotus'],\n",
       " ['Pyrgilauda ruficollis'],\n",
       " ['Moschus chrysogaster'],\n",
       " ['Carpodacus dubius'],\n",
       " ['Canis lupus'],\n",
       " ['Homo sapiens'],\n",
       " ['Picus canus', 'Dendropicos spodocephalus'],\n",
       " [],\n",
       " ['Falco cherrug'],\n",
       " ['Vulpes ferrilata'],\n",
       " ['Lutra lutra'],\n",
       " ['Capricornis milneedwardsii'],\n",
       " [],\n",
       " ['Montifringilla adamsi'],\n",
       " ['Turdus ruficollis'],\n",
       " ['Columba rupestris'],\n",
       " ['Phoenicurus erythrogastrus'],\n",
       " ['Lepus oiostolus'],\n",
       " ['Prunella collaris'],\n",
       " ['Oenanthe deserti'],\n",
       " ['Bos grunniens mutus'],\n",
       " ['Phoenicurus ochruros'],\n",
       " ['Linaria flavirostris'],\n",
       " ['Pica bottanensis'],\n",
       " ['Procapra picticaudata'],\n",
       " ['Emberiza godlewskii'],\n",
       " ['Macaca mulatta'],\n",
       " ['Zoothera aurea', 'Zoothera dauma'],\n",
       " ['Prionailurus bengalensis'],\n",
       " ['Phoenicurus hodgsoni'],\n",
       " ['Felis manul'],\n",
       " ['Onychostruthus taczanowskii'],\n",
       " ['Mustela altaica'],\n",
       " ['Anser indicus'],\n",
       " ['Meles leucurus'],\n",
       " [],\n",
       " [],\n",
       " ['Poecile superciliosus'],\n",
       " ['Ianthocincla koslowi', 'Babax koslowi'],\n",
       " ['Upupa epops'],\n",
       " ['Ovis aries'],\n",
       " ['Corvus macrorhynchos'],\n",
       " [],\n",
       " ['Crossoptilon crossoptilon'],\n",
       " ['Ithaginis cruentus'],\n",
       " ['Uncia uncia'],\n",
       " ['Buteo burmanicus', 'Buteo refectus'],\n",
       " ['Pyrgilauda blanfordi'],\n",
       " ['Rusa unicolor'],\n",
       " ['Tadorna ferruginea'],\n",
       " ['Pseudois nayaur'],\n",
       " ['Bos grunniens'],\n",
       " ['Equus caballus'],\n",
       " ['Phoenicurus schisticeps'],\n",
       " ['Leucosticte nemoricola'],\n",
       " [],\n",
       " ['Alectoris chukar'],\n",
       " ['Eremophila alpestris'],\n",
       " ['Gypaetus barbatus'],\n",
       " ['Cervus elaphus'],\n",
       " ['Ovis darwini',\n",
       "  'Ovis collium',\n",
       "  'Ovis jubata',\n",
       "  'Ovis nigrimontana',\n",
       "  'Ovis hodgsoni',\n",
       "  'Ovis ammon'],\n",
       " ['Buteo hemilasius'],\n",
       " ['Turdus kessleri'],\n",
       " ['Anthus hodgsoni'],\n",
       " ['Ochotona erythrotis'],\n",
       " ['Lynx lynx'],\n",
       " [],\n",
       " ['Leptopoecile sophiae'],\n",
       " [],\n",
       " ['Gyps himalayensis'],\n",
       " ['Prunella rubeculoides'],\n",
       " ['Falco tinnunculus'],\n",
       " ['Tetraogallus tibetanus'],\n",
       " ['Pseudopodoces humilis'],\n",
       " ['Ursus thibetanus'],\n",
       " ['Naemorhedus griseus', 'Naemorhedus caudatus'],\n",
       " ['Cuculus canorus'],\n",
       " ['Leucosticte brandti'],\n",
       " ['Carpodacus puniceus'],\n",
       " ['Tichodroma muraria'],\n",
       " ['Cuon alpinus'],\n",
       " ['Marmota himalayana'],\n",
       " ['Pyrrhocorax pyrrhocorax'],\n",
       " ['Equus kiang'],\n",
       " ['Sus scrofa'],\n",
       " ['Bubo bubo']]"
      ]
     },
     "execution_count": 24,
     "metadata": {},
     "output_type": "execute_result"
    }
   ],
   "source": [
    "latin_name_list"
   ]
  },
  {
   "cell_type": "code",
   "execution_count": 25,
   "id": "9e99ee3c-4abd-4989-bd20-516175d61137",
   "metadata": {},
   "outputs": [],
   "source": [
    "# COL patch\n",
    "latin_name_patched = []\n",
    "for (i, names) in enumerate(latin_name_list):\n",
    "    if len(names) > 1:\n",
    "        # print(names)\n",
    "        names_patched = []\n",
    "        for name in names:\n",
    "            if df_col.filter(pl.col(\"scientificName\").eq(name)).is_empty():\n",
    "                pass\n",
    "            else:\n",
    "                names_patched.append(name)\n",
    "        latin_name_patched.append(names_patched)\n",
    "    else:\n",
    "        latin_name_patched.append(latin_name_list[i])"
   ]
  },
  {
   "cell_type": "code",
   "execution_count": 26,
   "id": "93cf019d-ec01-42a1-8909-9f3e7854b45a",
   "metadata": {},
   "outputs": [],
   "source": [
    "# output for edit\n",
    "import csv\n",
    "with open('taglist_to_be_edit.csv', 'w') as f:\n",
    "    writer = csv.writer(f)\n",
    "    writer.writerows(zip(tag_list, ['|'.join(names) for names in latin_name_patched]))"
   ]
  },
  {
   "cell_type": "code",
   "execution_count": 97,
   "id": "16703bf5-880c-4040-86c8-d3278a1ab4a7",
   "metadata": {},
   "outputs": [],
   "source": [
    "# Manual patch"
   ]
  },
  {
   "cell_type": "code",
   "execution_count": 27,
   "id": "cb8b7271-6b29-48fe-be42-df0cb7db1e8c",
   "metadata": {},
   "outputs": [
    {
     "data": {
      "text/html": [
       "<div><style>\n",
       ".dataframe > thead > tr,\n",
       ".dataframe > tbody > tr {\n",
       "  text-align: right;\n",
       "  white-space: pre-wrap;\n",
       "}\n",
       "</style>\n",
       "<small>shape: (1, 6)</small><table border=\"1\" class=\"dataframe\"><thead><tr><th>taxonID</th><th>parentID</th><th>rank</th><th>scientificName</th><th>status</th><th>colVernacularNameEN</th></tr><tr><td>str</td><td>str</td><td>cat</td><td>str</td><td>cat</td><td>list[str]</td></tr></thead><tbody><tr><td>&quot;TF6L&quot;</td><td>&quot;62M2T&quot;</td><td>&quot;species&quot;</td><td>&quot;Chaimarrornis leucocephalus&quot;</td><td>&quot;accepted&quot;</td><td>[&quot;white-capped redstart&quot;]</td></tr></tbody></table></div>"
      ],
      "text/plain": [
       "shape: (1, 6)\n",
       "┌─────────┬──────────┬─────────┬────────────────┬──────────┬───────────────────────────┐\n",
       "│ taxonID ┆ parentID ┆ rank    ┆ scientificName ┆ status   ┆ colVernacularNameEN       │\n",
       "│ ---     ┆ ---      ┆ ---     ┆ ---            ┆ ---      ┆ ---                       │\n",
       "│ str     ┆ str      ┆ cat     ┆ str            ┆ cat      ┆ list[str]                 │\n",
       "╞═════════╪══════════╪═════════╪════════════════╪══════════╪═══════════════════════════╡\n",
       "│ TF6L    ┆ 62M2T    ┆ species ┆ Chaimarrornis  ┆ accepted ┆ [\"white-capped redstart\"] │\n",
       "│         ┆          ┆         ┆ leucocephalus  ┆          ┆                           │\n",
       "└─────────┴──────────┴─────────┴────────────────┴──────────┴───────────────────────────┘"
      ]
     },
     "execution_count": 27,
     "metadata": {},
     "output_type": "execute_result"
    }
   ],
   "source": [
    "df_col.filter(pl.col(\"scientificName\").eq(\"Chaimarrornis leucocephalus\"))"
   ]
  },
  {
   "cell_type": "code",
   "execution_count": 31,
   "id": "536ecde4-d890-4efc-ae01-bc3f4da7a7e0",
   "metadata": {},
   "outputs": [
    {
     "data": {
      "text/html": [
       "<div><style>\n",
       ".dataframe > thead > tr,\n",
       ".dataframe > tbody > tr {\n",
       "  text-align: right;\n",
       "  white-space: pre-wrap;\n",
       "}\n",
       "</style>\n",
       "<small>shape: (1, 6)</small><table border=\"1\" class=\"dataframe\"><thead><tr><th>taxonID</th><th>parentID</th><th>rank</th><th>scientificName</th><th>status</th><th>colVernacularNameEN</th></tr><tr><td>str</td><td>str</td><td>cat</td><td>str</td><td>cat</td><td>list[str]</td></tr></thead><tbody><tr><td>&quot;4CGXR&quot;</td><td>&quot;6DBT&quot;</td><td>&quot;species&quot;</td><td>&quot;Panthera pardus&quot;</td><td>&quot;accepted&quot;</td><td>[&quot;leopard&quot;]</td></tr></tbody></table></div>"
      ],
      "text/plain": [
       "shape: (1, 6)\n",
       "┌─────────┬──────────┬─────────┬─────────────────┬──────────┬─────────────────────┐\n",
       "│ taxonID ┆ parentID ┆ rank    ┆ scientificName  ┆ status   ┆ colVernacularNameEN │\n",
       "│ ---     ┆ ---      ┆ ---     ┆ ---             ┆ ---      ┆ ---                 │\n",
       "│ str     ┆ str      ┆ cat     ┆ str             ┆ cat      ┆ list[str]           │\n",
       "╞═════════╪══════════╪═════════╪═════════════════╪══════════╪═════════════════════╡\n",
       "│ 4CGXR   ┆ 6DBT     ┆ species ┆ Panthera pardus ┆ accepted ┆ [\"leopard\"]         │\n",
       "└─────────┴──────────┴─────────┴─────────────────┴──────────┴─────────────────────┘"
      ]
     },
     "execution_count": 31,
     "metadata": {},
     "output_type": "execute_result"
    }
   ],
   "source": [
    "df_col.filter(pl.col(\"scientificName\").eq(\"Panthera pardus\"))"
   ]
  },
  {
   "cell_type": "code",
   "execution_count": 108,
   "id": "380639f8-a19c-4d2e-9d1c-5ad45513d65f",
   "metadata": {},
   "outputs": [
    {
     "data": {
      "text/html": [
       "<div><style>\n",
       ".dataframe > thead > tr,\n",
       ".dataframe > tbody > tr {\n",
       "  text-align: right;\n",
       "  white-space: pre-wrap;\n",
       "}\n",
       "</style>\n",
       "<small>shape: (2, 6)</small><table border=\"1\" class=\"dataframe\"><thead><tr><th>taxonID</th><th>parentID</th><th>col:rank</th><th>scientificName</th><th>status</th><th>colVernacularNameEN</th></tr><tr><td>str</td><td>str</td><td>str</td><td>str</td><td>str</td><td>list[str]</td></tr></thead><tbody><tr><td>&quot;Q9XF&quot;</td><td>&quot;Q9XD&quot;</td><td>&quot;species&quot;</td><td>&quot;Camelus ferus&quot;</td><td>&quot;ambiguous synonym&quot;</td><td>null</td></tr><tr><td>&quot;5WWKW&quot;</td><td>&quot;7JFKC&quot;</td><td>&quot;species&quot;</td><td>&quot;Camelus ferus&quot;</td><td>&quot;ambiguous synonym&quot;</td><td>null</td></tr></tbody></table></div>"
      ],
      "text/plain": [
       "shape: (2, 6)\n",
       "┌─────────┬──────────┬──────────┬────────────────┬───────────────────┬─────────────────────┐\n",
       "│ taxonID ┆ parentID ┆ col:rank ┆ scientificName ┆ status            ┆ colVernacularNameEN │\n",
       "│ ---     ┆ ---      ┆ ---      ┆ ---            ┆ ---               ┆ ---                 │\n",
       "│ str     ┆ str      ┆ str      ┆ str            ┆ str               ┆ list[str]           │\n",
       "╞═════════╪══════════╪══════════╪════════════════╪═══════════════════╪═════════════════════╡\n",
       "│ Q9XF    ┆ Q9XD     ┆ species  ┆ Camelus ferus  ┆ ambiguous synonym ┆ null                │\n",
       "│ 5WWKW   ┆ 7JFKC    ┆ species  ┆ Camelus ferus  ┆ ambiguous synonym ┆ null                │\n",
       "└─────────┴──────────┴──────────┴────────────────┴───────────────────┴─────────────────────┘"
      ]
     },
     "execution_count": 108,
     "metadata": {},
     "output_type": "execute_result"
    }
   ],
   "source": [
    "df_col.filter(pl.col(\"scientificName\").eq(\"Camelus ferus\"))"
   ]
  },
  {
   "cell_type": "code",
   "execution_count": 32,
   "id": "2523c3e6-23e2-4b85-9589-4a48030c9c23",
   "metadata": {},
   "outputs": [
    {
     "data": {
      "text/html": [
       "<div><style>\n",
       ".dataframe > thead > tr,\n",
       ".dataframe > tbody > tr {\n",
       "  text-align: right;\n",
       "  white-space: pre-wrap;\n",
       "}\n",
       "</style>\n",
       "<small>shape: (1, 6)</small><table border=\"1\" class=\"dataframe\"><thead><tr><th>taxonID</th><th>parentID</th><th>rank</th><th>scientificName</th><th>status</th><th>colVernacularNameEN</th></tr><tr><td>str</td><td>str</td><td>cat</td><td>str</td><td>cat</td><td>list[str]</td></tr></thead><tbody><tr><td>&quot;4N9HG&quot;</td><td>&quot;6Y7B&quot;</td><td>&quot;species&quot;</td><td>&quot;Przewalskium albirostre&quot;</td><td>&quot;accepted&quot;</td><td>null</td></tr></tbody></table></div>"
      ],
      "text/plain": [
       "shape: (1, 6)\n",
       "┌─────────┬──────────┬─────────┬─────────────────────────┬──────────┬─────────────────────┐\n",
       "│ taxonID ┆ parentID ┆ rank    ┆ scientificName          ┆ status   ┆ colVernacularNameEN │\n",
       "│ ---     ┆ ---      ┆ ---     ┆ ---                     ┆ ---      ┆ ---                 │\n",
       "│ str     ┆ str      ┆ cat     ┆ str                     ┆ cat      ┆ list[str]           │\n",
       "╞═════════╪══════════╪═════════╪═════════════════════════╪══════════╪═════════════════════╡\n",
       "│ 4N9HG   ┆ 6Y7B     ┆ species ┆ Przewalskium albirostre ┆ accepted ┆ null                │\n",
       "└─────────┴──────────┴─────────┴─────────────────────────┴──────────┴─────────────────────┘"
      ]
     },
     "execution_count": 32,
     "metadata": {},
     "output_type": "execute_result"
    }
   ],
   "source": [
    "df_col.filter(pl.col(\"taxonID\").eq(\"4N9HG\"))"
   ]
  },
  {
   "cell_type": "code",
   "execution_count": 64,
   "id": "0de0c391-84f7-4e99-8f94-eae9234cf7cb",
   "metadata": {},
   "outputs": [
    {
     "data": {
      "text/html": [
       "<div><style>\n",
       ".dataframe > thead > tr,\n",
       ".dataframe > tbody > tr {\n",
       "  text-align: right;\n",
       "  white-space: pre-wrap;\n",
       "}\n",
       "</style>\n",
       "<small>shape: (1, 6)</small><table border=\"1\" class=\"dataframe\"><thead><tr><th>taxonID</th><th>parentID</th><th>rank</th><th>scientificName</th><th>status</th><th>colVernacularNameEN</th></tr><tr><td>str</td><td>str</td><td>cat</td><td>str</td><td>cat</td><td>list[str]</td></tr></thead><tbody><tr><td>&quot;7KMF3&quot;</td><td>&quot;4HPXM&quot;</td><td>&quot;subspecies&quot;</td><td>&quot;Pica pica bottanensis&quot;</td><td>&quot;accepted&quot;</td><td>null</td></tr></tbody></table></div>"
      ],
      "text/plain": [
       "shape: (1, 6)\n",
       "┌─────────┬──────────┬────────────┬───────────────────────┬──────────┬─────────────────────┐\n",
       "│ taxonID ┆ parentID ┆ rank       ┆ scientificName        ┆ status   ┆ colVernacularNameEN │\n",
       "│ ---     ┆ ---      ┆ ---        ┆ ---                   ┆ ---      ┆ ---                 │\n",
       "│ str     ┆ str      ┆ cat        ┆ str                   ┆ cat      ┆ list[str]           │\n",
       "╞═════════╪══════════╪════════════╪═══════════════════════╪══════════╪═════════════════════╡\n",
       "│ 7KMF3   ┆ 4HPXM    ┆ subspecies ┆ Pica pica bottanensis ┆ accepted ┆ null                │\n",
       "└─────────┴──────────┴────────────┴───────────────────────┴──────────┴─────────────────────┘"
      ]
     },
     "execution_count": 64,
     "metadata": {},
     "output_type": "execute_result"
    }
   ],
   "source": [
    "df_col.filter(pl.col(\"scientificName\").eq(\"Pica pica bottanensis\"))"
   ]
  },
  {
   "cell_type": "code",
   "execution_count": 38,
   "id": "d13f2f65-3cd3-4ffc-8f90-23ca976664b7",
   "metadata": {},
   "outputs": [
    {
     "data": {
      "text/html": [
       "<div><style>\n",
       ".dataframe > thead > tr,\n",
       ".dataframe > tbody > tr {\n",
       "  text-align: right;\n",
       "  white-space: pre-wrap;\n",
       "}\n",
       "</style>\n",
       "<small>shape: (1, 6)</small><table border=\"1\" class=\"dataframe\"><thead><tr><th>taxonID</th><th>parentID</th><th>rank</th><th>scientificName</th><th>status</th><th>colVernacularNameEN</th></tr><tr><td>str</td><td>str</td><td>cat</td><td>str</td><td>cat</td><td>list[str]</td></tr></thead><tbody><tr><td>&quot;BP6VT&quot;</td><td>&quot;7F2KB&quot;</td><td>&quot;subspecies&quot;</td><td>&quot;Ursus arctos pruinosus&quot;</td><td>&quot;accepted&quot;</td><td>[&quot;brown bear&quot;]</td></tr></tbody></table></div>"
      ],
      "text/plain": [
       "shape: (1, 6)\n",
       "┌─────────┬──────────┬────────────┬────────────────────────┬──────────┬─────────────────────┐\n",
       "│ taxonID ┆ parentID ┆ rank       ┆ scientificName         ┆ status   ┆ colVernacularNameEN │\n",
       "│ ---     ┆ ---      ┆ ---        ┆ ---                    ┆ ---      ┆ ---                 │\n",
       "│ str     ┆ str      ┆ cat        ┆ str                    ┆ cat      ┆ list[str]           │\n",
       "╞═════════╪══════════╪════════════╪════════════════════════╪══════════╪═════════════════════╡\n",
       "│ BP6VT   ┆ 7F2KB    ┆ subspecies ┆ Ursus arctos pruinosus ┆ accepted ┆ [\"brown bear\"]      │\n",
       "└─────────┴──────────┴────────────┴────────────────────────┴──────────┴─────────────────────┘"
      ]
     },
     "execution_count": 38,
     "metadata": {},
     "output_type": "execute_result"
    }
   ],
   "source": [
    "df_col.filter(pl.col(\"scientificName\").eq(\"Ursus arctos pruinosus\"))"
   ]
  },
  {
   "cell_type": "code",
   "execution_count": 41,
   "id": "0f6fd14e-2488-46b5-a61d-55a90500b94f",
   "metadata": {},
   "outputs": [],
   "source": [
    "df_taglist_patched = pl.read_csv(\"./taglist_sciname.csv\", has_header=False).select([pl.col(\"column_1\").alias(\"tag\"), pl.col(\"column_2\").alias(\"scientificName\")])"
   ]
  },
  {
   "cell_type": "code",
   "execution_count": 42,
   "id": "cc3d81b8-2663-4003-b435-90530f7156ad",
   "metadata": {
    "scrolled": true
   },
   "outputs": [
    {
     "data": {
      "text/html": [
       "<div><style>\n",
       ".dataframe > thead > tr,\n",
       ".dataframe > tbody > tr {\n",
       "  text-align: right;\n",
       "  white-space: pre-wrap;\n",
       "}\n",
       "</style>\n",
       "<small>shape: (121, 2)</small><table border=\"1\" class=\"dataframe\"><thead><tr><th>tag</th><th>scientificName</th></tr><tr><td>str</td><td>str</td></tr></thead><tbody><tr><td>&quot;Eurasian sparrowhawk&quot;</td><td>&quot;Accipiter nisus&quot;</td></tr><tr><td>&quot;Chukar partridge&quot;</td><td>&quot;Alectoris chukar&quot;</td></tr><tr><td>&quot;Bar-headed goose&quot;</td><td>&quot;Anser indicus&quot;</td></tr><tr><td>&quot;Olive-backed pipit&quot;</td><td>&quot;Anthus hodgsoni&quot;</td></tr><tr><td>&quot;Golden eagle&quot;</td><td>&quot;Aquila chrysaetos&quot;</td></tr><tr><td>&hellip;</td><td>&hellip;</td></tr><tr><td>&quot;White-lipped deer&quot;</td><td>&quot;Przewalskium albirostre&quot;</td></tr><tr><td>&quot;Small rodents&quot;</td><td>&quot;Rodentia&quot;</td></tr><tr><td>&quot;Domestic camel&quot;</td><td>&quot;Camelus bactrianus&quot;</td></tr><tr><td>&quot;Tibetan brown bear&quot;</td><td>&quot;Ursus arctos pruinosus&quot;</td></tr><tr><td>&quot;Common leopard&quot;</td><td>&quot;Panthera pardus&quot;</td></tr></tbody></table></div>"
      ],
      "text/plain": [
       "shape: (121, 2)\n",
       "┌──────────────────────┬─────────────────────────┐\n",
       "│ tag                  ┆ scientificName          │\n",
       "│ ---                  ┆ ---                     │\n",
       "│ str                  ┆ str                     │\n",
       "╞══════════════════════╪═════════════════════════╡\n",
       "│ Eurasian sparrowhawk ┆ Accipiter nisus         │\n",
       "│ Chukar partridge     ┆ Alectoris chukar        │\n",
       "│ Bar-headed goose     ┆ Anser indicus           │\n",
       "│ Olive-backed pipit   ┆ Anthus hodgsoni         │\n",
       "│ Golden eagle         ┆ Aquila chrysaetos       │\n",
       "│ …                    ┆ …                       │\n",
       "│ White-lipped deer    ┆ Przewalskium albirostre │\n",
       "│ Small rodents        ┆ Rodentia                │\n",
       "│ Domestic camel       ┆ Camelus bactrianus      │\n",
       "│ Tibetan brown bear   ┆ Ursus arctos pruinosus  │\n",
       "│ Common leopard       ┆ Panthera pardus         │\n",
       "└──────────────────────┴─────────────────────────┘"
      ]
     },
     "execution_count": 42,
     "metadata": {},
     "output_type": "execute_result"
    }
   ],
   "source": [
    "df_taglist_patched"
   ]
  },
  {
   "cell_type": "code",
   "execution_count": 43,
   "id": "0454f30d-4a78-4333-b47c-c77ac75439ef",
   "metadata": {},
   "outputs": [],
   "source": [
    "df_shanshui_raw = pl.read_csv(shanshui_file)\n",
    "# Patch\n",
    "iucn_patch_dict = {\n",
    "    'LR/nt': 'NT',\n",
    "    'LR/LC': 'LC'\n",
    "}\n",
    "rcb_patch_dict = {\n",
    "    'Doubt:NT,VU,EN,CR': None\n",
    "}\n",
    "nationl_patch_dict = {\n",
    "    '?': None,\n",
    "    'Ⅰ': 'I'\n",
    "}\n",
    "\n",
    "df_shanshui_patch = df_shanshui_raw.select([\n",
    "    pl.col(\"SpeciesID\").alias(\"shanshuiTaxonID\"),\n",
    "    pl.col(\"ChineseName\").alias(\"shanshuiVernacularNameCN\"),\n",
    "    pl.col(\"ScientificName\").alias(\"scientificName\"),\n",
    "    pl.col(\"ClassCN\").alias(\"shanshuiClassCN\"),\n",
    "    pl.col(\"OrderCN\").alias(\"shanshuiOrderCN\"),\n",
    "    pl.col(\"FamilyCN\").alias(\"shanshuiFamilyCN\"),\n",
    "    pl.col(\"GenusCN\").alias(\"shanshuiGenusCN\"),\n",
    "    pl.col(\"IUCN\").replace(iucn_patch_dict).alias(\"protectLevelIUCN\"),\n",
    "    pl.col(\"RCB\").replace(rcb_patch_dict).alias(\"protectLevelRCB\"),\n",
    "    pl.col(\"NationalKey\").replace(nationl_patch_dict).alias(\"protectLevelNationalKey\"),\n",
    "])"
   ]
  },
  {
   "cell_type": "code",
   "execution_count": 44,
   "id": "d4e9a9f9-ffd1-413a-bb1e-5f8494c1f7ae",
   "metadata": {},
   "outputs": [],
   "source": [
    "# Patch scientific name in shanshui data to COL\n",
    "df_shanshui_col_patch = df_shanshui_patch.join(df_col, on=\"scientificName\", how=\"left\")"
   ]
  },
  {
   "cell_type": "code",
   "execution_count": 96,
   "id": "2e79491c-4796-4e87-8fe5-d203d9c09264",
   "metadata": {},
   "outputs": [
    {
     "data": {
      "text/html": [
       "<div><style>\n",
       ".dataframe > thead > tr,\n",
       ".dataframe > tbody > tr {\n",
       "  text-align: right;\n",
       "  white-space: pre-wrap;\n",
       "}\n",
       "</style>\n",
       "<small>shape: (1, 15)</small><table border=\"1\" class=\"dataframe\"><thead><tr><th>shanshuiTaxonID</th><th>shanshuiVernacularNameCN</th><th>scientificName</th><th>shanshuiClassCN</th><th>shanshuiOrderCN</th><th>shanshuiFamilyCN</th><th>shanshuiGenusCN</th><th>protectLevelIUCN</th><th>protectLevelRCB</th><th>protectLevelNationalKey</th><th>taxonID</th><th>parentID</th><th>rank</th><th>status</th><th>colVernacularNameEN</th></tr><tr><td>str</td><td>str</td><td>str</td><td>str</td><td>str</td><td>str</td><td>str</td><td>str</td><td>str</td><td>str</td><td>str</td><td>str</td><td>str</td><td>str</td><td>list[str]</td></tr></thead><tbody><tr><td>&quot;MA0310&quot;</td><td>&quot;雪豹&quot;</td><td>&quot;Panthera uncia&quot;</td><td>&quot;哺乳纲&quot;</td><td>&quot;食肉目&quot;</td><td>&quot;猫科&quot;</td><td>&quot;豹属&quot;</td><td>&quot;VU&quot;</td><td>&quot;EN&quot;</td><td>&quot;I&quot;</td><td>&quot;4CGXT&quot;</td><td>&quot;7DHJ4&quot;</td><td>&quot;species&quot;</td><td>&quot;synonym&quot;</td><td>null</td></tr></tbody></table></div>"
      ],
      "text/plain": [
       "shape: (1, 15)\n",
       "┌────────────┬────────────┬────────────┬────────────┬───┬──────────┬─────────┬─────────┬───────────┐\n",
       "│ shanshuiTa ┆ shanshuiVe ┆ scientific ┆ shanshuiCl ┆ … ┆ parentID ┆ rank    ┆ status  ┆ colVernac │\n",
       "│ xonID      ┆ rnacularNa ┆ Name       ┆ assCN      ┆   ┆ ---      ┆ ---     ┆ ---     ┆ ularNameE │\n",
       "│ ---        ┆ meCN       ┆ ---        ┆ ---        ┆   ┆ str      ┆ str     ┆ str     ┆ N         │\n",
       "│ str        ┆ ---        ┆ str        ┆ str        ┆   ┆          ┆         ┆         ┆ ---       │\n",
       "│            ┆ str        ┆            ┆            ┆   ┆          ┆         ┆         ┆ list[str] │\n",
       "╞════════════╪════════════╪════════════╪════════════╪═══╪══════════╪═════════╪═════════╪═══════════╡\n",
       "│ MA0310     ┆ 雪豹       ┆ Panthera   ┆ 哺乳纲     ┆ … ┆ 7DHJ4    ┆ species ┆ synonym ┆ null      │\n",
       "│            ┆            ┆ uncia      ┆            ┆   ┆          ┆         ┆         ┆           │\n",
       "└────────────┴────────────┴────────────┴────────────┴───┴──────────┴─────────┴─────────┴───────────┘"
      ]
     },
     "execution_count": 96,
     "metadata": {},
     "output_type": "execute_result"
    }
   ],
   "source": [
    "df_shanshui_col_patch.filter(pl.col(\"shanshuiVernacularNameCN\") == \"雪豹\")"
   ]
  },
  {
   "cell_type": "code",
   "execution_count": 59,
   "id": "69ac3413-f025-44bb-a519-ed9e1381c5d6",
   "metadata": {
    "scrolled": true
   },
   "outputs": [],
   "source": [
    "df_shanshui_synonym = df_shanshui_col_patch.filter(pl.col(\"status\").eq(\"synonym\"))\n",
    "\n",
    "synonym_parent_id = df_shanshui_synonym.get_column(\"parentID\")\n",
    "synonym_scientific_names = []\n",
    "for id in synonym_parent_id:\n",
    "    synonym_scientific_names.append(df_col.filter(pl.col(\"taxonID\").eq(id)).get_column(\"scientificName\")[0])\n",
    "\n",
    "df_shanshui_synonym = df_shanshui_synonym.with_columns([\n",
    "    pl.Series(synonym_scientific_names).alias(\"scientificName\"),\n",
    "    pl.lit(\"accepted\").alias(\"status\")])\n"
   ]
  },
  {
   "cell_type": "code",
   "execution_count": 57,
   "id": "9bd19f5e-8179-4a04-b44b-27eb2e7e254c",
   "metadata": {},
   "outputs": [
    {
     "data": {
      "text/html": [
       "<div><style>\n",
       ".dataframe > thead > tr,\n",
       ".dataframe > tbody > tr {\n",
       "  text-align: right;\n",
       "  white-space: pre-wrap;\n",
       "}\n",
       "</style>\n",
       "<small>shape: (303, 15)</small><table border=\"1\" class=\"dataframe\"><thead><tr><th>shanshuiTaxonID</th><th>shanshuiVernacularNameCN</th><th>scientificName</th><th>shanshuiClassCN</th><th>shanshuiOrderCN</th><th>shanshuiFamilyCN</th><th>shanshuiGenusCN</th><th>protectLevelIUCN</th><th>protectLevelRCB</th><th>protectLevelNationalKey</th><th>taxonID</th><th>parentID</th><th>rank</th><th>status</th><th>colVernacularNameEN</th></tr><tr><td>str</td><td>str</td><td>str</td><td>str</td><td>str</td><td>str</td><td>str</td><td>str</td><td>str</td><td>str</td><td>str</td><td>str</td><td>cat</td><td>cat</td><td>list[str]</td></tr></thead><tbody><tr><td>&quot;AM0010&quot;</td><td>&quot;观雾小鲵&quot;</td><td>&quot;Hynobius fucus&quot;</td><td>&quot;两栖纲&quot;</td><td>&quot;有尾目&quot;</td><td>&quot;小鲵科&quot;</td><td>&quot;小鲵属&quot;</td><td>null</td><td>&quot;EN&quot;</td><td>&quot;II&quot;</td><td>&quot;3NLTG&quot;</td><td>&quot;3NLTH&quot;</td><td>&quot;species&quot;</td><td>&quot;accepted&quot;</td><td>null</td></tr><tr><td>&quot;AM0014&quot;</td><td>&quot;普雄原鲵&quot;</td><td>&quot;Pseudohynobius puxiongensis&quot;</td><td>&quot;两栖纲&quot;</td><td>&quot;有尾目&quot;</td><td>&quot;小鲵科&quot;</td><td>&quot;原鲵属&quot;</td><td>null</td><td>&quot;CR&quot;</td><td>&quot;I&quot;</td><td>&quot;4N5MM&quot;</td><td>&quot;6WFRC&quot;</td><td>&quot;species&quot;</td><td>&quot;accepted&quot;</td><td>null</td></tr><tr><td>&quot;AM0026&quot;</td><td>&quot;弱唇褶山溪鲵&quot;</td><td>&quot;Batrachuperus pinchonii&quot;</td><td>&quot;两栖纲&quot;</td><td>&quot;有尾目&quot;</td><td>&quot;小鲵科&quot;</td><td>&quot;山溪鲵属&quot;</td><td>null</td><td>&quot;DD&quot;</td><td>&quot;II&quot;</td><td>&quot;KZSJ&quot;</td><td>&quot;KZSQ&quot;</td><td>&quot;species&quot;</td><td>&quot;accepted&quot;</td><td>null</td></tr><tr><td>&quot;AM0035&quot;</td><td>&quot;丽色疣螈&quot;</td><td>&quot;Tylototriton shanjing&quot;</td><td>&quot;两栖纲&quot;</td><td>&quot;有尾目&quot;</td><td>&quot;蝾螈科&quot;</td><td>&quot;疣螈属&quot;</td><td>null</td><td>&quot;NT&quot;</td><td>&quot;II&quot;</td><td>&quot;7DBM2&quot;</td><td>&quot;7DBLR&quot;</td><td>&quot;species&quot;</td><td>&quot;accepted&quot;</td><td>null</td></tr><tr><td>&quot;AM0039&quot;</td><td>&quot;宽脊瑶螈&quot;</td><td>&quot;Tylototriton broadoridgus&quot;</td><td>&quot;两栖纲&quot;</td><td>&quot;有尾目&quot;</td><td>&quot;蝾螈科&quot;</td><td>&quot;瑶螈属&quot;</td><td>null</td><td>&quot;NT&quot;</td><td>&quot;II&quot;</td><td>&quot;5CR6W&quot;</td><td>&quot;7DBLM&quot;</td><td>&quot;species&quot;</td><td>&quot;accepted&quot;</td><td>null</td></tr><tr><td>&hellip;</td><td>&hellip;</td><td>&hellip;</td><td>&hellip;</td><td>&hellip;</td><td>&hellip;</td><td>&hellip;</td><td>&hellip;</td><td>&hellip;</td><td>&hellip;</td><td>&hellip;</td><td>&hellip;</td><td>&hellip;</td><td>&hellip;</td><td>&hellip;</td></tr><tr><td>&quot;MA0284&quot;</td><td>&quot;小爪水獭&quot;</td><td>&quot;Amblonyx cinereus cinereus&quot;</td><td>&quot;哺乳纲&quot;</td><td>&quot;食肉目&quot;</td><td>&quot;鼬科&quot;</td><td>&quot;小爪水獭属&quot;</td><td>&quot;VU&quot;</td><td>&quot;EN&quot;</td><td>&quot;II&quot;</td><td>&quot;67L4L&quot;</td><td>&quot;5FJW6&quot;</td><td>&quot;species&quot;</td><td>&quot;accepted&quot;</td><td>null</td></tr><tr><td>&quot;AV1216&quot;</td><td>&quot;西域山雀&quot;</td><td>&quot;Parus major bokharensis&quot;</td><td>&quot;鸟纲&quot;</td><td>&quot;雀形目&quot;</td><td>&quot;山雀科&quot;</td><td>&quot;山雀属&quot;</td><td>null</td><td>&quot;LC&quot;</td><td>null</td><td>&quot;75SVT&quot;</td><td>&quot;BNSLH&quot;</td><td>&quot;species&quot;</td><td>&quot;accepted&quot;</td><td>null</td></tr><tr><td>&quot;MA0412&quot;</td><td>&quot;长吻真海豚&quot;</td><td>&quot;Delphinus delphis&quot;</td><td>&quot;哺乳纲&quot;</td><td>&quot;鲸目&quot;</td><td>&quot;海豚科&quot;</td><td>&quot;真海豚属&quot;</td><td>&quot;DD&quot;</td><td>&quot;DD&quot;</td><td>&quot;II&quot;</td><td>&quot;34JWC&quot;</td><td>&quot;34JWM&quot;</td><td>&quot;species&quot;</td><td>&quot;accepted&quot;</td><td>null</td></tr><tr><td>&quot;AV0142&quot;</td><td>&quot;渔雕&quot;</td><td>&quot;Icthyophaga humilis&quot;</td><td>&quot;鸟纲&quot;</td><td>&quot;鹰形目&quot;</td><td>&quot;鹰科&quot;</td><td>&quot;渔鵰属&quot;</td><td>&quot;NT&quot;</td><td>&quot;NT&quot;</td><td>&quot;II&quot;</td><td>&quot;6N5SQ&quot;</td><td>&quot;6MTX3&quot;</td><td>&quot;species&quot;</td><td>&quot;accepted&quot;</td><td>null</td></tr><tr><td>&quot;RE0018&quot;</td><td>&quot;凹甲陆龟&quot;</td><td>&quot;Manouria impressa&quot;</td><td>&quot;爬行纲&quot;</td><td>&quot;龟鳖目&quot;</td><td>&quot;陆龟科&quot;</td><td>&quot;凹甲陆龟属&quot;</td><td>&quot;EN&quot;</td><td>&quot;CR&quot;</td><td>&quot;I&quot;</td><td>&quot;88L6B&quot;</td><td>&quot;3XW2F&quot;</td><td>&quot;species&quot;</td><td>&quot;accepted&quot;</td><td>null</td></tr></tbody></table></div>"
      ],
      "text/plain": [
       "shape: (303, 15)\n",
       "┌────────────┬────────────┬────────────┬───────────┬───┬──────────┬─────────┬──────────┬───────────┐\n",
       "│ shanshuiTa ┆ shanshuiVe ┆ scientific ┆ shanshuiC ┆ … ┆ parentID ┆ rank    ┆ status   ┆ colVernac │\n",
       "│ xonID      ┆ rnacularNa ┆ Name       ┆ lassCN    ┆   ┆ ---      ┆ ---     ┆ ---      ┆ ularNameE │\n",
       "│ ---        ┆ meCN       ┆ ---        ┆ ---       ┆   ┆ str      ┆ cat     ┆ cat      ┆ N         │\n",
       "│ str        ┆ ---        ┆ str        ┆ str       ┆   ┆          ┆         ┆          ┆ ---       │\n",
       "│            ┆ str        ┆            ┆           ┆   ┆          ┆         ┆          ┆ list[str] │\n",
       "╞════════════╪════════════╪════════════╪═══════════╪═══╪══════════╪═════════╪══════════╪═══════════╡\n",
       "│ AM0010     ┆ 观雾小鲵   ┆ Hynobius   ┆ 两栖纲    ┆ … ┆ 3NLTH    ┆ species ┆ accepted ┆ null      │\n",
       "│            ┆            ┆ fucus      ┆           ┆   ┆          ┆         ┆          ┆           │\n",
       "│ AM0014     ┆ 普雄原鲵   ┆ Pseudohyno ┆ 两栖纲    ┆ … ┆ 6WFRC    ┆ species ┆ accepted ┆ null      │\n",
       "│            ┆            ┆ bius puxio ┆           ┆   ┆          ┆         ┆          ┆           │\n",
       "│            ┆            ┆ ngensis    ┆           ┆   ┆          ┆         ┆          ┆           │\n",
       "│ AM0026     ┆ 弱唇褶山溪 ┆ Batrachupe ┆ 两栖纲    ┆ … ┆ KZSQ     ┆ species ┆ accepted ┆ null      │\n",
       "│            ┆ 鲵         ┆ rus        ┆           ┆   ┆          ┆         ┆          ┆           │\n",
       "│            ┆            ┆ pinchonii  ┆           ┆   ┆          ┆         ┆          ┆           │\n",
       "│ AM0035     ┆ 丽色疣螈   ┆ Tylototrit ┆ 两栖纲    ┆ … ┆ 7DBLR    ┆ species ┆ accepted ┆ null      │\n",
       "│            ┆            ┆ on         ┆           ┆   ┆          ┆         ┆          ┆           │\n",
       "│            ┆            ┆ shanjing   ┆           ┆   ┆          ┆         ┆          ┆           │\n",
       "│ AM0039     ┆ 宽脊瑶螈   ┆ Tylototrit ┆ 两栖纲    ┆ … ┆ 7DBLM    ┆ species ┆ accepted ┆ null      │\n",
       "│            ┆            ┆ on broador ┆           ┆   ┆          ┆         ┆          ┆           │\n",
       "│            ┆            ┆ idgus      ┆           ┆   ┆          ┆         ┆          ┆           │\n",
       "│ …          ┆ …          ┆ …          ┆ …         ┆ … ┆ …        ┆ …       ┆ …        ┆ …         │\n",
       "│ MA0284     ┆ 小爪水獭   ┆ Amblonyx   ┆ 哺乳纲    ┆ … ┆ 5FJW6    ┆ species ┆ accepted ┆ null      │\n",
       "│            ┆            ┆ cinereus   ┆           ┆   ┆          ┆         ┆          ┆           │\n",
       "│            ┆            ┆ cinereus   ┆           ┆   ┆          ┆         ┆          ┆           │\n",
       "│ AV1216     ┆ 西域山雀   ┆ Parus      ┆ 鸟纲      ┆ … ┆ BNSLH    ┆ species ┆ accepted ┆ null      │\n",
       "│            ┆            ┆ major bokh ┆           ┆   ┆          ┆         ┆          ┆           │\n",
       "│            ┆            ┆ arensis    ┆           ┆   ┆          ┆         ┆          ┆           │\n",
       "│ MA0412     ┆ 长吻真海豚 ┆ Delphinus  ┆ 哺乳纲    ┆ … ┆ 34JWM    ┆ species ┆ accepted ┆ null      │\n",
       "│            ┆            ┆ delphis    ┆           ┆   ┆          ┆         ┆          ┆           │\n",
       "│ AV0142     ┆ 渔雕       ┆ Icthyophag ┆ 鸟纲      ┆ … ┆ 6MTX3    ┆ species ┆ accepted ┆ null      │\n",
       "│            ┆            ┆ a humilis  ┆           ┆   ┆          ┆         ┆          ┆           │\n",
       "│ RE0018     ┆ 凹甲陆龟   ┆ Manouria   ┆ 爬行纲    ┆ … ┆ 3XW2F    ┆ species ┆ accepted ┆ null      │\n",
       "│            ┆            ┆ impressa   ┆           ┆   ┆          ┆         ┆          ┆           │\n",
       "└────────────┴────────────┴────────────┴───────────┴───┴──────────┴─────────┴──────────┴───────────┘"
      ]
     },
     "execution_count": 57,
     "metadata": {},
     "output_type": "execute_result"
    }
   ],
   "source": [
    "df_shanshui_synonym"
   ]
  },
  {
   "cell_type": "code",
   "execution_count": 98,
   "id": "41695b27-8fe1-47f0-8dfb-ff21e674f14b",
   "metadata": {},
   "outputs": [
    {
     "data": {
      "text/html": [
       "<div><style>\n",
       ".dataframe > thead > tr,\n",
       ".dataframe > tbody > tr {\n",
       "  text-align: right;\n",
       "  white-space: pre-wrap;\n",
       "}\n",
       "</style>\n",
       "<small>shape: (1, 15)</small><table border=\"1\" class=\"dataframe\"><thead><tr><th>shanshuiTaxonID</th><th>shanshuiVernacularNameCN</th><th>scientificName</th><th>shanshuiClassCN</th><th>shanshuiOrderCN</th><th>shanshuiFamilyCN</th><th>shanshuiGenusCN</th><th>protectLevelIUCN</th><th>protectLevelRCB</th><th>protectLevelNationalKey</th><th>taxonID</th><th>parentID</th><th>rank</th><th>status</th><th>colVernacularNameEN</th></tr><tr><td>str</td><td>str</td><td>str</td><td>str</td><td>str</td><td>str</td><td>str</td><td>str</td><td>str</td><td>str</td><td>str</td><td>str</td><td>str</td><td>str</td><td>list[str]</td></tr></thead><tbody><tr><td>&quot;MA0310&quot;</td><td>&quot;雪豹&quot;</td><td>&quot;Uncia uncia&quot;</td><td>&quot;哺乳纲&quot;</td><td>&quot;食肉目&quot;</td><td>&quot;猫科&quot;</td><td>&quot;豹属&quot;</td><td>&quot;VU&quot;</td><td>&quot;EN&quot;</td><td>&quot;I&quot;</td><td>&quot;4CGXT&quot;</td><td>&quot;7DHJ4&quot;</td><td>&quot;species&quot;</td><td>&quot;accepted&quot;</td><td>null</td></tr></tbody></table></div>"
      ],
      "text/plain": [
       "shape: (1, 15)\n",
       "┌────────────┬────────────┬────────────┬───────────┬───┬──────────┬─────────┬──────────┬───────────┐\n",
       "│ shanshuiTa ┆ shanshuiVe ┆ scientific ┆ shanshuiC ┆ … ┆ parentID ┆ rank    ┆ status   ┆ colVernac │\n",
       "│ xonID      ┆ rnacularNa ┆ Name       ┆ lassCN    ┆   ┆ ---      ┆ ---     ┆ ---      ┆ ularNameE │\n",
       "│ ---        ┆ meCN       ┆ ---        ┆ ---       ┆   ┆ str      ┆ str     ┆ str      ┆ N         │\n",
       "│ str        ┆ ---        ┆ str        ┆ str       ┆   ┆          ┆         ┆          ┆ ---       │\n",
       "│            ┆ str        ┆            ┆           ┆   ┆          ┆         ┆          ┆ list[str] │\n",
       "╞════════════╪════════════╪════════════╪═══════════╪═══╪══════════╪═════════╪══════════╪═══════════╡\n",
       "│ MA0310     ┆ 雪豹       ┆ Uncia      ┆ 哺乳纲    ┆ … ┆ 7DHJ4    ┆ species ┆ accepted ┆ null      │\n",
       "│            ┆            ┆ uncia      ┆           ┆   ┆          ┆         ┆          ┆           │\n",
       "└────────────┴────────────┴────────────┴───────────┴───┴──────────┴─────────┴──────────┴───────────┘"
      ]
     },
     "execution_count": 98,
     "metadata": {},
     "output_type": "execute_result"
    }
   ],
   "source": [
    "df_shanshui_synonym.filter(pl.col(\"shanshuiVernacularNameCN\") == \"雪豹\")"
   ]
  },
  {
   "cell_type": "code",
   "execution_count": 47,
   "id": "623141ae-187c-4b0c-ab32-f12d5cbbbe20",
   "metadata": {},
   "outputs": [
    {
     "data": {
      "text/html": [
       "<div><style>\n",
       ".dataframe > thead > tr,\n",
       ".dataframe > tbody > tr {\n",
       "  text-align: right;\n",
       "  white-space: pre-wrap;\n",
       "}\n",
       "</style>\n",
       "<small>shape: (3_226, 15)</small><table border=\"1\" class=\"dataframe\"><thead><tr><th>shanshuiTaxonID</th><th>shanshuiVernacularNameCN</th><th>scientificName</th><th>shanshuiClassCN</th><th>shanshuiOrderCN</th><th>shanshuiFamilyCN</th><th>shanshuiGenusCN</th><th>protectLevelIUCN</th><th>protectLevelRCB</th><th>protectLevelNationalKey</th><th>taxonID</th><th>parentID</th><th>rank</th><th>status</th><th>colVernacularNameEN</th></tr><tr><td>str</td><td>str</td><td>str</td><td>str</td><td>str</td><td>str</td><td>str</td><td>str</td><td>str</td><td>str</td><td>str</td><td>str</td><td>cat</td><td>cat</td><td>list[str]</td></tr></thead><tbody><tr><td>&quot;AM0009&quot;</td><td>&quot;台湾小鲵&quot;</td><td>&quot;Hynobius formosanus&quot;</td><td>&quot;两栖纲&quot;</td><td>&quot;有尾目&quot;</td><td>&quot;小鲵科&quot;</td><td>&quot;小鲵属&quot;</td><td>&quot;EN&quot;</td><td>&quot;EN&quot;</td><td>&quot;II&quot;</td><td>&quot;6N2LH&quot;</td><td>&quot;529J&quot;</td><td>&quot;species&quot;</td><td>&quot;accepted&quot;</td><td>null</td></tr><tr><td>&quot;AM0012&quot;</td><td>&quot;楚南小鲵&quot;</td><td>&quot;Hynobius sonani&quot;</td><td>&quot;两栖纲&quot;</td><td>&quot;有尾目&quot;</td><td>&quot;小鲵科&quot;</td><td>&quot;小鲵属&quot;</td><td>&quot;EN&quot;</td><td>&quot;EN&quot;</td><td>&quot;II&quot;</td><td>&quot;6MQL8&quot;</td><td>&quot;529J&quot;</td><td>&quot;species&quot;</td><td>&quot;accepted&quot;</td><td>null</td></tr><tr><td>&quot;AM0021&quot;</td><td>&quot;辽宁爪鲵&quot;</td><td>&quot;Onychodactylus zhaoermii&quot;</td><td>&quot;两栖纲&quot;</td><td>&quot;有尾目&quot;</td><td>&quot;小鲵科&quot;</td><td>&quot;爪鲵属&quot;</td><td>null</td><td>&quot;CR&quot;</td><td>&quot;I&quot;</td><td>&quot;49R6N&quot;</td><td>&quot;68FG&quot;</td><td>&quot;species&quot;</td><td>&quot;accepted&quot;</td><td>null</td></tr><tr><td>&quot;AM0013&quot;</td><td>&quot;商城肥鲵&quot;</td><td>&quot;Pachyhynobius shangchengensis&quot;</td><td>&quot;两栖纲&quot;</td><td>&quot;有尾目&quot;</td><td>&quot;小鲵科&quot;</td><td>&quot;肥鲵属&quot;</td><td>&quot;VU&quot;</td><td>&quot;VU&quot;</td><td>null</td><td>&quot;75HVH&quot;</td><td>&quot;6BTW&quot;</td><td>&quot;species&quot;</td><td>&quot;accepted&quot;</td><td>null</td></tr><tr><td>&quot;AM0022&quot;</td><td>&quot;吉林爪鲵&quot;</td><td>&quot;Onychodactylus zhangyapingi&quot;</td><td>&quot;两栖纲&quot;</td><td>&quot;有尾目&quot;</td><td>&quot;小鲵科&quot;</td><td>&quot;爪鲵属&quot;</td><td>&quot;DD&quot;</td><td>&quot;VU&quot;</td><td>&quot;II&quot;</td><td>&quot;49R6M&quot;</td><td>&quot;68FG&quot;</td><td>&quot;species&quot;</td><td>&quot;accepted&quot;</td><td>null</td></tr><tr><td>&hellip;</td><td>&hellip;</td><td>&hellip;</td><td>&hellip;</td><td>&hellip;</td><td>&hellip;</td><td>&hellip;</td><td>&hellip;</td><td>&hellip;</td><td>&hellip;</td><td>&hellip;</td><td>&hellip;</td><td>&hellip;</td><td>&hellip;</td><td>&hellip;</td></tr><tr><td>&quot;RE0018&quot;</td><td>&quot;凹甲陆龟&quot;</td><td>&quot;Manouria impressa&quot;</td><td>&quot;爬行纲&quot;</td><td>&quot;龟鳖目&quot;</td><td>&quot;陆龟科&quot;</td><td>&quot;凹甲陆龟属&quot;</td><td>&quot;EN&quot;</td><td>&quot;CR&quot;</td><td>&quot;I&quot;</td><td>&quot;3XW2F&quot;</td><td>&quot;5KYC&quot;</td><td>&quot;species&quot;</td><td>&quot;accepted&quot;</td><td>[&quot;impressed tortoise&quot;]</td></tr><tr><td>&quot;RE0018&quot;</td><td>&quot;凹甲陆龟&quot;</td><td>&quot;Manouria impressa&quot;</td><td>&quot;爬行纲&quot;</td><td>&quot;龟鳖目&quot;</td><td>&quot;陆龟科&quot;</td><td>&quot;凹甲陆龟属&quot;</td><td>&quot;EN&quot;</td><td>&quot;CR&quot;</td><td>&quot;I&quot;</td><td>&quot;88L6B&quot;</td><td>&quot;3XW2F&quot;</td><td>&quot;species&quot;</td><td>&quot;synonym&quot;</td><td>null</td></tr><tr><td>&quot;RE0071&quot;</td><td>&quot;大壁虎&quot;</td><td>&quot;Gekko gecko&quot;</td><td>&quot;爬行纲&quot;</td><td>&quot;有鳞目&quot;</td><td>&quot;壁虎科&quot;</td><td>&quot;壁虎属&quot;</td><td>&quot;LC&quot;</td><td>&quot;CR&quot;</td><td>&quot;II&quot;</td><td>&quot;3FH5H&quot;</td><td>&quot;4MLL&quot;</td><td>&quot;species&quot;</td><td>&quot;accepted&quot;</td><td>[&quot;tokay gecko&quot;, &quot;tokeh-tokeh&quot;, &quot;tuctoo&quot;]</td></tr><tr><td>&quot;MA0260&quot;</td><td>&quot;亚洲黑熊&quot;</td><td>&quot;Ursus thibetanus&quot;</td><td>&quot;哺乳纲&quot;</td><td>&quot;食肉目&quot;</td><td>&quot;熊科&quot;</td><td>&quot;熊属&quot;</td><td>&quot;VU&quot;</td><td>&quot;VU&quot;</td><td>&quot;II&quot;</td><td>&quot;7F2JC&quot;</td><td>&quot;63VHR&quot;</td><td>&quot;species&quot;</td><td>&quot;accepted&quot;</td><td>[&quot;asian black bear&quot;, &quot;asiatic black bear&quot;]</td></tr><tr><td>&quot;AM0032&quot;</td><td>&quot;中国大鲵&quot;</td><td>&quot;Andrias davidianus&quot;</td><td>&quot;两栖纲&quot;</td><td>&quot;有尾目&quot;</td><td>&quot;隐鳃鲵科&quot;</td><td>&quot;大鲵属&quot;</td><td>&quot;CR&quot;</td><td>&quot;CR&quot;</td><td>&quot;II&quot;</td><td>&quot;DTJQ&quot;</td><td>&quot;VTF&quot;</td><td>&quot;species&quot;</td><td>&quot;accepted&quot;</td><td>[&quot;chinese giant salamander&quot;]</td></tr></tbody></table></div>"
      ],
      "text/plain": [
       "shape: (3_226, 15)\n",
       "┌────────────┬────────────┬────────────┬───────────┬───┬──────────┬─────────┬──────────┬───────────┐\n",
       "│ shanshuiTa ┆ shanshuiVe ┆ scientific ┆ shanshuiC ┆ … ┆ parentID ┆ rank    ┆ status   ┆ colVernac │\n",
       "│ xonID      ┆ rnacularNa ┆ Name       ┆ lassCN    ┆   ┆ ---      ┆ ---     ┆ ---      ┆ ularNameE │\n",
       "│ ---        ┆ meCN       ┆ ---        ┆ ---       ┆   ┆ str      ┆ cat     ┆ cat      ┆ N         │\n",
       "│ str        ┆ ---        ┆ str        ┆ str       ┆   ┆          ┆         ┆          ┆ ---       │\n",
       "│            ┆ str        ┆            ┆           ┆   ┆          ┆         ┆          ┆ list[str] │\n",
       "╞════════════╪════════════╪════════════╪═══════════╪═══╪══════════╪═════════╪══════════╪═══════════╡\n",
       "│ AM0009     ┆ 台湾小鲵   ┆ Hynobius   ┆ 两栖纲    ┆ … ┆ 529J     ┆ species ┆ accepted ┆ null      │\n",
       "│            ┆            ┆ formosanus ┆           ┆   ┆          ┆         ┆          ┆           │\n",
       "│ AM0012     ┆ 楚南小鲵   ┆ Hynobius   ┆ 两栖纲    ┆ … ┆ 529J     ┆ species ┆ accepted ┆ null      │\n",
       "│            ┆            ┆ sonani     ┆           ┆   ┆          ┆         ┆          ┆           │\n",
       "│ AM0021     ┆ 辽宁爪鲵   ┆ Onychodact ┆ 两栖纲    ┆ … ┆ 68FG     ┆ species ┆ accepted ┆ null      │\n",
       "│            ┆            ┆ ylus       ┆           ┆   ┆          ┆         ┆          ┆           │\n",
       "│            ┆            ┆ zhaoermii  ┆           ┆   ┆          ┆         ┆          ┆           │\n",
       "│ AM0013     ┆ 商城肥鲵   ┆ Pachyhynob ┆ 两栖纲    ┆ … ┆ 6BTW     ┆ species ┆ accepted ┆ null      │\n",
       "│            ┆            ┆ ius shangc ┆           ┆   ┆          ┆         ┆          ┆           │\n",
       "│            ┆            ┆ hengensis  ┆           ┆   ┆          ┆         ┆          ┆           │\n",
       "│ AM0022     ┆ 吉林爪鲵   ┆ Onychodact ┆ 两栖纲    ┆ … ┆ 68FG     ┆ species ┆ accepted ┆ null      │\n",
       "│            ┆            ┆ ylus zhang ┆           ┆   ┆          ┆         ┆          ┆           │\n",
       "│            ┆            ┆ yapingi    ┆           ┆   ┆          ┆         ┆          ┆           │\n",
       "│ …          ┆ …          ┆ …          ┆ …         ┆ … ┆ …        ┆ …       ┆ …        ┆ …         │\n",
       "│ RE0018     ┆ 凹甲陆龟   ┆ Manouria   ┆ 爬行纲    ┆ … ┆ 5KYC     ┆ species ┆ accepted ┆ [\"impress │\n",
       "│            ┆            ┆ impressa   ┆           ┆   ┆          ┆         ┆          ┆ ed tortoi │\n",
       "│            ┆            ┆            ┆           ┆   ┆          ┆         ┆          ┆ se\"]      │\n",
       "│ RE0018     ┆ 凹甲陆龟   ┆ Manouria   ┆ 爬行纲    ┆ … ┆ 3XW2F    ┆ species ┆ synonym  ┆ null      │\n",
       "│            ┆            ┆ impressa   ┆           ┆   ┆          ┆         ┆          ┆           │\n",
       "│ RE0071     ┆ 大壁虎     ┆ Gekko      ┆ 爬行纲    ┆ … ┆ 4MLL     ┆ species ┆ accepted ┆ [\"tokay   │\n",
       "│            ┆            ┆ gecko      ┆           ┆   ┆          ┆         ┆          ┆ gecko\",   │\n",
       "│            ┆            ┆            ┆           ┆   ┆          ┆         ┆          ┆ \"tokeh-to │\n",
       "│            ┆            ┆            ┆           ┆   ┆          ┆         ┆          ┆ keh\",     │\n",
       "│            ┆            ┆            ┆           ┆   ┆          ┆         ┆          ┆ \"tuctoo\"] │\n",
       "│ MA0260     ┆ 亚洲黑熊   ┆ Ursus      ┆ 哺乳纲    ┆ … ┆ 63VHR    ┆ species ┆ accepted ┆ [\"asian   │\n",
       "│            ┆            ┆ thibetanus ┆           ┆   ┆          ┆         ┆          ┆ black     │\n",
       "│            ┆            ┆            ┆           ┆   ┆          ┆         ┆          ┆ bear\",    │\n",
       "│            ┆            ┆            ┆           ┆   ┆          ┆         ┆          ┆ \"asiatic  │\n",
       "│            ┆            ┆            ┆           ┆   ┆          ┆         ┆          ┆ black     │\n",
       "│            ┆            ┆            ┆           ┆   ┆          ┆         ┆          ┆ bear\"]    │\n",
       "│ AM0032     ┆ 中国大鲵   ┆ Andrias    ┆ 两栖纲    ┆ … ┆ VTF      ┆ species ┆ accepted ┆ [\"chinese │\n",
       "│            ┆            ┆ davidianus ┆           ┆   ┆          ┆         ┆          ┆ giant sal │\n",
       "│            ┆            ┆            ┆           ┆   ┆          ┆         ┆          ┆ amander\"] │\n",
       "└────────────┴────────────┴────────────┴───────────┴───┴──────────┴─────────┴──────────┴───────────┘"
      ]
     },
     "execution_count": 47,
     "metadata": {},
     "output_type": "execute_result"
    }
   ],
   "source": [
    "df_shanshui_col_patch"
   ]
  },
  {
   "cell_type": "code",
   "execution_count": 20,
   "id": "4f50011b-1f8c-491f-aa76-bca4ad3e32ab",
   "metadata": {},
   "outputs": [
    {
     "data": {
      "text/html": [
       "<div><style>\n",
       ".dataframe > thead > tr,\n",
       ".dataframe > tbody > tr {\n",
       "  text-align: right;\n",
       "  white-space: pre-wrap;\n",
       "}\n",
       "</style>\n",
       "<small>shape: (303, 15)</small><table border=\"1\" class=\"dataframe\"><thead><tr><th>shanshuiTaxonID</th><th>shanshuiVernacularNameCN</th><th>scientificName</th><th>shanshuiClassCN</th><th>shanshuiOrderCN</th><th>shanshuiFamilyCN</th><th>shanshuiGenusCN</th><th>protectLevelIUCN</th><th>protectLevelRCB</th><th>protectLevelNationalKey</th><th>taxonID</th><th>parentID</th><th>rank</th><th>status</th><th>colVernacularNameEN</th></tr><tr><td>str</td><td>str</td><td>str</td><td>str</td><td>str</td><td>str</td><td>str</td><td>str</td><td>str</td><td>str</td><td>str</td><td>str</td><td>cat</td><td>str</td><td>list[str]</td></tr></thead><tbody><tr><td>&quot;AM0010&quot;</td><td>&quot;观雾小鲵&quot;</td><td>&quot;Hynobius fucus&quot;</td><td>&quot;两栖纲&quot;</td><td>&quot;有尾目&quot;</td><td>&quot;小鲵科&quot;</td><td>&quot;小鲵属&quot;</td><td>null</td><td>&quot;EN&quot;</td><td>&quot;II&quot;</td><td>&quot;3NLTG&quot;</td><td>&quot;3NLTH&quot;</td><td>&quot;species&quot;</td><td>&quot;accepted&quot;</td><td>null</td></tr><tr><td>&quot;AM0014&quot;</td><td>&quot;普雄原鲵&quot;</td><td>&quot;Pseudohynobius puxiongensis&quot;</td><td>&quot;两栖纲&quot;</td><td>&quot;有尾目&quot;</td><td>&quot;小鲵科&quot;</td><td>&quot;原鲵属&quot;</td><td>null</td><td>&quot;CR&quot;</td><td>&quot;I&quot;</td><td>&quot;4N5MM&quot;</td><td>&quot;6WFRC&quot;</td><td>&quot;species&quot;</td><td>&quot;accepted&quot;</td><td>null</td></tr><tr><td>&quot;AM0026&quot;</td><td>&quot;弱唇褶山溪鲵&quot;</td><td>&quot;Batrachuperus pinchonii&quot;</td><td>&quot;两栖纲&quot;</td><td>&quot;有尾目&quot;</td><td>&quot;小鲵科&quot;</td><td>&quot;山溪鲵属&quot;</td><td>null</td><td>&quot;DD&quot;</td><td>&quot;II&quot;</td><td>&quot;KZSJ&quot;</td><td>&quot;KZSQ&quot;</td><td>&quot;species&quot;</td><td>&quot;accepted&quot;</td><td>null</td></tr><tr><td>&quot;AM0035&quot;</td><td>&quot;丽色疣螈&quot;</td><td>&quot;Tylototriton shanjing&quot;</td><td>&quot;两栖纲&quot;</td><td>&quot;有尾目&quot;</td><td>&quot;蝾螈科&quot;</td><td>&quot;疣螈属&quot;</td><td>null</td><td>&quot;NT&quot;</td><td>&quot;II&quot;</td><td>&quot;7DBM2&quot;</td><td>&quot;7DBLR&quot;</td><td>&quot;species&quot;</td><td>&quot;accepted&quot;</td><td>null</td></tr><tr><td>&quot;AM0039&quot;</td><td>&quot;宽脊瑶螈&quot;</td><td>&quot;Tylototriton broadoridgus&quot;</td><td>&quot;两栖纲&quot;</td><td>&quot;有尾目&quot;</td><td>&quot;蝾螈科&quot;</td><td>&quot;瑶螈属&quot;</td><td>null</td><td>&quot;NT&quot;</td><td>&quot;II&quot;</td><td>&quot;5CR6W&quot;</td><td>&quot;7DBLM&quot;</td><td>&quot;species&quot;</td><td>&quot;accepted&quot;</td><td>null</td></tr><tr><td>&hellip;</td><td>&hellip;</td><td>&hellip;</td><td>&hellip;</td><td>&hellip;</td><td>&hellip;</td><td>&hellip;</td><td>&hellip;</td><td>&hellip;</td><td>&hellip;</td><td>&hellip;</td><td>&hellip;</td><td>&hellip;</td><td>&hellip;</td><td>&hellip;</td></tr><tr><td>&quot;MA0284&quot;</td><td>&quot;小爪水獭&quot;</td><td>&quot;Amblonyx cinereus cinereus&quot;</td><td>&quot;哺乳纲&quot;</td><td>&quot;食肉目&quot;</td><td>&quot;鼬科&quot;</td><td>&quot;小爪水獭属&quot;</td><td>&quot;VU&quot;</td><td>&quot;EN&quot;</td><td>&quot;II&quot;</td><td>&quot;67L4L&quot;</td><td>&quot;5FJW6&quot;</td><td>&quot;species&quot;</td><td>&quot;accepted&quot;</td><td>null</td></tr><tr><td>&quot;AV1216&quot;</td><td>&quot;西域山雀&quot;</td><td>&quot;Parus major bokharensis&quot;</td><td>&quot;鸟纲&quot;</td><td>&quot;雀形目&quot;</td><td>&quot;山雀科&quot;</td><td>&quot;山雀属&quot;</td><td>null</td><td>&quot;LC&quot;</td><td>null</td><td>&quot;75SVT&quot;</td><td>&quot;BNSLH&quot;</td><td>&quot;species&quot;</td><td>&quot;accepted&quot;</td><td>null</td></tr><tr><td>&quot;MA0412&quot;</td><td>&quot;长吻真海豚&quot;</td><td>&quot;Delphinus delphis&quot;</td><td>&quot;哺乳纲&quot;</td><td>&quot;鲸目&quot;</td><td>&quot;海豚科&quot;</td><td>&quot;真海豚属&quot;</td><td>&quot;DD&quot;</td><td>&quot;DD&quot;</td><td>&quot;II&quot;</td><td>&quot;34JWC&quot;</td><td>&quot;34JWM&quot;</td><td>&quot;species&quot;</td><td>&quot;accepted&quot;</td><td>null</td></tr><tr><td>&quot;AV0142&quot;</td><td>&quot;渔雕&quot;</td><td>&quot;Icthyophaga humilis&quot;</td><td>&quot;鸟纲&quot;</td><td>&quot;鹰形目&quot;</td><td>&quot;鹰科&quot;</td><td>&quot;渔鵰属&quot;</td><td>&quot;NT&quot;</td><td>&quot;NT&quot;</td><td>&quot;II&quot;</td><td>&quot;6N5SQ&quot;</td><td>&quot;6MTX3&quot;</td><td>&quot;species&quot;</td><td>&quot;accepted&quot;</td><td>null</td></tr><tr><td>&quot;RE0018&quot;</td><td>&quot;凹甲陆龟&quot;</td><td>&quot;Manouria impressa&quot;</td><td>&quot;爬行纲&quot;</td><td>&quot;龟鳖目&quot;</td><td>&quot;陆龟科&quot;</td><td>&quot;凹甲陆龟属&quot;</td><td>&quot;EN&quot;</td><td>&quot;CR&quot;</td><td>&quot;I&quot;</td><td>&quot;88L6B&quot;</td><td>&quot;3XW2F&quot;</td><td>&quot;species&quot;</td><td>&quot;accepted&quot;</td><td>null</td></tr></tbody></table></div>"
      ],
      "text/plain": [
       "shape: (303, 15)\n",
       "┌────────────┬────────────┬────────────┬───────────┬───┬──────────┬─────────┬──────────┬───────────┐\n",
       "│ shanshuiTa ┆ shanshuiVe ┆ scientific ┆ shanshuiC ┆ … ┆ parentID ┆ rank    ┆ status   ┆ colVernac │\n",
       "│ xonID      ┆ rnacularNa ┆ Name       ┆ lassCN    ┆   ┆ ---      ┆ ---     ┆ ---      ┆ ularNameE │\n",
       "│ ---        ┆ meCN       ┆ ---        ┆ ---       ┆   ┆ str      ┆ cat     ┆ str      ┆ N         │\n",
       "│ str        ┆ ---        ┆ str        ┆ str       ┆   ┆          ┆         ┆          ┆ ---       │\n",
       "│            ┆ str        ┆            ┆           ┆   ┆          ┆         ┆          ┆ list[str] │\n",
       "╞════════════╪════════════╪════════════╪═══════════╪═══╪══════════╪═════════╪══════════╪═══════════╡\n",
       "│ AM0010     ┆ 观雾小鲵   ┆ Hynobius   ┆ 两栖纲    ┆ … ┆ 3NLTH    ┆ species ┆ accepted ┆ null      │\n",
       "│            ┆            ┆ fucus      ┆           ┆   ┆          ┆         ┆          ┆           │\n",
       "│ AM0014     ┆ 普雄原鲵   ┆ Pseudohyno ┆ 两栖纲    ┆ … ┆ 6WFRC    ┆ species ┆ accepted ┆ null      │\n",
       "│            ┆            ┆ bius puxio ┆           ┆   ┆          ┆         ┆          ┆           │\n",
       "│            ┆            ┆ ngensis    ┆           ┆   ┆          ┆         ┆          ┆           │\n",
       "│ AM0026     ┆ 弱唇褶山溪 ┆ Batrachupe ┆ 两栖纲    ┆ … ┆ KZSQ     ┆ species ┆ accepted ┆ null      │\n",
       "│            ┆ 鲵         ┆ rus        ┆           ┆   ┆          ┆         ┆          ┆           │\n",
       "│            ┆            ┆ pinchonii  ┆           ┆   ┆          ┆         ┆          ┆           │\n",
       "│ AM0035     ┆ 丽色疣螈   ┆ Tylototrit ┆ 两栖纲    ┆ … ┆ 7DBLR    ┆ species ┆ accepted ┆ null      │\n",
       "│            ┆            ┆ on         ┆           ┆   ┆          ┆         ┆          ┆           │\n",
       "│            ┆            ┆ shanjing   ┆           ┆   ┆          ┆         ┆          ┆           │\n",
       "│ AM0039     ┆ 宽脊瑶螈   ┆ Tylototrit ┆ 两栖纲    ┆ … ┆ 7DBLM    ┆ species ┆ accepted ┆ null      │\n",
       "│            ┆            ┆ on broador ┆           ┆   ┆          ┆         ┆          ┆           │\n",
       "│            ┆            ┆ idgus      ┆           ┆   ┆          ┆         ┆          ┆           │\n",
       "│ …          ┆ …          ┆ …          ┆ …         ┆ … ┆ …        ┆ …       ┆ …        ┆ …         │\n",
       "│ MA0284     ┆ 小爪水獭   ┆ Amblonyx   ┆ 哺乳纲    ┆ … ┆ 5FJW6    ┆ species ┆ accepted ┆ null      │\n",
       "│            ┆            ┆ cinereus   ┆           ┆   ┆          ┆         ┆          ┆           │\n",
       "│            ┆            ┆ cinereus   ┆           ┆   ┆          ┆         ┆          ┆           │\n",
       "│ AV1216     ┆ 西域山雀   ┆ Parus      ┆ 鸟纲      ┆ … ┆ BNSLH    ┆ species ┆ accepted ┆ null      │\n",
       "│            ┆            ┆ major bokh ┆           ┆   ┆          ┆         ┆          ┆           │\n",
       "│            ┆            ┆ arensis    ┆           ┆   ┆          ┆         ┆          ┆           │\n",
       "│ MA0412     ┆ 长吻真海豚 ┆ Delphinus  ┆ 哺乳纲    ┆ … ┆ 34JWM    ┆ species ┆ accepted ┆ null      │\n",
       "│            ┆            ┆ delphis    ┆           ┆   ┆          ┆         ┆          ┆           │\n",
       "│ AV0142     ┆ 渔雕       ┆ Icthyophag ┆ 鸟纲      ┆ … ┆ 6MTX3    ┆ species ┆ accepted ┆ null      │\n",
       "│            ┆            ┆ a humilis  ┆           ┆   ┆          ┆         ┆          ┆           │\n",
       "│ RE0018     ┆ 凹甲陆龟   ┆ Manouria   ┆ 爬行纲    ┆ … ┆ 3XW2F    ┆ species ┆ accepted ┆ null      │\n",
       "│            ┆            ┆ impressa   ┆           ┆   ┆          ┆         ┆          ┆           │\n",
       "└────────────┴────────────┴────────────┴───────────┴───┴──────────┴─────────┴──────────┴───────────┘"
      ]
     },
     "execution_count": 20,
     "metadata": {},
     "output_type": "execute_result"
    }
   ],
   "source": [
    "df_shanshui_synonym"
   ]
  },
  {
   "cell_type": "code",
   "execution_count": 60,
   "id": "b26b546e-63ec-46ab-8fba-48b2a932ee24",
   "metadata": {
    "scrolled": true
   },
   "outputs": [
    {
     "data": {
      "text/html": [
       "<div><style>\n",
       ".dataframe > thead > tr,\n",
       ".dataframe > tbody > tr {\n",
       "  text-align: right;\n",
       "  white-space: pre-wrap;\n",
       "}\n",
       "</style>\n",
       "<small>shape: (2_976, 10)</small><table border=\"1\" class=\"dataframe\"><thead><tr><th>shanshuiTaxonID</th><th>shanshuiVernacularNameCN</th><th>scientificName</th><th>shanshuiClassCN</th><th>shanshuiOrderCN</th><th>shanshuiFamilyCN</th><th>shanshuiGenusCN</th><th>protectLevelIUCN</th><th>protectLevelRCB</th><th>protectLevelNationalKey</th></tr><tr><td>str</td><td>str</td><td>str</td><td>str</td><td>str</td><td>str</td><td>str</td><td>str</td><td>str</td><td>str</td></tr></thead><tbody><tr><td>&quot;AM0009&quot;</td><td>&quot;台湾小鲵&quot;</td><td>&quot;Hynobius formosanus&quot;</td><td>&quot;两栖纲&quot;</td><td>&quot;有尾目&quot;</td><td>&quot;小鲵科&quot;</td><td>&quot;小鲵属&quot;</td><td>&quot;EN&quot;</td><td>&quot;EN&quot;</td><td>&quot;II&quot;</td></tr><tr><td>&quot;AM0012&quot;</td><td>&quot;楚南小鲵&quot;</td><td>&quot;Hynobius sonani&quot;</td><td>&quot;两栖纲&quot;</td><td>&quot;有尾目&quot;</td><td>&quot;小鲵科&quot;</td><td>&quot;小鲵属&quot;</td><td>&quot;EN&quot;</td><td>&quot;EN&quot;</td><td>&quot;II&quot;</td></tr><tr><td>&quot;AM0021&quot;</td><td>&quot;辽宁爪鲵&quot;</td><td>&quot;Onychodactylus zhaoermii&quot;</td><td>&quot;两栖纲&quot;</td><td>&quot;有尾目&quot;</td><td>&quot;小鲵科&quot;</td><td>&quot;爪鲵属&quot;</td><td>null</td><td>&quot;CR&quot;</td><td>&quot;I&quot;</td></tr><tr><td>&quot;AM0013&quot;</td><td>&quot;商城肥鲵&quot;</td><td>&quot;Pachyhynobius shangchengensis&quot;</td><td>&quot;两栖纲&quot;</td><td>&quot;有尾目&quot;</td><td>&quot;小鲵科&quot;</td><td>&quot;肥鲵属&quot;</td><td>&quot;VU&quot;</td><td>&quot;VU&quot;</td><td>null</td></tr><tr><td>&quot;AM0022&quot;</td><td>&quot;吉林爪鲵&quot;</td><td>&quot;Onychodactylus zhangyapingi&quot;</td><td>&quot;两栖纲&quot;</td><td>&quot;有尾目&quot;</td><td>&quot;小鲵科&quot;</td><td>&quot;爪鲵属&quot;</td><td>&quot;DD&quot;</td><td>&quot;VU&quot;</td><td>&quot;II&quot;</td></tr><tr><td>&hellip;</td><td>&hellip;</td><td>&hellip;</td><td>&hellip;</td><td>&hellip;</td><td>&hellip;</td><td>&hellip;</td><td>&hellip;</td><td>&hellip;</td><td>&hellip;</td></tr><tr><td>&quot;MA0284&quot;</td><td>&quot;小爪水獭&quot;</td><td>&quot;Amblonyx cinereus cinereus&quot;</td><td>&quot;哺乳纲&quot;</td><td>&quot;食肉目&quot;</td><td>&quot;鼬科&quot;</td><td>&quot;小爪水獭属&quot;</td><td>&quot;VU&quot;</td><td>&quot;EN&quot;</td><td>&quot;II&quot;</td></tr><tr><td>&quot;AV1216&quot;</td><td>&quot;西域山雀&quot;</td><td>&quot;Parus major bokharensis&quot;</td><td>&quot;鸟纲&quot;</td><td>&quot;雀形目&quot;</td><td>&quot;山雀科&quot;</td><td>&quot;山雀属&quot;</td><td>null</td><td>&quot;LC&quot;</td><td>null</td></tr><tr><td>&quot;MA0412&quot;</td><td>&quot;长吻真海豚&quot;</td><td>&quot;Delphinus delphis&quot;</td><td>&quot;哺乳纲&quot;</td><td>&quot;鲸目&quot;</td><td>&quot;海豚科&quot;</td><td>&quot;真海豚属&quot;</td><td>&quot;DD&quot;</td><td>&quot;DD&quot;</td><td>&quot;II&quot;</td></tr><tr><td>&quot;AV0142&quot;</td><td>&quot;渔雕&quot;</td><td>&quot;Icthyophaga humilis&quot;</td><td>&quot;鸟纲&quot;</td><td>&quot;鹰形目&quot;</td><td>&quot;鹰科&quot;</td><td>&quot;渔鵰属&quot;</td><td>&quot;NT&quot;</td><td>&quot;NT&quot;</td><td>&quot;II&quot;</td></tr><tr><td>&quot;RE0018&quot;</td><td>&quot;凹甲陆龟&quot;</td><td>&quot;Manouria impressa&quot;</td><td>&quot;爬行纲&quot;</td><td>&quot;龟鳖目&quot;</td><td>&quot;陆龟科&quot;</td><td>&quot;凹甲陆龟属&quot;</td><td>&quot;EN&quot;</td><td>&quot;CR&quot;</td><td>&quot;I&quot;</td></tr></tbody></table></div>"
      ],
      "text/plain": [
       "shape: (2_976, 10)\n",
       "┌───────────┬───────────┬───────────┬───────────┬───┬───────────┬───────────┬───────────┬──────────┐\n",
       "│ shanshuiT ┆ shanshuiV ┆ scientifi ┆ shanshuiC ┆ … ┆ shanshuiG ┆ protectLe ┆ protectLe ┆ protectL │\n",
       "│ axonID    ┆ ernacular ┆ cName     ┆ lassCN    ┆   ┆ enusCN    ┆ velIUCN   ┆ velRCB    ┆ evelNati │\n",
       "│ ---       ┆ NameCN    ┆ ---       ┆ ---       ┆   ┆ ---       ┆ ---       ┆ ---       ┆ onalKey  │\n",
       "│ str       ┆ ---       ┆ str       ┆ str       ┆   ┆ str       ┆ str       ┆ str       ┆ ---      │\n",
       "│           ┆ str       ┆           ┆           ┆   ┆           ┆           ┆           ┆ str      │\n",
       "╞═══════════╪═══════════╪═══════════╪═══════════╪═══╪═══════════╪═══════════╪═══════════╪══════════╡\n",
       "│ AM0009    ┆ 台湾小鲵  ┆ Hynobius  ┆ 两栖纲    ┆ … ┆ 小鲵属    ┆ EN        ┆ EN        ┆ II       │\n",
       "│           ┆           ┆ formosanu ┆           ┆   ┆           ┆           ┆           ┆          │\n",
       "│           ┆           ┆ s         ┆           ┆   ┆           ┆           ┆           ┆          │\n",
       "│ AM0012    ┆ 楚南小鲵  ┆ Hynobius  ┆ 两栖纲    ┆ … ┆ 小鲵属    ┆ EN        ┆ EN        ┆ II       │\n",
       "│           ┆           ┆ sonani    ┆           ┆   ┆           ┆           ┆           ┆          │\n",
       "│ AM0021    ┆ 辽宁爪鲵  ┆ Onychodac ┆ 两栖纲    ┆ … ┆ 爪鲵属    ┆ null      ┆ CR        ┆ I        │\n",
       "│           ┆           ┆ tylus     ┆           ┆   ┆           ┆           ┆           ┆          │\n",
       "│           ┆           ┆ zhaoermii ┆           ┆   ┆           ┆           ┆           ┆          │\n",
       "│ AM0013    ┆ 商城肥鲵  ┆ Pachyhyno ┆ 两栖纲    ┆ … ┆ 肥鲵属    ┆ VU        ┆ VU        ┆ null     │\n",
       "│           ┆           ┆ bius shan ┆           ┆   ┆           ┆           ┆           ┆          │\n",
       "│           ┆           ┆ gchengens ┆           ┆   ┆           ┆           ┆           ┆          │\n",
       "│           ┆           ┆ is        ┆           ┆   ┆           ┆           ┆           ┆          │\n",
       "│ AM0022    ┆ 吉林爪鲵  ┆ Onychodac ┆ 两栖纲    ┆ … ┆ 爪鲵属    ┆ DD        ┆ VU        ┆ II       │\n",
       "│           ┆           ┆ tylus zha ┆           ┆   ┆           ┆           ┆           ┆          │\n",
       "│           ┆           ┆ ngyapingi ┆           ┆   ┆           ┆           ┆           ┆          │\n",
       "│ …         ┆ …         ┆ …         ┆ …         ┆ … ┆ …         ┆ …         ┆ …         ┆ …        │\n",
       "│ MA0284    ┆ 小爪水獭  ┆ Amblonyx  ┆ 哺乳纲    ┆ … ┆ 小爪水獭  ┆ VU        ┆ EN        ┆ II       │\n",
       "│           ┆           ┆ cinereus  ┆           ┆   ┆ 属        ┆           ┆           ┆          │\n",
       "│           ┆           ┆ cinereus  ┆           ┆   ┆           ┆           ┆           ┆          │\n",
       "│ AV1216    ┆ 西域山雀  ┆ Parus     ┆ 鸟纲      ┆ … ┆ 山雀属    ┆ null      ┆ LC        ┆ null     │\n",
       "│           ┆           ┆ major bok ┆           ┆   ┆           ┆           ┆           ┆          │\n",
       "│           ┆           ┆ harensis  ┆           ┆   ┆           ┆           ┆           ┆          │\n",
       "│ MA0412    ┆ 长吻真海  ┆ Delphinus ┆ 哺乳纲    ┆ … ┆ 真海豚属  ┆ DD        ┆ DD        ┆ II       │\n",
       "│           ┆ 豚        ┆ delphis   ┆           ┆   ┆           ┆           ┆           ┆          │\n",
       "│ AV0142    ┆ 渔雕      ┆ Icthyopha ┆ 鸟纲      ┆ … ┆ 渔鵰属    ┆ NT        ┆ NT        ┆ II       │\n",
       "│           ┆           ┆ ga        ┆           ┆   ┆           ┆           ┆           ┆          │\n",
       "│           ┆           ┆ humilis   ┆           ┆   ┆           ┆           ┆           ┆          │\n",
       "│ RE0018    ┆ 凹甲陆龟  ┆ Manouria  ┆ 爬行纲    ┆ … ┆ 凹甲陆龟  ┆ EN        ┆ CR        ┆ I        │\n",
       "│           ┆           ┆ impressa  ┆           ┆   ┆ 属        ┆           ┆           ┆          │\n",
       "└───────────┴───────────┴───────────┴───────────┴───┴───────────┴───────────┴───────────┴──────────┘"
      ]
     },
     "execution_count": 60,
     "metadata": {},
     "output_type": "execute_result"
    }
   ],
   "source": [
    "df_shanshui_col_patch = df_shanshui_col_patch.with_columns(pl.col(\"status\").cast(pl.Utf8))\n",
    "df_shanshui = pl.concat([\n",
    "    df_shanshui_col_patch.filter(pl.col(\"status\").ne(\"synonym\")),\n",
    "    df_shanshui_synonym]).select([\n",
    "        pl.col(\"shanshuiTaxonID\"),\n",
    "        pl.col(\"shanshuiVernacularNameCN\"),\n",
    "        pl.col(\"scientificName\"),\n",
    "        pl.col(\"shanshuiClassCN\"),\n",
    "        pl.col(\"shanshuiOrderCN\"),\n",
    "        pl.col(\"shanshuiFamilyCN\"),\n",
    "        pl.col(\"shanshuiGenusCN\"),\n",
    "        pl.col(\"protectLevelIUCN\"),\n",
    "        pl.col(\"protectLevelRCB\"),\n",
    "        pl.col(\"protectLevelNationalKey\")\n",
    "    ])\n",
    "df_shanshui"
   ]
  },
  {
   "cell_type": "code",
   "execution_count": 100,
   "id": "e23b42d3-3405-4f5d-a62f-9fc829922dbb",
   "metadata": {},
   "outputs": [
    {
     "data": {
      "text/html": [
       "<div><style>\n",
       ".dataframe > thead > tr,\n",
       ".dataframe > tbody > tr {\n",
       "  text-align: right;\n",
       "  white-space: pre-wrap;\n",
       "}\n",
       "</style>\n",
       "<small>shape: (1, 10)</small><table border=\"1\" class=\"dataframe\"><thead><tr><th>shanshuiTaxonID</th><th>shanshuiVernacularNameCN</th><th>scientificName</th><th>shanshuiClassCN</th><th>shanshuiOrderCN</th><th>shanshuiFamilyCN</th><th>shanshuiGenusCN</th><th>protectLevelIUCN</th><th>protectLevelRCB</th><th>protectLevelNationalKey</th></tr><tr><td>str</td><td>str</td><td>str</td><td>str</td><td>str</td><td>str</td><td>str</td><td>str</td><td>str</td><td>str</td></tr></thead><tbody><tr><td>&quot;MA0349&quot;</td><td>&quot;白唇鹿&quot;</td><td>&quot;Przewalskium albirostre&quot;</td><td>&quot;哺乳纲&quot;</td><td>&quot;偶蹄目&quot;</td><td>&quot;鹿科&quot;</td><td>&quot;白唇鹿属&quot;</td><td>&quot;VU&quot;</td><td>&quot;EN&quot;</td><td>&quot;I&quot;</td></tr></tbody></table></div>"
      ],
      "text/plain": [
       "shape: (1, 10)\n",
       "┌───────────┬───────────┬───────────┬───────────┬───┬───────────┬───────────┬───────────┬──────────┐\n",
       "│ shanshuiT ┆ shanshuiV ┆ scientifi ┆ shanshuiC ┆ … ┆ shanshuiG ┆ protectLe ┆ protectLe ┆ protectL │\n",
       "│ axonID    ┆ ernacular ┆ cName     ┆ lassCN    ┆   ┆ enusCN    ┆ velIUCN   ┆ velRCB    ┆ evelNati │\n",
       "│ ---       ┆ NameCN    ┆ ---       ┆ ---       ┆   ┆ ---       ┆ ---       ┆ ---       ┆ onalKey  │\n",
       "│ str       ┆ ---       ┆ str       ┆ str       ┆   ┆ str       ┆ str       ┆ str       ┆ ---      │\n",
       "│           ┆ str       ┆           ┆           ┆   ┆           ┆           ┆           ┆ str      │\n",
       "╞═══════════╪═══════════╪═══════════╪═══════════╪═══╪═══════════╪═══════════╪═══════════╪══════════╡\n",
       "│ MA0349    ┆ 白唇鹿    ┆ Przewalsk ┆ 哺乳纲    ┆ … ┆ 白唇鹿属  ┆ VU        ┆ EN        ┆ I        │\n",
       "│           ┆           ┆ ium albir ┆           ┆   ┆           ┆           ┆           ┆          │\n",
       "│           ┆           ┆ ostre     ┆           ┆   ┆           ┆           ┆           ┆          │\n",
       "└───────────┴───────────┴───────────┴───────────┴───┴───────────┴───────────┴───────────┴──────────┘"
      ]
     },
     "execution_count": 100,
     "metadata": {},
     "output_type": "execute_result"
    }
   ],
   "source": [
    "df_shanshui.filter(pl.col(\"shanshuiVernacularNameCN\") == \"白唇鹿\")"
   ]
  },
  {
   "cell_type": "code",
   "execution_count": 108,
   "id": "eb826995-3051-40f6-8825-a9990cce6a86",
   "metadata": {},
   "outputs": [
    {
     "data": {
      "text/html": [
       "<div><style>\n",
       ".dataframe > thead > tr,\n",
       ".dataframe > tbody > tr {\n",
       "  text-align: right;\n",
       "  white-space: pre-wrap;\n",
       "}\n",
       "</style>\n",
       "<small>shape: (1, 25)</small><table border=\"1\" class=\"dataframe\"><thead><tr><th>SpeciesID</th><th>ChineseName</th><th>ScientificName</th><th>ClassCN</th><th>Class</th><th>OrderCN</th><th>Order</th><th>FamilyCN</th><th>Family</th><th>GenusCN</th><th>Genus</th><th>SpeciesEpithet</th><th>SpeciesName</th><th>Subspecies</th><th>ChineseAlias</th><th>EnglishAlias</th><th>ScientificSynonym</th><th>Endemic</th><th>IUCN</th><th>IUCNCriteria</th><th>RCB</th><th>RCBCriteria</th><th>NationalKey</th><th>CITES</th><th>Notes</th></tr><tr><td>str</td><td>str</td><td>str</td><td>str</td><td>str</td><td>str</td><td>str</td><td>str</td><td>str</td><td>str</td><td>str</td><td>str</td><td>str</td><td>str</td><td>str</td><td>str</td><td>str</td><td>str</td><td>str</td><td>str</td><td>str</td><td>str</td><td>str</td><td>str</td><td>str</td></tr></thead><tbody><tr><td>&quot;MA0349&quot;</td><td>&quot;白唇鹿&quot;</td><td>&quot;Przewalskium albirostris&quot;</td><td>&quot;哺乳纲&quot;</td><td>&quot;Mammalia&quot;</td><td>&quot;偶蹄目&quot;</td><td>&quot;ARTIODACTYLA&quot;</td><td>&quot;鹿科&quot;</td><td>&quot;Cervidae&quot;</td><td>&quot;白唇鹿属&quot;</td><td>&quot;Przewalskium&quot;</td><td>&quot;albirostris&quot;</td><td>null</td><td>null</td><td>null</td><td>null</td><td>&quot;C. thorold (synonym);C. sellatus (synonym);Cervus…</td><td>null</td><td>&quot;VU&quot;</td><td>null</td><td>&quot;EN&quot;</td><td>&quot;B1ab(i,ii,iii)+2ab(i,ii,iii)&quot;</td><td>&quot;I&quot;</td><td>null</td><td>null</td></tr></tbody></table></div>"
      ],
      "text/plain": [
       "shape: (1, 25)\n",
       "┌───────────┬─────────────┬──────────────┬─────────┬───┬─────────────┬─────────────┬───────┬───────┐\n",
       "│ SpeciesID ┆ ChineseName ┆ ScientificNa ┆ ClassCN ┆ … ┆ RCBCriteria ┆ NationalKey ┆ CITES ┆ Notes │\n",
       "│ ---       ┆ ---         ┆ me           ┆ ---     ┆   ┆ ---         ┆ ---         ┆ ---   ┆ ---   │\n",
       "│ str       ┆ str         ┆ ---          ┆ str     ┆   ┆ str         ┆ str         ┆ str   ┆ str   │\n",
       "│           ┆             ┆ str          ┆         ┆   ┆             ┆             ┆       ┆       │\n",
       "╞═══════════╪═════════════╪══════════════╪═════════╪═══╪═════════════╪═════════════╪═══════╪═══════╡\n",
       "│ MA0349    ┆ 白唇鹿      ┆ Przewalskium ┆ 哺乳纲  ┆ … ┆ B1ab(i,ii,i ┆ I           ┆ null  ┆ null  │\n",
       "│           ┆             ┆ albirostris  ┆         ┆   ┆ ii)+2ab(i,i ┆             ┆       ┆       │\n",
       "│           ┆             ┆              ┆         ┆   ┆ i,iii)      ┆             ┆       ┆       │\n",
       "└───────────┴─────────────┴──────────────┴─────────┴───┴─────────────┴─────────────┴───────┴───────┘"
      ]
     },
     "execution_count": 108,
     "metadata": {},
     "output_type": "execute_result"
    }
   ],
   "source": [
    "df_shanshui_raw.filter(pl.col(\"ChineseName\") == \"白唇鹿\")"
   ]
  },
  {
   "cell_type": "code",
   "execution_count": 103,
   "id": "d460d8f4-22fc-45d3-a721-5cda82399757",
   "metadata": {},
   "outputs": [
    {
     "data": {
      "text/html": [
       "<div><style>\n",
       ".dataframe > thead > tr,\n",
       ".dataframe > tbody > tr {\n",
       "  text-align: right;\n",
       "  white-space: pre-wrap;\n",
       "}\n",
       "</style>\n",
       "<small>shape: (1, 2)</small><table border=\"1\" class=\"dataframe\"><thead><tr><th>tag</th><th>scientificName</th></tr><tr><td>str</td><td>str</td></tr></thead><tbody><tr><td>&quot;White-lipped deer&quot;</td><td>&quot;Cervus albirostris&quot;</td></tr></tbody></table></div>"
      ],
      "text/plain": [
       "shape: (1, 2)\n",
       "┌───────────────────┬────────────────────┐\n",
       "│ tag               ┆ scientificName     │\n",
       "│ ---               ┆ ---                │\n",
       "│ str               ┆ str                │\n",
       "╞═══════════════════╪════════════════════╡\n",
       "│ White-lipped deer ┆ Cervus albirostris │\n",
       "└───────────────────┴────────────────────┘"
      ]
     },
     "execution_count": 103,
     "metadata": {},
     "output_type": "execute_result"
    }
   ],
   "source": [
    "df_taglist_patched.filter(pl.col(\"tag\") == \"White-lipped deer\")"
   ]
  },
  {
   "cell_type": "code",
   "execution_count": 61,
   "id": "a409c57a-6f83-42fa-98dc-2575b5f9a79d",
   "metadata": {},
   "outputs": [],
   "source": [
    "maze_taglist = df_taglist_patched.join(df_shanshui, on=\"scientificName\", how=\"left\")"
   ]
  },
  {
   "cell_type": "code",
   "execution_count": 62,
   "id": "2a34671b-a0cd-4350-9f0d-8669ceff228f",
   "metadata": {},
   "outputs": [],
   "source": [
    "maze_taglist_taxon = (maze_taglist\n",
    "    .join(df_gbif.drop(\"gbifVernacularNameEN\"), on=\"scientificName\", how=\"left\")\n",
    "    .join(df_col.drop([\"parentID\", \"status\", \"colVernacularNameEN\"]), on=\"scientificName\", how=\"left\")\n",
    ")"
   ]
  },
  {
   "cell_type": "code",
   "execution_count": 63,
   "id": "6c7a0d7d-d6d4-4473-8dff-8e448fec6fec",
   "metadata": {},
   "outputs": [],
   "source": [
    "maze_taglist_taxon.write_csv(\"maze_taglist.csv\")"
   ]
  },
  {
   "cell_type": "code",
   "execution_count": 35,
   "id": "25933f9b-d246-4072-8a4d-9cce4563d1a1",
   "metadata": {},
   "outputs": [
    {
     "data": {
      "text/html": [
       "<div><style>\n",
       ".dataframe > thead > tr,\n",
       ".dataframe > tbody > tr {\n",
       "  text-align: right;\n",
       "  white-space: pre-wrap;\n",
       "}\n",
       "</style>\n",
       "<small>shape: (1, 70)</small><table border=\"1\" class=\"dataframe\"><thead><tr><th>col:ID</th><th>col:alternativeID</th><th>col:nameAlternativeID</th><th>col:sourceID</th><th>col:parentID</th><th>col:basionymID</th><th>col:status</th><th>col:scientificName</th><th>col:authorship</th><th>col:rank</th><th>col:notho</th><th>col:originalSpelling</th><th>col:uninomial</th><th>col:genericName</th><th>col:infragenericEpithet</th><th>col:specificEpithet</th><th>col:infraspecificEpithet</th><th>col:cultivarEpithet</th><th>col:combinationAuthorship</th><th>col:combinationAuthorshipID</th><th>col:combinationExAuthorship</th><th>col:combinationExAuthorshipID</th><th>col:combinationAuthorshipYear</th><th>col:basionymAuthorship</th><th>col:basionymAuthorshipID</th><th>col:basionymExAuthorship</th><th>col:basionymExAuthorshipID</th><th>col:basionymAuthorshipYear</th><th>col:namePhrase</th><th>col:nameReferenceID</th><th>col:publishedInYear</th><th>col:publishedInPage</th><th>col:publishedInPageLink</th><th>col:gender</th><th>col:genderAgreement</th><th>col:etymology</th><th>col:code</th><th>col:nameStatus</th><th>col:accordingToID</th><th>col:accordingToPage</th><th>col:accordingToPageLink</th><th>col:referenceID</th><th>col:scrutinizer</th><th>col:scrutinizerID</th><th>col:scrutinizerDate</th><th>col:extinct</th><th>col:temporalRangeStart</th><th>col:temporalRangeEnd</th><th>col:environment</th><th>col:species</th><th>col:section</th><th>col:subgenus</th><th>col:genus</th><th>col:subtribe</th><th>col:tribe</th><th>col:subfamily</th><th>col:family</th><th>col:superfamily</th><th>col:suborder</th><th>col:order</th><th>col:subclass</th><th>col:class</th><th>col:subphylum</th><th>col:phylum</th><th>col:kingdom</th><th>col:ordinal</th><th>col:branchLength</th><th>col:link</th><th>col:nameRemarks</th><th>col:remarks</th></tr><tr><td>str</td><td>str</td><td>str</td><td>i64</td><td>str</td><td>str</td><td>str</td><td>str</td><td>str</td><td>str</td><td>str</td><td>str</td><td>str</td><td>str</td><td>str</td><td>str</td><td>str</td><td>str</td><td>str</td><td>str</td><td>str</td><td>str</td><td>str</td><td>str</td><td>str</td><td>str</td><td>str</td><td>str</td><td>str</td><td>str</td><td>str</td><td>str</td><td>str</td><td>str</td><td>str</td><td>str</td><td>str</td><td>str</td><td>str</td><td>str</td><td>str</td><td>str</td><td>str</td><td>str</td><td>str</td><td>bool</td><td>str</td><td>str</td><td>str</td><td>str</td><td>str</td><td>str</td><td>str</td><td>str</td><td>str</td><td>str</td><td>str</td><td>str</td><td>str</td><td>str</td><td>str</td><td>str</td><td>str</td><td>str</td><td>str</td><td>str</td><td>str</td><td>str</td><td>str</td><td>str</td></tr></thead><tbody><tr><td>&quot;T569&quot;</td><td>null</td><td>null</td><td>2144</td><td>&quot;4N9HG&quot;</td><td>null</td><td>&quot;synonym&quot;</td><td>&quot;Cervus albirostris&quot;</td><td>&quot;Przewalski, 1883&quot;</td><td>&quot;species&quot;</td><td>null</td><td>null</td><td>null</td><td>&quot;Cervus&quot;</td><td>null</td><td>&quot;albirostris&quot;</td><td>null</td><td>null</td><td>&quot;Przewalski&quot;</td><td>null</td><td>null</td><td>null</td><td>&quot;1883&quot;</td><td>null</td><td>null</td><td>null</td><td>null</td><td>null</td><td>null</td><td>null</td><td>null</td><td>null</td><td>null</td><td>null</td><td>null</td><td>null</td><td>&quot;zoological&quot;</td><td>null</td><td>null</td><td>null</td><td>null</td><td>null</td><td>null</td><td>null</td><td>null</td><td>null</td><td>null</td><td>null</td><td>null</td><td>null</td><td>null</td><td>null</td><td>null</td><td>null</td><td>null</td><td>null</td><td>null</td><td>null</td><td>null</td><td>null</td><td>null</td><td>null</td><td>null</td><td>null</td><td>null</td><td>null</td><td>null</td><td>&quot;https://www.itis.gov/servlet/SingleRpt/SingleRpt?…</td><td>null</td><td>null</td></tr></tbody></table></div>"
      ],
      "text/plain": [
       "shape: (1, 70)\n",
       "┌────────┬────────────┬────────────┬───────────┬───┬───────────┬───────────┬───────────┬───────────┐\n",
       "│ col:ID ┆ col:altern ┆ col:nameAl ┆ col:sourc ┆ … ┆ col:branc ┆ col:link  ┆ col:nameR ┆ col:remar │\n",
       "│ ---    ┆ ativeID    ┆ ternativeI ┆ eID       ┆   ┆ hLength   ┆ ---       ┆ emarks    ┆ ks        │\n",
       "│ str    ┆ ---        ┆ D          ┆ ---       ┆   ┆ ---       ┆ str       ┆ ---       ┆ ---       │\n",
       "│        ┆ str        ┆ ---        ┆ i64       ┆   ┆ str       ┆           ┆ str       ┆ str       │\n",
       "│        ┆            ┆ str        ┆           ┆   ┆           ┆           ┆           ┆           │\n",
       "╞════════╪════════════╪════════════╪═══════════╪═══╪═══════════╪═══════════╪═══════════╪═══════════╡\n",
       "│ T569   ┆ null       ┆ null       ┆ 2144      ┆ … ┆ null      ┆ https://w ┆ null      ┆ null      │\n",
       "│        ┆            ┆            ┆           ┆   ┆           ┆ ww.itis.g ┆           ┆           │\n",
       "│        ┆            ┆            ┆           ┆   ┆           ┆ ov/servle ┆           ┆           │\n",
       "│        ┆            ┆            ┆           ┆   ┆           ┆ t/SingleR ┆           ┆           │\n",
       "│        ┆            ┆            ┆           ┆   ┆           ┆ pt/Single ┆           ┆           │\n",
       "│        ┆            ┆            ┆           ┆   ┆           ┆ Rpt?s…    ┆           ┆           │\n",
       "└────────┴────────────┴────────────┴───────────┴───┴───────────┴───────────┴───────────┴───────────┘"
      ]
     },
     "execution_count": 35,
     "metadata": {},
     "output_type": "execute_result"
    }
   ],
   "source": [
    "df_col_taxon_raw.filter(pl.col(\"col:ID\").eq(\"T569\"))"
   ]
  },
  {
   "cell_type": "code",
   "execution_count": null,
   "id": "e3003645-a4b2-4992-a546-4c586016117c",
   "metadata": {},
   "outputs": [],
   "source": []
  },
  {
   "cell_type": "code",
   "execution_count": 114,
   "id": "7874a94f-bf26-45d8-bfc6-4de5dd0dcdb2",
   "metadata": {},
   "outputs": [],
   "source": [
    "df_sh_bird_raw = pl.read_csv(\"/home/wsyxbcl/Downloads/sh_bird.csv\").select(pl.col(\"物种名\").alias(\"shanshuiVernacularNameCN\"))"
   ]
  },
  {
   "cell_type": "code",
   "execution_count": null,
   "id": "8042ef91-335a-4302-85ce-70187128ecad",
   "metadata": {},
   "outputs": [],
   "source": []
  },
  {
   "cell_type": "code",
   "execution_count": 116,
   "id": "abd74e3e-45b2-41a1-8b5a-10b4478c2282",
   "metadata": {},
   "outputs": [],
   "source": [
    "# df_sh_bird.join(df_shanshui_patch, on=\"shanshuiVernacularNameCN\", how=\"left\").filter(pl.col(\"shanshuiTaxonID\").is_null())\n",
    "df_sh_bird = df_sh_bird_raw.join(df_shanshui_col_patch, on=\"shanshuiVernacularNameCN\", how=\"left\").join(df_gbif, on=\"scientificName\", how=\"left\")"
   ]
  },
  {
   "cell_type": "code",
   "execution_count": 117,
   "id": "3a8b9536-88fd-42b8-b1bd-723bdd0cb67f",
   "metadata": {
    "scrolled": true
   },
   "outputs": [
    {
     "data": {
      "text/html": [
       "<div><style>\n",
       ".dataframe > thead > tr,\n",
       ".dataframe > tbody > tr {\n",
       "  text-align: right;\n",
       "  white-space: pre-wrap;\n",
       "}\n",
       "</style>\n",
       "<small>shape: (86, 23)</small><table border=\"1\" class=\"dataframe\"><thead><tr><th>shanshuiVernacularNameCN</th><th>shanshuiTaxonID</th><th>scientificName</th><th>shanshuiClassCN</th><th>shanshuiOrderCN</th><th>shanshuiFamilyCN</th><th>shanshuiGenusCN</th><th>protectLevelIUCN</th><th>protectLevelRCB</th><th>protectLevelNationalKey</th><th>taxonID</th><th>parentID</th><th>rank</th><th>status</th><th>colVernacularNameEN</th><th>gbifTaxonID</th><th>kingdom</th><th>phylum</th><th>class</th><th>order</th><th>family</th><th>genus</th><th>gbifVernacularNameEN</th></tr><tr><td>str</td><td>str</td><td>str</td><td>str</td><td>str</td><td>str</td><td>str</td><td>str</td><td>str</td><td>str</td><td>str</td><td>str</td><td>str</td><td>str</td><td>list[str]</td><td>i64</td><td>str</td><td>str</td><td>str</td><td>str</td><td>str</td><td>str</td><td>list[str]</td></tr></thead><tbody><tr><td>&quot;暗绿绣眼鸟&quot;</td><td>&quot;AV1195&quot;</td><td>&quot;Zosterops japonicus&quot;</td><td>&quot;鸟纲&quot;</td><td>&quot;雀形目&quot;</td><td>&quot;绣眼鸟科&quot;</td><td>&quot;绣眼鸟属&quot;</td><td>&quot;LC&quot;</td><td>&quot;LC&quot;</td><td>&quot;三有&quot;</td><td>&quot;5D8MR&quot;</td><td>&quot;8B88&quot;</td><td>&quot;species&quot;</td><td>&quot;accepted&quot;</td><td>[&quot;japanese white-eye&quot;]</td><td>9300456</td><td>&quot;Animalia&quot;</td><td>&quot;Chordata&quot;</td><td>&quot;Aves&quot;</td><td>&quot;Passeriformes&quot;</td><td>&quot;Zosteropidae&quot;</td><td>&quot;Zosterops&quot;</td><td>[&quot;japanese white-eye&quot;, &quot;japanese white-eye (japanese)&quot;, … &quot;japanese white-eye&quot;]</td></tr><tr><td>&quot;八哥&quot;</td><td>&quot;AV0734&quot;</td><td>&quot;Acridotheres cristatellus&quot;</td><td>&quot;鸟纲&quot;</td><td>&quot;雀形目&quot;</td><td>&quot;椋鸟科&quot;</td><td>&quot;八哥属&quot;</td><td>&quot;LC&quot;</td><td>&quot;LC&quot;</td><td>&quot;三有&quot;</td><td>&quot;9KHM&quot;</td><td>&quot;N9Y&quot;</td><td>&quot;species&quot;</td><td>&quot;accepted&quot;</td><td>[&quot;crested myna&quot;]</td><td>2489010</td><td>&quot;Animalia&quot;</td><td>&quot;Chordata&quot;</td><td>&quot;Aves&quot;</td><td>&quot;Passeriformes&quot;</td><td>&quot;Sturnidae&quot;</td><td>&quot;Acridotheres&quot;</td><td>[&quot;crested myna&quot;, &quot;crested myna&quot;, … &quot;crested myna&quot;]</td></tr><tr><td>&quot;白腹鸫&quot;</td><td>&quot;AV0876&quot;</td><td>&quot;Turdus pallidus&quot;</td><td>&quot;鸟纲&quot;</td><td>&quot;雀形目&quot;</td><td>&quot;鸫科&quot;</td><td>&quot;鸫属&quot;</td><td>&quot;LC&quot;</td><td>&quot;LC&quot;</td><td>&quot;三有&quot;</td><td>&quot;59PMP&quot;</td><td>&quot;647VS&quot;</td><td>&quot;species&quot;</td><td>&quot;accepted&quot;</td><td>[&quot;pale thrush&quot;]</td><td>2490773</td><td>&quot;Animalia&quot;</td><td>&quot;Chordata&quot;</td><td>&quot;Aves&quot;</td><td>&quot;Passeriformes&quot;</td><td>&quot;Turdidae&quot;</td><td>&quot;Turdus&quot;</td><td>[&quot;pale thrush&quot;, &quot;pale thrush&quot;, … &quot;pale thrush&quot;]</td></tr><tr><td>&quot;白腹蓝鹟&quot;</td><td>&quot;AV0909&quot;</td><td>&quot;Cyanoptila cyanomelana&quot;</td><td>&quot;鸟纲&quot;</td><td>&quot;雀形目&quot;</td><td>&quot;鹟科&quot;</td><td>&quot;Cyanoptila&quot;</td><td>&quot;LC&quot;</td><td>&quot;LC&quot;</td><td>&quot;三有&quot;</td><td>&quot;32NX9&quot;</td><td>&quot;3XPY&quot;</td><td>&quot;species&quot;</td><td>&quot;accepted&quot;</td><td>[&quot;blue-and-white flycatcher&quot;]</td><td>2492391</td><td>&quot;Animalia&quot;</td><td>&quot;Chordata&quot;</td><td>&quot;Aves&quot;</td><td>&quot;Passeriformes&quot;</td><td>&quot;Muscicapidae&quot;</td><td>&quot;Cyanoptila&quot;</td><td>[&quot;blue-and-white flycatcher&quot;, &quot;blue-and-white/zappey&#x27;s flycatcher&quot;, … &quot;blue-and-white flycatcher&quot;]</td></tr><tr><td>&quot;白骨顶&quot;</td><td>&quot;AV0288&quot;</td><td>&quot;Fulica atra&quot;</td><td>&quot;鸟纲&quot;</td><td>&quot;鹤形目&quot;</td><td>&quot;秧鸡科&quot;</td><td>&quot;骨顶属&quot;</td><td>&quot;LC&quot;</td><td>&quot;LC&quot;</td><td>&quot;三有&quot;</td><td>&quot;6K3W6&quot;</td><td>&quot;4LC2&quot;</td><td>&quot;species&quot;</td><td>&quot;accepted&quot;</td><td>[&quot;eurasian coot&quot;]</td><td>2474377</td><td>&quot;Animalia&quot;</td><td>&quot;Chordata&quot;</td><td>&quot;Aves&quot;</td><td>&quot;Gruiformes&quot;</td><td>&quot;Rallidae&quot;</td><td>&quot;Fulica&quot;</td><td>[&quot;eurasian coot&quot;, &quot;eurasian coot&quot;, … &quot;common coot&quot;]</td></tr><tr><td>&quot;白鹡鸰​&quot;</td><td>null</td><td>null</td><td>null</td><td>null</td><td>null</td><td>null</td><td>null</td><td>null</td><td>null</td><td>null</td><td>null</td><td>null</td><td>null</td><td>null</td><td>null</td><td>null</td><td>null</td><td>null</td><td>null</td><td>null</td><td>null</td><td>null</td></tr><tr><td>&quot;白鹭&quot;</td><td>&quot;AV0049&quot;</td><td>&quot;Egretta garzetta&quot;</td><td>&quot;鸟纲&quot;</td><td>&quot;鹈形目&quot;</td><td>&quot;鹭科&quot;</td><td>&quot;白鹭属&quot;</td><td>&quot;LC&quot;</td><td>&quot;LC&quot;</td><td>&quot;三有&quot;</td><td>&quot;6DYRB&quot;</td><td>&quot;62QNG&quot;</td><td>&quot;species&quot;</td><td>&quot;accepted&quot;</td><td>[&quot;little egret&quot;]</td><td>2480876</td><td>&quot;Animalia&quot;</td><td>&quot;Chordata&quot;</td><td>&quot;Aves&quot;</td><td>&quot;Pelecaniformes&quot;</td><td>&quot;Ardeidae&quot;</td><td>&quot;Egretta&quot;</td><td>[&quot;little egret/western reef-heron&quot;, &quot;little egret&quot;, … &quot;little egret&quot;]</td></tr><tr><td>&quot;白眉鸫&quot;</td><td>&quot;AV0875&quot;</td><td>&quot;Turdus obscurus&quot;</td><td>&quot;鸟纲&quot;</td><td>&quot;雀形目&quot;</td><td>&quot;鸫科&quot;</td><td>&quot;鸫属&quot;</td><td>&quot;LC&quot;</td><td>&quot;LC&quot;</td><td>&quot;三有&quot;</td><td>&quot;59PMJ&quot;</td><td>&quot;647VS&quot;</td><td>&quot;species&quot;</td><td>&quot;accepted&quot;</td><td>[&quot;eyebrowed thrush&quot;]</td><td>2490728</td><td>&quot;Animalia&quot;</td><td>&quot;Chordata&quot;</td><td>&quot;Aves&quot;</td><td>&quot;Passeriformes&quot;</td><td>&quot;Turdidae&quot;</td><td>&quot;Turdus&quot;</td><td>[&quot;eyebrowed thrush&quot;, &quot;eyebrowed thrush&quot;, … &quot;grey-headed thrush&quot;]</td></tr><tr><td>&quot;白眉鹀&quot;</td><td>&quot;AV1355&quot;</td><td>&quot;Emberiza tristrami&quot;</td><td>&quot;鸟纲&quot;</td><td>&quot;雀形目&quot;</td><td>&quot;鹀科&quot;</td><td>&quot;鹀属&quot;</td><td>&quot;LC&quot;</td><td>&quot;NT&quot;</td><td>&quot;三有&quot;</td><td>&quot;39FTW&quot;</td><td>&quot;4B69&quot;</td><td>&quot;species&quot;</td><td>&quot;accepted&quot;</td><td>[&quot;tristram&#x27;s bunting&quot;]</td><td>2491608</td><td>&quot;Animalia&quot;</td><td>&quot;Chordata&quot;</td><td>&quot;Aves&quot;</td><td>&quot;Passeriformes&quot;</td><td>&quot;Emberizidae&quot;</td><td>&quot;Emberiza&quot;</td><td>[&quot;tristram&#x27;s bunting&quot;, &quot;tristram&#x27;s bunting&quot;, … &quot;tristram&#x27;s bunting&quot;]</td></tr><tr><td>&quot;白头鹎&quot;</td><td>&quot;AV0683&quot;</td><td>&quot;Pycnonotus sinensis&quot;</td><td>&quot;鸟纲&quot;</td><td>&quot;雀形目&quot;</td><td>&quot;鹎科&quot;</td><td>&quot;鹎属&quot;</td><td>&quot;LC&quot;</td><td>&quot;LC&quot;</td><td>&quot;三有&quot;</td><td>&quot;4QMN5&quot;</td><td>&quot;75Q7&quot;</td><td>&quot;species&quot;</td><td>&quot;accepted&quot;</td><td>[&quot;light-vented bulbul&quot;]</td><td>2486150</td><td>&quot;Animalia&quot;</td><td>&quot;Chordata&quot;</td><td>&quot;Aves&quot;</td><td>&quot;Passeriformes&quot;</td><td>&quot;Pycnonotidae&quot;</td><td>&quot;Pycnonotus&quot;</td><td>[&quot;light-vented bulbul&quot;, &quot;light-vented bulbul&quot;, … &quot;light-vented bulbul&quot;]</td></tr><tr><td>&quot;白胸苦恶鸟&quot;</td><td>&quot;AV0277&quot;</td><td>&quot;Amaurornis phoenicurus&quot;</td><td>&quot;鸟纲&quot;</td><td>&quot;鹤形目&quot;</td><td>&quot;秧鸡科&quot;</td><td>&quot;苦恶鸟属&quot;</td><td>&quot;LC&quot;</td><td>&quot;LC&quot;</td><td>&quot;三有&quot;</td><td>&quot;65YPD&quot;</td><td>&quot;TBQ&quot;</td><td>&quot;species&quot;</td><td>&quot;accepted&quot;</td><td>[&quot;white-breasted waterhen&quot;]</td><td>2474732</td><td>&quot;Animalia&quot;</td><td>&quot;Chordata&quot;</td><td>&quot;Aves&quot;</td><td>&quot;Gruiformes&quot;</td><td>&quot;Rallidae&quot;</td><td>&quot;Amaurornis&quot;</td><td>[&quot;white-breasted waterhen&quot;, &quot;white-breasted waterhen&quot;, … &quot;white-breasted waterhen&quot;]</td></tr><tr><td>&quot;白腰草鹬&quot;</td><td>&quot;AV0345&quot;</td><td>&quot;Tringa ochropus&quot;</td><td>&quot;鸟纲&quot;</td><td>&quot;鸻形目&quot;</td><td>&quot;鹬科&quot;</td><td>&quot;鹬属&quot;</td><td>&quot;LC&quot;</td><td>&quot;LC&quot;</td><td>&quot;三有&quot;</td><td>&quot;58VJC&quot;</td><td>&quot;8288&quot;</td><td>&quot;species&quot;</td><td>&quot;accepted&quot;</td><td>[&quot;green sandpiper&quot;]</td><td>2481728</td><td>&quot;Animalia&quot;</td><td>&quot;Chordata&quot;</td><td>&quot;Aves&quot;</td><td>&quot;Charadriiformes&quot;</td><td>&quot;Scolopacidae&quot;</td><td>&quot;Tringa&quot;</td><td>[&quot;green sandpiper&quot;, &quot;green sandpiper&quot;, … &quot;green sandpiper&quot;]</td></tr><tr><td>&hellip;</td><td>&hellip;</td><td>&hellip;</td><td>&hellip;</td><td>&hellip;</td><td>&hellip;</td><td>&hellip;</td><td>&hellip;</td><td>&hellip;</td><td>&hellip;</td><td>&hellip;</td><td>&hellip;</td><td>&hellip;</td><td>&hellip;</td><td>&hellip;</td><td>&hellip;</td><td>&hellip;</td><td>&hellip;</td><td>&hellip;</td><td>&hellip;</td><td>&hellip;</td><td>&hellip;</td><td>&hellip;</td></tr><tr><td>&quot;乌鹟&quot;</td><td>&quot;AV0890&quot;</td><td>&quot;Muscicapa sibirica&quot;</td><td>&quot;鸟纲&quot;</td><td>&quot;雀形目&quot;</td><td>&quot;鹟科&quot;</td><td>&quot;鹟属&quot;</td><td>&quot;LC&quot;</td><td>&quot;LC&quot;</td><td>&quot;三有&quot;</td><td>&quot;44Q66&quot;</td><td>&quot;5VVQ&quot;</td><td>&quot;species&quot;</td><td>&quot;accepted&quot;</td><td>[&quot;dark-sided flycatcher&quot;, &quot;siberian flycatcher&quot;]</td><td>2492566</td><td>&quot;Animalia&quot;</td><td>&quot;Chordata&quot;</td><td>&quot;Aves&quot;</td><td>&quot;Passeriformes&quot;</td><td>&quot;Muscicapidae&quot;</td><td>&quot;Muscicapa&quot;</td><td>[&quot;dark-sided flycatcher&quot;, &quot;dark-sided flycatcher&quot;, … &quot;dark-sided flycatcher&quot;]</td></tr><tr><td>&quot;喜鹊&quot;</td><td>&quot;AV0766&quot;</td><td>&quot;Pica pica&quot;</td><td>&quot;鸟纲&quot;</td><td>&quot;雀形目&quot;</td><td>&quot;鸦科&quot;</td><td>&quot;鹊属&quot;</td><td>&quot;LC&quot;</td><td>&quot;LC&quot;</td><td>&quot;三有&quot;</td><td>&quot;4HPXM&quot;</td><td>&quot;63MBS&quot;</td><td>&quot;species&quot;</td><td>&quot;accepted&quot;</td><td>[&quot;black-billed magpie&quot;, &quot;eurasian magpie&quot;]</td><td>5229490</td><td>&quot;Animalia&quot;</td><td>&quot;Chordata&quot;</td><td>&quot;Aves&quot;</td><td>&quot;Passeriformes&quot;</td><td>&quot;Corvidae&quot;</td><td>&quot;Pica&quot;</td><td>[&quot;eurasian magpie&quot;, &quot;eurasian magpie (eurasian)&quot;, … &quot;eurasian magpie&quot;]</td></tr><tr><td>&quot;小䴙䴘&quot;</td><td>&quot;AV0005&quot;</td><td>&quot;Tachybaptus ruficollis&quot;</td><td>&quot;鸟纲&quot;</td><td>&quot;䴙䴘目&quot;</td><td>&quot;䴙䴘科&quot;</td><td>&quot;小䴙䴘属&quot;</td><td>&quot;LC&quot;</td><td>&quot;LC&quot;</td><td>&quot;三有&quot;</td><td>&quot;54C7M&quot;</td><td>&quot;7RSK&quot;</td><td>&quot;species&quot;</td><td>&quot;accepted&quot;</td><td>[&quot;little grebe&quot;]</td><td>2482048</td><td>&quot;Animalia&quot;</td><td>&quot;Chordata&quot;</td><td>&quot;Aves&quot;</td><td>&quot;Podicipediformes&quot;</td><td>&quot;Podicipedidae&quot;</td><td>&quot;Tachybaptus&quot;</td><td>[&quot;little grebe&quot;, &quot;little grebe&quot;, … &quot;little grebe&quot;]</td></tr><tr><td>&quot;燕雀&quot;</td><td>&quot;AV1286&quot;</td><td>&quot;Fringilla montifringilla&quot;</td><td>&quot;鸟纲&quot;</td><td>&quot;雀形目&quot;</td><td>&quot;燕雀科&quot;</td><td>&quot;燕雀属&quot;</td><td>&quot;LC&quot;</td><td>&quot;LC&quot;</td><td>&quot;三有&quot;</td><td>&quot;6JPSG&quot;</td><td>&quot;4L6M&quot;</td><td>&quot;species&quot;</td><td>&quot;accepted&quot;</td><td>[&quot;brambling&quot;]</td><td>2494441</td><td>&quot;Animalia&quot;</td><td>&quot;Chordata&quot;</td><td>&quot;Aves&quot;</td><td>&quot;Passeriformes&quot;</td><td>&quot;Fringillidae&quot;</td><td>&quot;Fringilla&quot;</td><td>[&quot;brambling&quot;, &quot;brambling&quot;, … &quot;brambling&quot;]</td></tr><tr><td>&quot;夜鹭&quot;</td><td>&quot;AV0055&quot;</td><td>&quot;Nycticorax nycticorax&quot;</td><td>&quot;鸟纲&quot;</td><td>&quot;鹈形目&quot;</td><td>&quot;鹭科&quot;</td><td>&quot;夜鹭属&quot;</td><td>&quot;LC&quot;</td><td>&quot;LC&quot;</td><td>&quot;三有&quot;</td><td>&quot;485KR&quot;</td><td>&quot;65ZQ&quot;</td><td>&quot;species&quot;</td><td>&quot;accepted&quot;</td><td>[&quot;black-crowned night heron&quot;, &quot;black-crowned night-heron&quot;]</td><td>2480863</td><td>&quot;Animalia&quot;</td><td>&quot;Chordata&quot;</td><td>&quot;Aves&quot;</td><td>&quot;Pelecaniformes&quot;</td><td>&quot;Ardeidae&quot;</td><td>&quot;Nycticorax&quot;</td><td>[&quot;black-crowned night-heron&quot;, &quot;black-crowned/rufous night-heron&quot;, … &quot;black-crowned night-heron&quot;]</td></tr><tr><td>&quot;银喉长尾山雀&quot;</td><td>&quot;AV1375&quot;</td><td>&quot;Aegithalos glaucogularis&quot;</td><td>&quot;鸟纲&quot;</td><td>&quot;雀形目&quot;</td><td>&quot;长尾山雀科&quot;</td><td>&quot;长尾山雀属&quot;</td><td>&quot;LC&quot;</td><td>&quot;LC&quot;</td><td>&quot;三有&quot;</td><td>&quot;64X32&quot;</td><td>&quot;629KV&quot;</td><td>&quot;species&quot;</td><td>&quot;accepted&quot;</td><td>null</td><td>5844992</td><td>&quot;Animalia&quot;</td><td>&quot;Chordata&quot;</td><td>&quot;Aves&quot;</td><td>&quot;Passeriformes&quot;</td><td>&quot;Aegithalidae&quot;</td><td>&quot;Aegithalos&quot;</td><td>[&quot;silver-throated tit&quot;, &quot;silver-throated tit / silver-throated bushtit&quot;, … &quot;silver-throated tit&quot;]</td></tr><tr><td>&quot;鸳鸯&quot;</td><td>&quot;AV0099&quot;</td><td>&quot;Aix galericulata&quot;</td><td>&quot;鸟纲&quot;</td><td>&quot;雁形目&quot;</td><td>&quot;鸭科&quot;</td><td>&quot;鸳鸯属&quot;</td><td>&quot;LC&quot;</td><td>&quot;NT&quot;</td><td>&quot;II&quot;</td><td>&quot;5TV4F&quot;</td><td>&quot;R89&quot;</td><td>&quot;species&quot;</td><td>&quot;accepted&quot;</td><td>[&quot;mandarin duck&quot;]</td><td>2498388</td><td>&quot;Animalia&quot;</td><td>&quot;Chordata&quot;</td><td>&quot;Aves&quot;</td><td>&quot;Anseriformes&quot;</td><td>&quot;Anatidae&quot;</td><td>&quot;Aix&quot;</td><td>[&quot;mandarin duck&quot;, &quot;mandarin duck&quot;, … &quot;mandarin duck&quot;]</td></tr><tr><td>&quot;中白鹭&quot;</td><td>&quot;AV0048&quot;</td><td>&quot;Ardea intermedia&quot;</td><td>&quot;鸟纲&quot;</td><td>&quot;鹈形目&quot;</td><td>&quot;鹭科&quot;</td><td>&quot;鹭属&quot;</td><td>&quot;LC&quot;</td><td>&quot;LC&quot;</td><td>&quot;三有&quot;</td><td>null</td><td>null</td><td>null</td><td>null</td><td>null</td><td>null</td><td>null</td><td>null</td><td>null</td><td>null</td><td>null</td><td>null</td><td>null</td></tr><tr><td>&quot;珠颈斑鸠&quot;</td><td>&quot;AV0439&quot;</td><td>&quot;Streptopelia chinensis&quot;</td><td>&quot;鸟纲&quot;</td><td>&quot;鸽形目&quot;</td><td>&quot;鸠鸽科&quot;</td><td>&quot;斑鸠属&quot;</td><td>null</td><td>&quot;LC&quot;</td><td>&quot;三有&quot;</td><td>&quot;6ZY22&quot;</td><td>&quot;4Z4BP&quot;</td><td>&quot;species&quot;</td><td>&quot;synonym&quot;</td><td>null</td><td>null</td><td>null</td><td>null</td><td>null</td><td>null</td><td>null</td><td>null</td><td>null</td></tr><tr><td>&quot;紫寿带&quot;</td><td>&quot;AV0928&quot;</td><td>&quot;Terpsiphone atrocaudata&quot;</td><td>&quot;鸟纲&quot;</td><td>&quot;雀形目&quot;</td><td>&quot;王鹟科&quot;</td><td>&quot;寿带属&quot;</td><td>&quot;NT&quot;</td><td>&quot;NT&quot;</td><td>&quot;三有&quot;</td><td>&quot;7BRLN&quot;</td><td>&quot;646X9&quot;</td><td>&quot;species&quot;</td><td>&quot;accepted&quot;</td><td>[&quot;japanese paradise flycatcher&quot;]</td><td>2486680</td><td>&quot;Animalia&quot;</td><td>&quot;Chordata&quot;</td><td>&quot;Aves&quot;</td><td>&quot;Passeriformes&quot;</td><td>&quot;Monarchidae&quot;</td><td>&quot;Terpsiphone&quot;</td><td>[&quot;japanese paradise flycatcher&quot;, &quot;japanese paradise-flycatcher&quot;, … &quot;japanese paradise-flycatcher&quot;]</td></tr><tr><td>&quot;棕背伯劳&quot;</td><td>&quot;AV0710&quot;</td><td>&quot;Lanius schach&quot;</td><td>&quot;鸟纲&quot;</td><td>&quot;雀形目&quot;</td><td>&quot;伯劳科&quot;</td><td>&quot;伯劳属&quot;</td><td>&quot;LC&quot;</td><td>&quot;LC&quot;</td><td>&quot;三有&quot;</td><td>&quot;3S7C5&quot;</td><td>&quot;62XLP&quot;</td><td>&quot;species&quot;</td><td>&quot;accepted&quot;</td><td>[&quot;long-tailed shrike&quot;]</td><td>9273219</td><td>&quot;Animalia&quot;</td><td>&quot;Chordata&quot;</td><td>&quot;Aves&quot;</td><td>&quot;Passeriformes&quot;</td><td>&quot;Laniidae&quot;</td><td>&quot;Lanius&quot;</td><td>[&quot;long-tailed shrike&quot;, &quot;long-tailed shrike&quot;, … &quot;long-tailed shrike&quot;]</td></tr><tr><td>&quot;棕头鸦雀&quot;</td><td>&quot;AV1065&quot;</td><td>&quot;Sinosuthora webbiana&quot;</td><td>&quot;鸟纲&quot;</td><td>&quot;雀形目&quot;</td><td>&quot;莺鹛科&quot;</td><td>&quot;Sinosuthora&quot;</td><td>&quot;LC&quot;</td><td>&quot;LC&quot;</td><td>&quot;三有&quot;</td><td>&quot;4XLYS&quot;</td><td>&quot;7HJ2&quot;</td><td>&quot;species&quot;</td><td>&quot;accepted&quot;</td><td>[&quot;vinous-throated parrotbill&quot;]</td><td>6100921</td><td>&quot;Animalia&quot;</td><td>&quot;Chordata&quot;</td><td>&quot;Aves&quot;</td><td>&quot;Passeriformes&quot;</td><td>&quot;Sylviidae&quot;</td><td>&quot;Sinosuthora&quot;</td><td>[&quot;vinous-throated parrotbill&quot;, &quot;vinous-throated parrotbill&quot;, … &quot;crow tit&quot;]</td></tr></tbody></table></div>"
      ],
      "text/plain": [
       "shape: (86, 23)\n",
       "┌───────────┬───────────┬───────────┬───────────┬───┬───────────┬───────────┬───────────┬──────────┐\n",
       "│ shanshuiV ┆ shanshuiT ┆ scientifi ┆ shanshuiC ┆ … ┆ order     ┆ family    ┆ genus     ┆ gbifVern │\n",
       "│ ernacular ┆ axonID    ┆ cName     ┆ lassCN    ┆   ┆ ---       ┆ ---       ┆ ---       ┆ acularNa │\n",
       "│ NameCN    ┆ ---       ┆ ---       ┆ ---       ┆   ┆ str       ┆ str       ┆ str       ┆ meEN     │\n",
       "│ ---       ┆ str       ┆ str       ┆ str       ┆   ┆           ┆           ┆           ┆ ---      │\n",
       "│ str       ┆           ┆           ┆           ┆   ┆           ┆           ┆           ┆ list[str │\n",
       "│           ┆           ┆           ┆           ┆   ┆           ┆           ┆           ┆ ]        │\n",
       "╞═══════════╪═══════════╪═══════════╪═══════════╪═══╪═══════════╪═══════════╪═══════════╪══════════╡\n",
       "│ 暗绿绣眼  ┆ AV1195    ┆ Zosterops ┆ 鸟纲      ┆ … ┆ Passerifo ┆ Zosteropi ┆ Zosterops ┆ [\"japane │\n",
       "│ 鸟        ┆           ┆ japonicus ┆           ┆   ┆ rmes      ┆ dae       ┆           ┆ se white │\n",
       "│           ┆           ┆           ┆           ┆   ┆           ┆           ┆           ┆ -eye\",   │\n",
       "│           ┆           ┆           ┆           ┆   ┆           ┆           ┆           ┆ \"japanes │\n",
       "│           ┆           ┆           ┆           ┆   ┆           ┆           ┆           ┆ e white- │\n",
       "│           ┆           ┆           ┆           ┆   ┆           ┆           ┆           ┆ eye      │\n",
       "│           ┆           ┆           ┆           ┆   ┆           ┆           ┆           ┆ (japane… │\n",
       "│ 八哥      ┆ AV0734    ┆ Acridothe ┆ 鸟纲      ┆ … ┆ Passerifo ┆ Sturnidae ┆ Acridothe ┆ [\"creste │\n",
       "│           ┆           ┆ res crist ┆           ┆   ┆ rmes      ┆           ┆ res       ┆ d myna\", │\n",
       "│           ┆           ┆ atellus   ┆           ┆   ┆           ┆           ┆           ┆ \"crested │\n",
       "│           ┆           ┆           ┆           ┆   ┆           ┆           ┆           ┆ myna\", … │\n",
       "│           ┆           ┆           ┆           ┆   ┆           ┆           ┆           ┆ \"crested │\n",
       "│           ┆           ┆           ┆           ┆   ┆           ┆           ┆           ┆ myna\"]   │\n",
       "│ 白腹鸫    ┆ AV0876    ┆ Turdus    ┆ 鸟纲      ┆ … ┆ Passerifo ┆ Turdidae  ┆ Turdus    ┆ [\"pale   │\n",
       "│           ┆           ┆ pallidus  ┆           ┆   ┆ rmes      ┆           ┆           ┆ thrush\", │\n",
       "│           ┆           ┆           ┆           ┆   ┆           ┆           ┆           ┆ \"pale    │\n",
       "│           ┆           ┆           ┆           ┆   ┆           ┆           ┆           ┆ thrush\", │\n",
       "│           ┆           ┆           ┆           ┆   ┆           ┆           ┆           ┆ … \"pale  │\n",
       "│           ┆           ┆           ┆           ┆   ┆           ┆           ┆           ┆ thrush\"] │\n",
       "│ 白腹蓝鹟  ┆ AV0909    ┆ Cyanoptil ┆ 鸟纲      ┆ … ┆ Passerifo ┆ Muscicapi ┆ Cyanoptil ┆ [\"blue-a │\n",
       "│           ┆           ┆ a cyanome ┆           ┆   ┆ rmes      ┆ dae       ┆ a         ┆ nd-white │\n",
       "│           ┆           ┆ lana      ┆           ┆   ┆           ┆           ┆           ┆ flycatch │\n",
       "│           ┆           ┆           ┆           ┆   ┆           ┆           ┆           ┆ er\", \"bl │\n",
       "│           ┆           ┆           ┆           ┆   ┆           ┆           ┆           ┆ ue-and-w │\n",
       "│           ┆           ┆           ┆           ┆   ┆           ┆           ┆           ┆ hite/zap │\n",
       "│           ┆           ┆           ┆           ┆   ┆           ┆           ┆           ┆ p…       │\n",
       "│ 白骨顶    ┆ AV0288    ┆ Fulica    ┆ 鸟纲      ┆ … ┆ Gruiforme ┆ Rallidae  ┆ Fulica    ┆ [\"eurasi │\n",
       "│           ┆           ┆ atra      ┆           ┆   ┆ s         ┆           ┆           ┆ an       │\n",
       "│           ┆           ┆           ┆           ┆   ┆           ┆           ┆           ┆ coot\",   │\n",
       "│           ┆           ┆           ┆           ┆   ┆           ┆           ┆           ┆ \"eurasia │\n",
       "│           ┆           ┆           ┆           ┆   ┆           ┆           ┆           ┆ n coot\", │\n",
       "│           ┆           ┆           ┆           ┆   ┆           ┆           ┆           ┆ …        │\n",
       "│           ┆           ┆           ┆           ┆   ┆           ┆           ┆           ┆ \"common  │\n",
       "│           ┆           ┆           ┆           ┆   ┆           ┆           ┆           ┆ coot\"…   │\n",
       "│ …         ┆ …         ┆ …         ┆ …         ┆ … ┆ …         ┆ …         ┆ …         ┆ …        │\n",
       "│ 中白鹭    ┆ AV0048    ┆ Ardea int ┆ 鸟纲      ┆ … ┆ null      ┆ null      ┆ null      ┆ null     │\n",
       "│           ┆           ┆ ermedia   ┆           ┆   ┆           ┆           ┆           ┆          │\n",
       "│ 珠颈斑鸠  ┆ AV0439    ┆ Streptope ┆ 鸟纲      ┆ … ┆ null      ┆ null      ┆ null      ┆ null     │\n",
       "│           ┆           ┆ lia       ┆           ┆   ┆           ┆           ┆           ┆          │\n",
       "│           ┆           ┆ chinensis ┆           ┆   ┆           ┆           ┆           ┆          │\n",
       "│ 紫寿带    ┆ AV0928    ┆ Terpsipho ┆ 鸟纲      ┆ … ┆ Passerifo ┆ Monarchid ┆ Terpsipho ┆ [\"japane │\n",
       "│           ┆           ┆ ne atroca ┆           ┆   ┆ rmes      ┆ ae        ┆ ne        ┆ se       │\n",
       "│           ┆           ┆ udata     ┆           ┆   ┆           ┆           ┆           ┆ paradise │\n",
       "│           ┆           ┆           ┆           ┆   ┆           ┆           ┆           ┆ flycatch │\n",
       "│           ┆           ┆           ┆           ┆   ┆           ┆           ┆           ┆ er\", \"ja │\n",
       "│           ┆           ┆           ┆           ┆   ┆           ┆           ┆           ┆ panese   │\n",
       "│           ┆           ┆           ┆           ┆   ┆           ┆           ┆           ┆ paradis… │\n",
       "│ 棕背伯劳  ┆ AV0710    ┆ Lanius    ┆ 鸟纲      ┆ … ┆ Passerifo ┆ Laniidae  ┆ Lanius    ┆ [\"long-t │\n",
       "│           ┆           ┆ schach    ┆           ┆   ┆ rmes      ┆           ┆           ┆ ailed    │\n",
       "│           ┆           ┆           ┆           ┆   ┆           ┆           ┆           ┆ shrike\", │\n",
       "│           ┆           ┆           ┆           ┆   ┆           ┆           ┆           ┆ \"long-ta │\n",
       "│           ┆           ┆           ┆           ┆   ┆           ┆           ┆           ┆ iled     │\n",
       "│           ┆           ┆           ┆           ┆   ┆           ┆           ┆           ┆ shrike\", │\n",
       "│           ┆           ┆           ┆           ┆   ┆           ┆           ┆           ┆ … \"lo…   │\n",
       "│ 棕头鸦雀  ┆ AV1065    ┆ Sinosutho ┆ 鸟纲      ┆ … ┆ Passerifo ┆ Sylviidae ┆ Sinosutho ┆ [\"vinous │\n",
       "│           ┆           ┆ ra        ┆           ┆   ┆ rmes      ┆           ┆ ra        ┆ -throate │\n",
       "│           ┆           ┆ webbiana  ┆           ┆   ┆           ┆           ┆           ┆ d parrot │\n",
       "│           ┆           ┆           ┆           ┆   ┆           ┆           ┆           ┆ bill\",   │\n",
       "│           ┆           ┆           ┆           ┆   ┆           ┆           ┆           ┆ \"vinous- │\n",
       "│           ┆           ┆           ┆           ┆   ┆           ┆           ┆           ┆ throated │\n",
       "│           ┆           ┆           ┆           ┆   ┆           ┆           ┆           ┆ pa…      │\n",
       "└───────────┴───────────┴───────────┴───────────┴───┴───────────┴───────────┴───────────┴──────────┘"
      ]
     },
     "execution_count": 117,
     "metadata": {},
     "output_type": "execute_result"
    }
   ],
   "source": [
    "df_sh_bird"
   ]
  },
  {
   "cell_type": "code",
   "execution_count": 130,
   "id": "d6d453e0-144d-4948-80bf-0f68622f8a1b",
   "metadata": {},
   "outputs": [],
   "source": [
    "df_sh_bird.with_columns([\n",
    "    (pl.col(\"gbifVernacularNameEN\").list.unique().list.join(\", \")).alias(\"gbifVernacularNameEN\"),\n",
    "    (pl.col(\"colVernacularNameEN\").list.unique().list.join(\", \")).alias(\"colVernacularNameEN\"),\n",
    "]).drop([\"parentID\", \"status\"]).rename({\"shanshuiVernacularNameCN\": \"vernacularNameCN\"}).write_csv(\"./maze_taxonomy_jinhai.csv\")\n"
   ]
  },
  {
   "cell_type": "code",
   "execution_count": 124,
   "id": "b5add3bb-6d58-49ed-a6f4-42b752dc1b92",
   "metadata": {},
   "outputs": [
    {
     "data": {
      "text/html": [
       "<div><style>\n",
       ".dataframe > thead > tr,\n",
       ".dataframe > tbody > tr {\n",
       "  text-align: right;\n",
       "  white-space: pre-wrap;\n",
       "}\n",
       "</style>\n",
       "<small>shape: (1, 25)</small><table border=\"1\" class=\"dataframe\"><thead><tr><th>SpeciesID</th><th>ChineseName</th><th>ScientificName</th><th>ClassCN</th><th>Class</th><th>OrderCN</th><th>Order</th><th>FamilyCN</th><th>Family</th><th>GenusCN</th><th>Genus</th><th>SpeciesEpithet</th><th>SpeciesName</th><th>Subspecies</th><th>ChineseAlias</th><th>EnglishAlias</th><th>ScientificSynonym</th><th>Endemic</th><th>IUCN</th><th>IUCNCriteria</th><th>RCB</th><th>RCBCriteria</th><th>NationalKey</th><th>CITES</th><th>Notes</th></tr><tr><td>str</td><td>str</td><td>str</td><td>str</td><td>str</td><td>str</td><td>str</td><td>str</td><td>str</td><td>str</td><td>str</td><td>str</td><td>str</td><td>str</td><td>str</td><td>str</td><td>str</td><td>str</td><td>str</td><td>str</td><td>str</td><td>str</td><td>str</td><td>str</td><td>str</td></tr></thead><tbody><tr><td>&quot;AV0048&quot;</td><td>&quot;中白鹭&quot;</td><td>&quot;Ardea intermedia&quot;</td><td>&quot;鸟纲&quot;</td><td>&quot;Aves&quot;</td><td>&quot;鹈形目&quot;</td><td>&quot;Pelecaniformes&quot;</td><td>&quot;鹭科&quot;</td><td>&quot;Ardeidae&quot;</td><td>&quot;鹭属&quot;</td><td>&quot;Ardea&quot;</td><td>&quot;intermedia&quot;</td><td>null</td><td>null</td><td>null</td><td>null</td><td>&quot;Egretta intermedia (synonym)&quot;</td><td>null</td><td>&quot;LC&quot;</td><td>null</td><td>&quot;LC&quot;</td><td>null</td><td>&quot;三有&quot;</td><td>null</td><td>null</td></tr></tbody></table></div>"
      ],
      "text/plain": [
       "shape: (1, 25)\n",
       "┌───────────┬─────────────┬──────────────┬─────────┬───┬─────────────┬─────────────┬───────┬───────┐\n",
       "│ SpeciesID ┆ ChineseName ┆ ScientificNa ┆ ClassCN ┆ … ┆ RCBCriteria ┆ NationalKey ┆ CITES ┆ Notes │\n",
       "│ ---       ┆ ---         ┆ me           ┆ ---     ┆   ┆ ---         ┆ ---         ┆ ---   ┆ ---   │\n",
       "│ str       ┆ str         ┆ ---          ┆ str     ┆   ┆ str         ┆ str         ┆ str   ┆ str   │\n",
       "│           ┆             ┆ str          ┆         ┆   ┆             ┆             ┆       ┆       │\n",
       "╞═══════════╪═════════════╪══════════════╪═════════╪═══╪═════════════╪═════════════╪═══════╪═══════╡\n",
       "│ AV0048    ┆ 中白鹭      ┆ Ardea        ┆ 鸟纲    ┆ … ┆ null        ┆ 三有        ┆ null  ┆ null  │\n",
       "│           ┆             ┆ intermedia   ┆         ┆   ┆             ┆             ┆       ┆       │\n",
       "└───────────┴─────────────┴──────────────┴─────────┴───┴─────────────┴─────────────┴───────┴───────┘"
      ]
     },
     "execution_count": 124,
     "metadata": {},
     "output_type": "execute_result"
    }
   ],
   "source": [
    "df_shanshui_raw.filter(pl.col(\"SpeciesID\") == \"AV0048\")"
   ]
  },
  {
   "cell_type": "code",
   "execution_count": 126,
   "id": "5f3692e1-7e30-4cc3-bfba-88313f435fb9",
   "metadata": {},
   "outputs": [
    {
     "data": {
      "text/html": [
       "<div><style>\n",
       ".dataframe > thead > tr,\n",
       ".dataframe > tbody > tr {\n",
       "  text-align: right;\n",
       "  white-space: pre-wrap;\n",
       "}\n",
       "</style>\n",
       "<small>shape: (0, 6)</small><table border=\"1\" class=\"dataframe\"><thead><tr><th>taxonID</th><th>parentID</th><th>rank</th><th>scientificName</th><th>status</th><th>colVernacularNameEN</th></tr><tr><td>str</td><td>str</td><td>str</td><td>str</td><td>str</td><td>list[str]</td></tr></thead><tbody></tbody></table></div>"
      ],
      "text/plain": [
       "shape: (0, 6)\n",
       "┌─────────┬──────────┬──────┬────────────────┬────────┬─────────────────────┐\n",
       "│ taxonID ┆ parentID ┆ rank ┆ scientificName ┆ status ┆ colVernacularNameEN │\n",
       "│ ---     ┆ ---      ┆ ---  ┆ ---            ┆ ---    ┆ ---                 │\n",
       "│ str     ┆ str      ┆ str  ┆ str            ┆ str    ┆ list[str]           │\n",
       "╞═════════╪══════════╪══════╪════════════════╪════════╪═════════════════════╡\n",
       "└─────────┴──────────┴──────┴────────────────┴────────┴─────────────────────┘"
      ]
     },
     "execution_count": 126,
     "metadata": {},
     "output_type": "execute_result"
    }
   ],
   "source": [
    "df_col.filter(pl.col(\"scientificName\") == \"Ardea intermedia\")"
   ]
  },
  {
   "cell_type": "code",
   "execution_count": 6,
   "id": "05c0268e-1c9e-4dfa-84e2-a9865158ecb9",
   "metadata": {},
   "outputs": [],
   "source": [
    "df_colchina_raw = pl.read_excel(\"/home/wsyxbcl/Downloads/动物界-脊索动物门-2023-8476.xlsx\")"
   ]
  },
  {
   "cell_type": "code",
   "execution_count": 8,
   "id": "2cb2d826-fddd-455b-bff4-0004199eed30",
   "metadata": {},
   "outputs": [
    {
     "data": {
      "text/html": [
       "<div><style>\n",
       ".dataframe > thead > tr,\n",
       ".dataframe > tbody > tr {\n",
       "  text-align: right;\n",
       "  white-space: pre-wrap;\n",
       "}\n",
       "</style>\n",
       "<small>shape: (1, 16)</small><table border=\"1\" class=\"dataframe\"><thead><tr><th>界中文名</th><th>界拉丁名</th><th>门中文名</th><th>门拉丁名</th><th>纲中文名</th><th>纲拉丁名</th><th>目中文名</th><th>目拉丁名</th><th>科中文名</th><th>科拉丁名</th><th>属中文名</th><th>属拉丁名</th><th>种中文名</th><th>种拉丁名</th><th>审核专家</th><th>名录版本</th></tr><tr><td>str</td><td>str</td><td>str</td><td>str</td><td>str</td><td>str</td><td>str</td><td>str</td><td>str</td><td>str</td><td>str</td><td>str</td><td>str</td><td>str</td><td>str</td><td>i64</td></tr></thead><tbody><tr><td>&quot;动物界&quot;</td><td>&quot;Animalia&quot;</td><td>&quot;脊索动物门&quot;</td><td>&quot;Chordata&quot;</td><td>&quot;哺乳纲&quot;</td><td>&quot;Mammalia&quot;</td><td>&quot;鲸偶蹄目&quot;</td><td>&quot;CETARTIODACTYLA&quot;</td><td>&quot;鹿科&quot;</td><td>&quot;Cervidae&quot;</td><td>&quot;白唇鹿属&quot;</td><td>&quot;Przewalskium&quot;</td><td>&quot;白唇鹿&quot;</td><td>&quot;Przewalskium albirostris&quot;</td><td>&quot;Wei FuWen、Hu YiBo&quot;</td><td>2023</td></tr></tbody></table></div>"
      ],
      "text/plain": [
       "shape: (1, 16)\n",
       "┌──────────┬──────────┬────────────┬──────────┬───┬──────────┬─────────────┬────────────┬──────────┐\n",
       "│ 界中文名 ┆ 界拉丁名 ┆ 门中文名   ┆ 门拉丁名 ┆ … ┆ 种中文名 ┆ 种拉丁名    ┆ 审核专家   ┆ 名录版本 │\n",
       "│ ---      ┆ ---      ┆ ---        ┆ ---      ┆   ┆ ---      ┆ ---         ┆ ---        ┆ ---      │\n",
       "│ str      ┆ str      ┆ str        ┆ str      ┆   ┆ str      ┆ str         ┆ str        ┆ i64      │\n",
       "╞══════════╪══════════╪════════════╪══════════╪═══╪══════════╪═════════════╪════════════╪══════════╡\n",
       "│ 动物界   ┆ Animalia ┆ 脊索动物门 ┆ Chordata ┆ … ┆ 白唇鹿   ┆ Przewalskiu ┆ Wei        ┆ 2023     │\n",
       "│          ┆          ┆            ┆          ┆   ┆          ┆ m           ┆ FuWen、Hu  ┆          │\n",
       "│          ┆          ┆            ┆          ┆   ┆          ┆ albirostris ┆ YiBo       ┆          │\n",
       "└──────────┴──────────┴────────────┴──────────┴───┴──────────┴─────────────┴────────────┴──────────┘"
      ]
     },
     "execution_count": 8,
     "metadata": {},
     "output_type": "execute_result"
    }
   ],
   "source": [
    "df_colchina_raw.filter(pl.col(\"种中文名\").eq(\"白唇鹿\"))"
   ]
  },
  {
   "cell_type": "code",
   "execution_count": null,
   "id": "2a4a659a-83e4-4070-ab6d-2847b86cb809",
   "metadata": {},
   "outputs": [],
   "source": []
  },
  {
   "cell_type": "code",
   "execution_count": null,
   "id": "8a6cd7a8-6ce9-4540-bbae-9bbf27151c98",
   "metadata": {},
   "outputs": [],
   "source": [
    "# Check scientific name difference \n",
    "df_colchina = df_colchina_raw.select([\n",
    "    pl.col(\"种拉丁名\").alias(\"scientificName\")\n",
    "])\n",
    "df_colchina_compare = df_colchina.join(df_col, on=\"scientificName\", how=\"left\")"
   ]
  },
  {
   "cell_type": "code",
   "execution_count": 13,
   "id": "449c7d3f-1f58-4301-b947-a9a9c8ac0f90",
   "metadata": {},
   "outputs": [
    {
     "data": {
      "text/html": [
       "<div><style>\n",
       ".dataframe > thead > tr,\n",
       ".dataframe > tbody > tr {\n",
       "  text-align: right;\n",
       "  white-space: pre-wrap;\n",
       "}\n",
       "</style>\n",
       "<small>shape: (3_036_425, 6)</small><table border=\"1\" class=\"dataframe\"><thead><tr><th>taxonID</th><th>parentID</th><th>rank</th><th>scientificName</th><th>status</th><th>colVernacularNameEN</th></tr><tr><td>str</td><td>str</td><td>str</td><td>str</td><td>str</td><td>list[str]</td></tr></thead><tbody><tr><td>&quot;57DH4&quot;</td><td>&quot;7XMV&quot;</td><td>&quot;species&quot;</td><td>&quot;Tomomyza nitidula&quot;</td><td>&quot;accepted&quot;</td><td>null</td></tr><tr><td>&quot;92VBG&quot;</td><td>&quot;8C85H&quot;</td><td>&quot;species&quot;</td><td>&quot;Oncopsia dubia&quot;</td><td>&quot;synonym&quot;</td><td>null</td></tr><tr><td>&quot;XYRB&quot;</td><td>&quot;7NTGP&quot;</td><td>&quot;species&quot;</td><td>&quot;Convoluta variabilis&quot;</td><td>&quot;accepted&quot;</td><td>null</td></tr><tr><td>&quot;7SPV9&quot;</td><td>&quot;7QH3R&quot;</td><td>&quot;species&quot;</td><td>&quot;Physa permembranacea&quot;</td><td>&quot;synonym&quot;</td><td>null</td></tr><tr><td>&quot;37NKH&quot;</td><td>&quot;48BD&quot;</td><td>&quot;species&quot;</td><td>&quot;Drilaster shibatai&quot;</td><td>&quot;accepted&quot;</td><td>null</td></tr><tr><td>&quot;GSS3&quot;</td><td>&quot;7NPQ8&quot;</td><td>&quot;species&quot;</td><td>&quot;Armina cordellensis&quot;</td><td>&quot;accepted&quot;</td><td>null</td></tr><tr><td>&quot;96MQH&quot;</td><td>&quot;927N2&quot;</td><td>&quot;species&quot;</td><td>&quot;Dyspessa zurvan&quot;</td><td>&quot;accepted&quot;</td><td>null</td></tr><tr><td>&quot;BH5S2&quot;</td><td>&quot;7QFSG&quot;</td><td>&quot;species&quot;</td><td>&quot;Helix dentrita&quot;</td><td>&quot;synonym&quot;</td><td>null</td></tr><tr><td>&quot;928Q2&quot;</td><td>&quot;92HJP&quot;</td><td>&quot;genus&quot;</td><td>&quot;Euctenurapteryx&quot;</td><td>&quot;synonym&quot;</td><td>null</td></tr><tr><td>&quot;9484Q&quot;</td><td>&quot;93N77&quot;</td><td>&quot;species&quot;</td><td>&quot;Achaea trapezoides&quot;</td><td>&quot;accepted&quot;</td><td>null</td></tr><tr><td>&quot;BQ74G&quot;</td><td>&quot;4Y9ZG&quot;</td><td>&quot;subspecies&quot;</td><td>&quot;Macrosteles quadripunctatus binotatus&quot;</td><td>&quot;synonym&quot;</td><td>null</td></tr><tr><td>&quot;7598C&quot;</td><td>&quot;7PR6T&quot;</td><td>&quot;species&quot;</td><td>&quot;Orthocidaris inermis&quot;</td><td>&quot;accepted&quot;</td><td>null</td></tr><tr><td>&hellip;</td><td>&hellip;</td><td>&hellip;</td><td>&hellip;</td><td>&hellip;</td><td>&hellip;</td></tr><tr><td>&quot;TD86&quot;</td><td>&quot;7P6C4&quot;</td><td>&quot;species&quot;</td><td>&quot;Chaetonotus intermedius&quot;</td><td>&quot;accepted&quot;</td><td>null</td></tr><tr><td>&quot;5389C&quot;</td><td>&quot;5ZGMY&quot;</td><td>&quot;species&quot;</td><td>&quot;Styela longata&quot;</td><td>&quot;synonym&quot;</td><td>null</td></tr><tr><td>&quot;46YK2&quot;</td><td>&quot;92GLJ&quot;</td><td>&quot;species&quot;</td><td>&quot;Nephodia azenia&quot;</td><td>&quot;accepted&quot;</td><td>null</td></tr><tr><td>&quot;5WW7M&quot;</td><td>&quot;7NRL5&quot;</td><td>&quot;species&quot;</td><td>&quot;Calliostoma alternatum&quot;</td><td>&quot;accepted&quot;</td><td>null</td></tr><tr><td>&quot;86KPT&quot;</td><td>&quot;84P5G&quot;</td><td>&quot;species&quot;</td><td>&quot;Hippoporina lucens&quot;</td><td>&quot;accepted&quot;</td><td>null</td></tr><tr><td>&quot;7NHRZ&quot;</td><td>&quot;7NGNL&quot;</td><td>&quot;family&quot;</td><td>&quot;Haplosplanchnidae&quot;</td><td>&quot;accepted&quot;</td><td>null</td></tr><tr><td>&quot;8CVYJ&quot;</td><td>&quot;87HJY&quot;</td><td>&quot;species&quot;</td><td>&quot;Minilimosina parvula&quot;</td><td>&quot;accepted&quot;</td><td>null</td></tr><tr><td>&quot;W7YZ&quot;</td><td>&quot;3R4G&quot;</td><td>&quot;species&quot;</td><td>&quot;Clitellaria ephippium&quot;</td><td>&quot;accepted&quot;</td><td>null</td></tr><tr><td>&quot;BH9R3&quot;</td><td>&quot;56C98&quot;</td><td>&quot;species&quot;</td><td>&quot;Neritodonta serrulata&quot;</td><td>&quot;synonym&quot;</td><td>null</td></tr><tr><td>&quot;3JS8Q&quot;</td><td>&quot;7P4T3&quot;</td><td>&quot;species&quot;</td><td>&quot;Harpago arthriticus&quot;</td><td>&quot;accepted&quot;</td><td>null</td></tr><tr><td>&quot;7LM3N&quot;</td><td>&quot;448Y4&quot;</td><td>&quot;variety&quot;</td><td>&quot;Cymatium corrugatum var. tremperi&quot;</td><td>&quot;synonym&quot;</td><td>null</td></tr><tr><td>&quot;75D8Q&quot;</td><td>&quot;6WYJ7&quot;</td><td>&quot;species&quot;</td><td>&quot;Ostrea malabonensis&quot;</td><td>&quot;synonym&quot;</td><td>null</td></tr></tbody></table></div>"
      ],
      "text/plain": [
       "shape: (3_036_425, 6)\n",
       "┌─────────┬──────────┬─────────┬──────────────────────────┬──────────┬─────────────────────┐\n",
       "│ taxonID ┆ parentID ┆ rank    ┆ scientificName           ┆ status   ┆ colVernacularNameEN │\n",
       "│ ---     ┆ ---      ┆ ---     ┆ ---                      ┆ ---      ┆ ---                 │\n",
       "│ str     ┆ str      ┆ str     ┆ str                      ┆ str      ┆ list[str]           │\n",
       "╞═════════╪══════════╪═════════╪══════════════════════════╪══════════╪═════════════════════╡\n",
       "│ 57DH4   ┆ 7XMV     ┆ species ┆ Tomomyza nitidula        ┆ accepted ┆ null                │\n",
       "│ 92VBG   ┆ 8C85H    ┆ species ┆ Oncopsia dubia           ┆ synonym  ┆ null                │\n",
       "│ XYRB    ┆ 7NTGP    ┆ species ┆ Convoluta variabilis     ┆ accepted ┆ null                │\n",
       "│ 7SPV9   ┆ 7QH3R    ┆ species ┆ Physa permembranacea     ┆ synonym  ┆ null                │\n",
       "│ 37NKH   ┆ 48BD     ┆ species ┆ Drilaster shibatai       ┆ accepted ┆ null                │\n",
       "│ …       ┆ …        ┆ …       ┆ …                        ┆ …        ┆ …                   │\n",
       "│ W7YZ    ┆ 3R4G     ┆ species ┆ Clitellaria ephippium    ┆ accepted ┆ null                │\n",
       "│ BH9R3   ┆ 56C98    ┆ species ┆ Neritodonta serrulata    ┆ synonym  ┆ null                │\n",
       "│ 3JS8Q   ┆ 7P4T3    ┆ species ┆ Harpago arthriticus      ┆ accepted ┆ null                │\n",
       "│ 7LM3N   ┆ 448Y4    ┆ variety ┆ Cymatium corrugatum var. ┆ synonym  ┆ null                │\n",
       "│         ┆          ┆         ┆ tremperi                 ┆          ┆                     │\n",
       "│ 75D8Q   ┆ 6WYJ7    ┆ species ┆ Ostrea malabonensis      ┆ synonym  ┆ null                │\n",
       "└─────────┴──────────┴─────────┴──────────────────────────┴──────────┴─────────────────────┘"
      ]
     },
     "execution_count": 13,
     "metadata": {},
     "output_type": "execute_result"
    }
   ],
   "source": []
  }
 ],
 "metadata": {
  "kernelspec": {
   "display_name": "Python 3 (ipykernel)",
   "language": "python",
   "name": "python3"
  },
  "language_info": {
   "codemirror_mode": {
    "name": "ipython",
    "version": 3
   },
   "file_extension": ".py",
   "mimetype": "text/x-python",
   "name": "python",
   "nbconvert_exporter": "python",
   "pygments_lexer": "ipython3",
   "version": "3.11.8"
  }
 },
 "nbformat": 4,
 "nbformat_minor": 5
}
