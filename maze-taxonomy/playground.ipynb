{
 "cells": [
  {
   "cell_type": "code",
   "execution_count": 1,
   "id": "faac6cd3-d126-4a5b-9372-5a30864eb218",
   "metadata": {},
   "outputs": [
    {
     "name": "stdout",
     "output_type": "stream",
     "text": [
      "0.20.6\n"
     ]
    }
   ],
   "source": [
    "import re\n",
    "import polars as pl\n",
    "pl.Config.set_fmt_str_lengths(50)\n",
    "print(pl.__version__)\n",
    "\n",
    "from utils import xmp_to_taglist"
   ]
  },
  {
   "cell_type": "code",
   "execution_count": 2,
   "id": "f361057c-073b-419b-b4ad-eef9d59e41a9",
   "metadata": {},
   "outputs": [],
   "source": [
    "col_taxon_file = \"/home/wsyxbcl/Downloads/col-20231215/NameUsage.tsv\"\n",
    "col_name_file = \"/home/wsyxbcl/Downloads/col-20231215/VernacularName.tsv\"\n",
    "shanshui_file = \"/home/wsyxbcl/Downloads/_Species_Data__202401051603.csv\"\n",
    "gbif_backbone_file = \"/home/wsyxbcl/Downloads/gbif-backbone/Taxon.tsv\"\n",
    "gbif_backbone_name_file = \"/home/wsyxbcl/Downloads/gbif-backbone/VernacularName.tsv\"\n"
   ]
  },
  {
   "cell_type": "code",
   "execution_count": 36,
   "id": "4e675aa5-9b24-4bc3-9683-75081fff3827",
   "metadata": {},
   "outputs": [],
   "source": [
    "dtypes = {\n",
    "    # \"col:ID\": pl.Categorical,\n",
    "    \"col:rank\": pl.Categorical,\n",
    "    \"col:status\": pl.Categorical,\n",
    "}\n",
    "# COL taxon data\n",
    "df_col_taxon_raw = pl.read_csv(col_taxon_file, separator='\\t', infer_schema_length=20000, rechunk=True, quote_char=None)\n",
    "df_col_taxon = df_col_taxon_raw.filter(pl.col(\"col:code\").eq(\"zoological\"))\n",
    "df_col_taxon = df_col_taxon.select([\n",
    "    pl.col(\"col:ID\").alias(\"taxonID\"), \n",
    "    pl.col(\"col:parentID\").alias(\"parentID\"), \n",
    "    pl.col(\"col:rank\").alias(\"rank\"), \n",
    "    pl.col(\"col:scientificName\").str.replace(r' \\([^)]*\\)', '').alias(\"scientificName\"), \n",
    "    pl.col(\"col:status\").alias(\"status\")])\n",
    "# COL name data\n",
    "df_col_name_raw = pl.read_csv(col_name_file, separator=\"\\t\", infer_schema_length=20000)\n",
    "df_col_name = df_col_name_raw.filter(pl.col(\"col:language\") == \"eng\")\n",
    "df_col_name = df_col_name.select([\n",
    "    pl.col(\"col:taxonID\").alias(\"taxonID\"),\n",
    "    pl.col(\"col:name\").str.to_lowercase().alias(\"colVernacularNameEN\"),\n",
    "])\n",
    "df_col_name = df_col_name.group_by(\"taxonID\").agg([pl.col(\"colVernacularNameEN\")])\n",
    "\n",
    "df_col = df_col_taxon.join(df_col_name, on=\"taxonID\", how=\"left\")"
   ]
  },
  {
   "cell_type": "code",
   "execution_count": 39,
   "id": "47592b7a-7ad0-48c1-9673-5a21da448a23",
   "metadata": {},
   "outputs": [],
   "source": [
    "# GBIF backbone data\n",
    "\n",
    "df_gbif_taxon_raw = pl.read_csv(gbif_backbone_file, separator='\\t', rechunk=True, quote_char=None)\n",
    "# df_gbif_taxon = df_gbif_taxon_raw.filter(pl.col(\"taxonRank\").is_in([\"species\", \"subspecies\"]))\n",
    "df_gbif_taxon = (df_gbif_taxon_raw\n",
    "    .filter(pl.col(\"kingdom\").eq(\"Animalia\"))\n",
    "    .filter(pl.col(\"taxonRank\").is_in([\"species\", \"subspecies\"]))\n",
    "    .filter(pl.col(\"taxonomicStatus\").eq(\"accepted\"))\n",
    "    .select([\n",
    "        pl.col(\"taxonID\").alias(\"gbifTaxonID\"),\n",
    "        pl.col(\"canonicalName\").alias(\"scientificName\"),\n",
    "        \"kingdom\",\n",
    "        \"phylum\",\n",
    "        \"class\",\n",
    "        \"order\",\n",
    "        \"family\",\n",
    "        \"genus\"\n",
    "    ])\n",
    ")\n",
    "\n",
    "df_gbif_name_raw = pl.read_csv(gbif_backbone_name_file, separator=\"\\t\")\n",
    "df_gbif_name = (df_gbif_name_raw\n",
    "    .filter((pl.col(\"language\") == \"en\") | (pl.col(\"language\").is_null()))\n",
    "    .filter(pl.col(\"source\") != \"United Kingdom Species Inventory (UKSI)\")\n",
    "    .select([\n",
    "        pl.col(\"taxonID\").alias(\"gbifTaxonID\"),\n",
    "        pl.col(\"vernacularName\").str.to_lowercase().alias(\"gbifVernacularNameEN\"),])\n",
    "    .group_by(\"gbifTaxonID\")\n",
    "    .agg([pl.col(\"gbifVernacularNameEN\")])\n",
    ")\n",
    "\n",
    "df_gbif = df_gbif_taxon.join(df_gbif_name, on=\"gbifTaxonID\", how=\"left\")"
   ]
  },
  {
   "cell_type": "code",
   "execution_count": 38,
   "id": "e785dac6-7153-413a-83e0-daaae45187a1",
   "metadata": {
    "scrolled": true
   },
   "outputs": [
    {
     "data": {
      "text/html": [
       "<div><style>\n",
       ".dataframe > thead > tr,\n",
       ".dataframe > tbody > tr {\n",
       "  text-align: right;\n",
       "  white-space: pre-wrap;\n",
       "}\n",
       "</style>\n",
       "<small>shape: (7_746_724, 23)</small><table border=\"1\" class=\"dataframe\"><thead><tr><th>taxonID</th><th>datasetID</th><th>parentNameUsageID</th><th>acceptedNameUsageID</th><th>originalNameUsageID</th><th>scientificName</th><th>scientificNameAuthorship</th><th>canonicalName</th><th>genericName</th><th>specificEpithet</th><th>infraspecificEpithet</th><th>taxonRank</th><th>nameAccordingTo</th><th>namePublishedIn</th><th>taxonomicStatus</th><th>nomenclaturalStatus</th><th>taxonRemarks</th><th>kingdom</th><th>phylum</th><th>class</th><th>order</th><th>family</th><th>genus</th></tr><tr><td>i64</td><td>str</td><td>i64</td><td>str</td><td>str</td><td>str</td><td>str</td><td>str</td><td>str</td><td>str</td><td>str</td><td>str</td><td>str</td><td>str</td><td>str</td><td>str</td><td>str</td><td>str</td><td>str</td><td>str</td><td>str</td><td>str</td><td>str</td></tr></thead><tbody><tr><td>11838827</td><td>&quot;61a5f178-b5fb-4484-b6d8-9b129739e59d&quot;</td><td>5</td><td>null</td><td>null</td><td>&quot;SH1076374.09FU&quot;</td><td>null</td><td>null</td><td>null</td><td>null</td><td>null</td><td>&quot;unranked&quot;</td><td>null</td><td>null</td><td>&quot;accepted&quot;</td><td>null</td><td>null</td><td>&quot;Fungi&quot;</td><td>null</td><td>null</td><td>null</td><td>null</td><td>null</td></tr><tr><td>11857967</td><td>&quot;61a5f178-b5fb-4484-b6d8-9b129739e59d&quot;</td><td>5</td><td>null</td><td>null</td><td>&quot;SH1048761.09FU&quot;</td><td>null</td><td>null</td><td>null</td><td>null</td><td>null</td><td>&quot;unranked&quot;</td><td>null</td><td>null</td><td>&quot;accepted&quot;</td><td>null</td><td>null</td><td>&quot;Fungi&quot;</td><td>null</td><td>null</td><td>null</td><td>null</td><td>null</td></tr><tr><td>11693236</td><td>&quot;61a5f178-b5fb-4484-b6d8-9b129739e59d&quot;</td><td>5</td><td>null</td><td>null</td><td>&quot;SH1317510.09FU&quot;</td><td>null</td><td>null</td><td>null</td><td>null</td><td>null</td><td>&quot;unranked&quot;</td><td>null</td><td>null</td><td>&quot;accepted&quot;</td><td>null</td><td>null</td><td>&quot;Fungi&quot;</td><td>null</td><td>null</td><td>null</td><td>null</td><td>null</td></tr><tr><td>11525917</td><td>&quot;61a5f178-b5fb-4484-b6d8-9b129739e59d&quot;</td><td>5</td><td>null</td><td>null</td><td>&quot;SH1111669.09FU&quot;</td><td>null</td><td>null</td><td>null</td><td>null</td><td>null</td><td>&quot;unranked&quot;</td><td>null</td><td>null</td><td>&quot;accepted&quot;</td><td>null</td><td>null</td><td>&quot;Fungi&quot;</td><td>null</td><td>null</td><td>null</td><td>null</td><td>null</td></tr><tr><td>11646423</td><td>&quot;61a5f178-b5fb-4484-b6d8-9b129739e59d&quot;</td><td>5</td><td>null</td><td>null</td><td>&quot;SH0969972.09FU&quot;</td><td>null</td><td>null</td><td>null</td><td>null</td><td>null</td><td>&quot;unranked&quot;</td><td>null</td><td>null</td><td>&quot;accepted&quot;</td><td>null</td><td>null</td><td>&quot;Fungi&quot;</td><td>null</td><td>null</td><td>null</td><td>null</td><td>null</td></tr><tr><td>11699104</td><td>&quot;61a5f178-b5fb-4484-b6d8-9b129739e59d&quot;</td><td>5</td><td>null</td><td>null</td><td>&quot;SH1120053.09FU&quot;</td><td>null</td><td>null</td><td>null</td><td>null</td><td>null</td><td>&quot;unranked&quot;</td><td>null</td><td>null</td><td>&quot;accepted&quot;</td><td>null</td><td>null</td><td>&quot;Fungi&quot;</td><td>null</td><td>null</td><td>null</td><td>null</td><td>null</td></tr><tr><td>11837650</td><td>&quot;61a5f178-b5fb-4484-b6d8-9b129739e59d&quot;</td><td>5</td><td>null</td><td>null</td><td>&quot;SH1180517.09FU&quot;</td><td>null</td><td>null</td><td>null</td><td>null</td><td>null</td><td>&quot;unranked&quot;</td><td>null</td><td>null</td><td>&quot;accepted&quot;</td><td>null</td><td>null</td><td>&quot;Fungi&quot;</td><td>null</td><td>null</td><td>null</td><td>null</td><td>null</td></tr><tr><td>11883948</td><td>&quot;61a5f178-b5fb-4484-b6d8-9b129739e59d&quot;</td><td>5</td><td>null</td><td>null</td><td>&quot;SH0979648.09FU&quot;</td><td>null</td><td>null</td><td>null</td><td>null</td><td>null</td><td>&quot;unranked&quot;</td><td>null</td><td>null</td><td>&quot;accepted&quot;</td><td>null</td><td>null</td><td>&quot;Fungi&quot;</td><td>null</td><td>null</td><td>null</td><td>null</td><td>null</td></tr><tr><td>11443839</td><td>&quot;61a5f178-b5fb-4484-b6d8-9b129739e59d&quot;</td><td>5</td><td>null</td><td>null</td><td>&quot;SH0916176.09FU&quot;</td><td>null</td><td>null</td><td>null</td><td>null</td><td>null</td><td>&quot;unranked&quot;</td><td>null</td><td>null</td><td>&quot;accepted&quot;</td><td>null</td><td>null</td><td>&quot;Fungi&quot;</td><td>null</td><td>null</td><td>null</td><td>null</td><td>null</td></tr><tr><td>11873836</td><td>&quot;61a5f178-b5fb-4484-b6d8-9b129739e59d&quot;</td><td>5</td><td>null</td><td>null</td><td>&quot;SH1238450.09FU&quot;</td><td>null</td><td>null</td><td>null</td><td>null</td><td>null</td><td>&quot;unranked&quot;</td><td>null</td><td>null</td><td>&quot;accepted&quot;</td><td>null</td><td>null</td><td>&quot;Fungi&quot;</td><td>null</td><td>null</td><td>null</td><td>null</td><td>null</td></tr><tr><td>11878075</td><td>&quot;61a5f178-b5fb-4484-b6d8-9b129739e59d&quot;</td><td>5</td><td>null</td><td>null</td><td>&quot;SH1088262.09FU&quot;</td><td>null</td><td>null</td><td>null</td><td>null</td><td>null</td><td>&quot;unranked&quot;</td><td>null</td><td>null</td><td>&quot;accepted&quot;</td><td>null</td><td>null</td><td>&quot;Fungi&quot;</td><td>null</td><td>null</td><td>null</td><td>null</td><td>null</td></tr><tr><td>11924150</td><td>&quot;61a5f178-b5fb-4484-b6d8-9b129739e59d&quot;</td><td>5</td><td>null</td><td>null</td><td>&quot;SH1135074.09FU&quot;</td><td>null</td><td>null</td><td>null</td><td>null</td><td>null</td><td>&quot;unranked&quot;</td><td>null</td><td>null</td><td>&quot;accepted&quot;</td><td>null</td><td>null</td><td>&quot;Fungi&quot;</td><td>null</td><td>null</td><td>null</td><td>null</td><td>null</td></tr><tr><td>&hellip;</td><td>&hellip;</td><td>&hellip;</td><td>&hellip;</td><td>&hellip;</td><td>&hellip;</td><td>&hellip;</td><td>&hellip;</td><td>&hellip;</td><td>&hellip;</td><td>&hellip;</td><td>&hellip;</td><td>&hellip;</td><td>&hellip;</td><td>&hellip;</td><td>&hellip;</td><td>&hellip;</td><td>&hellip;</td><td>&hellip;</td><td>&hellip;</td><td>&hellip;</td><td>&hellip;</td><td>&hellip;</td></tr><tr><td>11346263</td><td>&quot;dbaa27eb-29e7-4cbb-8eab-3f689cfce116&quot;</td><td>1593713</td><td>&quot;1593734&quot;</td><td>&quot;1593735&quot;</td><td>&quot;Lestodiplosis polypori (Winnertz, 1853)&quot;</td><td>&quot;(Winnertz, 1853)&quot;</td><td>&quot;Lestodiplosis polypori&quot;</td><td>&quot;Lestodiplosis&quot;</td><td>&quot;polypori&quot;</td><td>null</td><td>&quot;species&quot;</td><td>null</td><td>null</td><td>&quot;synonym&quot;</td><td>null</td><td>null</td><td>&quot;Animalia&quot;</td><td>&quot;Arthropoda&quot;</td><td>&quot;Insecta&quot;</td><td>&quot;Diptera&quot;</td><td>&quot;Cecidomyiidae&quot;</td><td>&quot;Lestodiplosis&quot;</td></tr><tr><td>8090869</td><td>&quot;aacd816d-662c-49d2-ad1a-97e66e2a2908&quot;</td><td>7453566</td><td>&quot;7885026&quot;</td><td>&quot;7885026&quot;</td><td>&quot;Ceratium pennnatum Kofoid&quot;</td><td>&quot;Kofoid&quot;</td><td>&quot;Ceratium pennnatum&quot;</td><td>&quot;Ceratium&quot;</td><td>&quot;pennnatum&quot;</td><td>null</td><td>&quot;species&quot;</td><td>null</td><td>null</td><td>&quot;synonym&quot;</td><td>null</td><td>null</td><td>&quot;Chromista&quot;</td><td>&quot;Myzozoa&quot;</td><td>&quot;Dinophyceae&quot;</td><td>&quot;Gonyaulacales&quot;</td><td>&quot;Ceratiaceae&quot;</td><td>&quot;Tripos&quot;</td></tr><tr><td>1517849</td><td>&quot;7ddf754f-d193-4cc9-b351-99906754a03b&quot;</td><td>1517775</td><td>&quot;1517848&quot;</td><td>&quot;11325753&quot;</td><td>&quot;Orimarga stenoptera (Seguy, 1936)&quot;</td><td>&quot;(Seguy, 1936)&quot;</td><td>&quot;Orimarga stenoptera&quot;</td><td>&quot;Orimarga&quot;</td><td>&quot;stenoptera&quot;</td><td>null</td><td>&quot;species&quot;</td><td>null</td><td>null</td><td>&quot;synonym&quot;</td><td>null</td><td>null</td><td>&quot;Animalia&quot;</td><td>&quot;Arthropoda&quot;</td><td>&quot;Insecta&quot;</td><td>&quot;Diptera&quot;</td><td>&quot;Limoniidae&quot;</td><td>&quot;Orimarga&quot;</td></tr><tr><td>5276315</td><td>&quot;a6c6cead-b5ce-4a4e-8cf5-1542ba708dec&quot;</td><td>2655552</td><td>null</td><td>&quot;2655633&quot;</td><td>&quot;Lithophyllum orbiculatum (Foslie) Foslie, 1900&quot;</td><td>&quot;(Foslie) Foslie, 1900&quot;</td><td>&quot;Lithophyllum orbiculatum&quot;</td><td>&quot;Lithophyllum&quot;</td><td>&quot;orbiculatum&quot;</td><td>null</td><td>&quot;species&quot;</td><td>null</td><td>null</td><td>&quot;accepted&quot;</td><td>null</td><td>null</td><td>&quot;Plantae&quot;</td><td>&quot;Rhodophyta&quot;</td><td>&quot;Florideophyceae&quot;</td><td>&quot;Corallinales&quot;</td><td>&quot;Lithophyllaceae&quot;</td><td>&quot;Lithophyllum&quot;</td></tr><tr><td>5276305</td><td>&quot;a6c6cead-b5ce-4a4e-8cf5-1542ba708dec&quot;</td><td>2655552</td><td>null</td><td>&quot;2655613&quot;</td><td>&quot;Lithophyllum decussatum (J.Ellis &amp; Solander) Phil…</td><td>&quot;(J.Ellis &amp; Solander) Philippi&quot;</td><td>&quot;Lithophyllum decussatum&quot;</td><td>&quot;Lithophyllum&quot;</td><td>&quot;decussatum&quot;</td><td>null</td><td>&quot;species&quot;</td><td>null</td><td>null</td><td>&quot;accepted&quot;</td><td>null</td><td>null</td><td>&quot;Plantae&quot;</td><td>&quot;Rhodophyta&quot;</td><td>&quot;Florideophyceae&quot;</td><td>&quot;Corallinales&quot;</td><td>&quot;Lithophyllaceae&quot;</td><td>&quot;Lithophyllum&quot;</td></tr><tr><td>5276364</td><td>&quot;a6c6cead-b5ce-4a4e-8cf5-1542ba708dec&quot;</td><td>2655552</td><td>null</td><td>&quot;2655710&quot;</td><td>&quot;Lithophyllum cystoseirae (Hauck) Heydrich&quot;</td><td>&quot;(Hauck) Heydrich&quot;</td><td>&quot;Lithophyllum cystoseirae&quot;</td><td>&quot;Lithophyllum&quot;</td><td>&quot;cystoseirae&quot;</td><td>null</td><td>&quot;species&quot;</td><td>null</td><td>null</td><td>&quot;accepted&quot;</td><td>null</td><td>null</td><td>&quot;Plantae&quot;</td><td>&quot;Rhodophyta&quot;</td><td>&quot;Florideophyceae&quot;</td><td>&quot;Corallinales&quot;</td><td>&quot;Lithophyllaceae&quot;</td><td>&quot;Lithophyllum&quot;</td></tr><tr><td>5276402</td><td>&quot;a6c6cead-b5ce-4a4e-8cf5-1542ba708dec&quot;</td><td>2655552</td><td>null</td><td>&quot;2655774&quot;</td><td>&quot;Lithophyllum pygmaeum (Heydrich) Heydrich&quot;</td><td>&quot;(Heydrich) Heydrich&quot;</td><td>&quot;Lithophyllum pygmaeum&quot;</td><td>&quot;Lithophyllum&quot;</td><td>&quot;pygmaeum&quot;</td><td>null</td><td>&quot;species&quot;</td><td>null</td><td>null</td><td>&quot;accepted&quot;</td><td>null</td><td>null</td><td>&quot;Plantae&quot;</td><td>&quot;Rhodophyta&quot;</td><td>&quot;Florideophyceae&quot;</td><td>&quot;Corallinales&quot;</td><td>&quot;Lithophyllaceae&quot;</td><td>&quot;Lithophyllum&quot;</td></tr><tr><td>5276297</td><td>&quot;a6c6cead-b5ce-4a4e-8cf5-1542ba708dec&quot;</td><td>2655552</td><td>null</td><td>&quot;8056170&quot;</td><td>&quot;Lithophyllum fasciculatum (Lamarck) Foslie&quot;</td><td>&quot;(Lamarck) Foslie&quot;</td><td>&quot;Lithophyllum fasciculatum&quot;</td><td>&quot;Lithophyllum&quot;</td><td>&quot;fasciculatum&quot;</td><td>null</td><td>&quot;species&quot;</td><td>null</td><td>null</td><td>&quot;accepted&quot;</td><td>null</td><td>null</td><td>&quot;Plantae&quot;</td><td>&quot;Rhodophyta&quot;</td><td>&quot;Florideophyceae&quot;</td><td>&quot;Corallinales&quot;</td><td>&quot;Lithophyllaceae&quot;</td><td>&quot;Lithophyllum&quot;</td></tr><tr><td>5970807</td><td>&quot;7ddf754f-d193-4cc9-b351-99906754a03b&quot;</td><td>2226678</td><td>null</td><td>&quot;2226668&quot;</td><td>&quot;Epialtoides kingsleyi (Rathbun, 1923)&quot;</td><td>&quot;(Rathbun, 1923)&quot;</td><td>&quot;Epialtoides kingsleyi&quot;</td><td>&quot;Epialtoides&quot;</td><td>&quot;kingsleyi&quot;</td><td>null</td><td>&quot;species&quot;</td><td>null</td><td>null</td><td>&quot;accepted&quot;</td><td>null</td><td>null</td><td>&quot;Animalia&quot;</td><td>&quot;Arthropoda&quot;</td><td>&quot;Malacostraca&quot;</td><td>&quot;Decapoda&quot;</td><td>&quot;Epialtidae&quot;</td><td>&quot;Epialtoides&quot;</td></tr><tr><td>2226679</td><td>&quot;7ddf754f-d193-4cc9-b351-99906754a03b&quot;</td><td>2226678</td><td>null</td><td>&quot;5970691&quot;</td><td>&quot;Epialtoides hiltoni (Rathbun, 1923)&quot;</td><td>&quot;(Rathbun, 1923)&quot;</td><td>&quot;Epialtoides hiltoni&quot;</td><td>&quot;Epialtoides&quot;</td><td>&quot;hiltoni&quot;</td><td>null</td><td>&quot;species&quot;</td><td>null</td><td>null</td><td>&quot;accepted&quot;</td><td>null</td><td>null</td><td>&quot;Animalia&quot;</td><td>&quot;Arthropoda&quot;</td><td>&quot;Malacostraca&quot;</td><td>&quot;Decapoda&quot;</td><td>&quot;Epialtidae&quot;</td><td>&quot;Epialtoides&quot;</td></tr><tr><td>5970805</td><td>&quot;7ddf754f-d193-4cc9-b351-99906754a03b&quot;</td><td>2226678</td><td>null</td><td>&quot;5970806&quot;</td><td>&quot;Epialtoides murphyi (Garth, 1948)&quot;</td><td>&quot;(Garth, 1948)&quot;</td><td>&quot;Epialtoides murphyi&quot;</td><td>&quot;Epialtoides&quot;</td><td>&quot;murphyi&quot;</td><td>null</td><td>&quot;species&quot;</td><td>null</td><td>null</td><td>&quot;accepted&quot;</td><td>null</td><td>null</td><td>&quot;Animalia&quot;</td><td>&quot;Arthropoda&quot;</td><td>&quot;Malacostraca&quot;</td><td>&quot;Decapoda&quot;</td><td>&quot;Epialtidae&quot;</td><td>&quot;Epialtoides&quot;</td></tr><tr><td>6453320</td><td>&quot;a6c6cead-b5ce-4a4e-8cf5-1542ba708dec&quot;</td><td>2655552</td><td>null</td><td>&quot;4376227&quot;</td><td>&quot;Lithophyllum rugosum (Foslie) Lemoine&quot;</td><td>&quot;(Foslie) Lemoine&quot;</td><td>&quot;Lithophyllum rugosum&quot;</td><td>&quot;Lithophyllum&quot;</td><td>&quot;rugosum&quot;</td><td>null</td><td>&quot;species&quot;</td><td>null</td><td>null</td><td>&quot;accepted&quot;</td><td>null</td><td>null</td><td>&quot;Plantae&quot;</td><td>&quot;Rhodophyta&quot;</td><td>&quot;Florideophyceae&quot;</td><td>&quot;Corallinales&quot;</td><td>&quot;Lithophyllaceae&quot;</td><td>&quot;Lithophyllum&quot;</td></tr></tbody></table></div>"
      ],
      "text/plain": [
       "shape: (7_746_724, 23)\n",
       "┌──────────┬───────────┬───────────┬───────────┬───┬───────────┬───────────┬───────────┬───────────┐\n",
       "│ taxonID  ┆ datasetID ┆ parentNam ┆ acceptedN ┆ … ┆ class     ┆ order     ┆ family    ┆ genus     │\n",
       "│ ---      ┆ ---       ┆ eUsageID  ┆ ameUsageI ┆   ┆ ---       ┆ ---       ┆ ---       ┆ ---       │\n",
       "│ i64      ┆ str       ┆ ---       ┆ D         ┆   ┆ str       ┆ str       ┆ str       ┆ str       │\n",
       "│          ┆           ┆ i64       ┆ ---       ┆   ┆           ┆           ┆           ┆           │\n",
       "│          ┆           ┆           ┆ str       ┆   ┆           ┆           ┆           ┆           │\n",
       "╞══════════╪═══════════╪═══════════╪═══════════╪═══╪═══════════╪═══════════╪═══════════╪═══════════╡\n",
       "│ 11838827 ┆ 61a5f178- ┆ 5         ┆ null      ┆ … ┆ null      ┆ null      ┆ null      ┆ null      │\n",
       "│          ┆ b5fb-4484 ┆           ┆           ┆   ┆           ┆           ┆           ┆           │\n",
       "│          ┆ -b6d8-9b1 ┆           ┆           ┆   ┆           ┆           ┆           ┆           │\n",
       "│          ┆ 29739e59d ┆           ┆           ┆   ┆           ┆           ┆           ┆           │\n",
       "│ 11857967 ┆ 61a5f178- ┆ 5         ┆ null      ┆ … ┆ null      ┆ null      ┆ null      ┆ null      │\n",
       "│          ┆ b5fb-4484 ┆           ┆           ┆   ┆           ┆           ┆           ┆           │\n",
       "│          ┆ -b6d8-9b1 ┆           ┆           ┆   ┆           ┆           ┆           ┆           │\n",
       "│          ┆ 29739e59d ┆           ┆           ┆   ┆           ┆           ┆           ┆           │\n",
       "│ 11693236 ┆ 61a5f178- ┆ 5         ┆ null      ┆ … ┆ null      ┆ null      ┆ null      ┆ null      │\n",
       "│          ┆ b5fb-4484 ┆           ┆           ┆   ┆           ┆           ┆           ┆           │\n",
       "│          ┆ -b6d8-9b1 ┆           ┆           ┆   ┆           ┆           ┆           ┆           │\n",
       "│          ┆ 29739e59d ┆           ┆           ┆   ┆           ┆           ┆           ┆           │\n",
       "│ 11525917 ┆ 61a5f178- ┆ 5         ┆ null      ┆ … ┆ null      ┆ null      ┆ null      ┆ null      │\n",
       "│          ┆ b5fb-4484 ┆           ┆           ┆   ┆           ┆           ┆           ┆           │\n",
       "│          ┆ -b6d8-9b1 ┆           ┆           ┆   ┆           ┆           ┆           ┆           │\n",
       "│          ┆ 29739e59d ┆           ┆           ┆   ┆           ┆           ┆           ┆           │\n",
       "│ 11646423 ┆ 61a5f178- ┆ 5         ┆ null      ┆ … ┆ null      ┆ null      ┆ null      ┆ null      │\n",
       "│          ┆ b5fb-4484 ┆           ┆           ┆   ┆           ┆           ┆           ┆           │\n",
       "│          ┆ -b6d8-9b1 ┆           ┆           ┆   ┆           ┆           ┆           ┆           │\n",
       "│          ┆ 29739e59d ┆           ┆           ┆   ┆           ┆           ┆           ┆           │\n",
       "│ …        ┆ …         ┆ …         ┆ …         ┆ … ┆ …         ┆ …         ┆ …         ┆ …         │\n",
       "│ 5276297  ┆ a6c6cead- ┆ 2655552   ┆ null      ┆ … ┆ Florideop ┆ Corallina ┆ Lithophyl ┆ Lithophyl │\n",
       "│          ┆ b5ce-4a4e ┆           ┆           ┆   ┆ hyceae    ┆ les       ┆ laceae    ┆ lum       │\n",
       "│          ┆ -8cf5-154 ┆           ┆           ┆   ┆           ┆           ┆           ┆           │\n",
       "│          ┆ 2ba708dec ┆           ┆           ┆   ┆           ┆           ┆           ┆           │\n",
       "│ 5970807  ┆ 7ddf754f- ┆ 2226678   ┆ null      ┆ … ┆ Malacostr ┆ Decapoda  ┆ Epialtida ┆ Epialtoid │\n",
       "│          ┆ d193-4cc9 ┆           ┆           ┆   ┆ aca       ┆           ┆ e         ┆ es        │\n",
       "│          ┆ -b351-999 ┆           ┆           ┆   ┆           ┆           ┆           ┆           │\n",
       "│          ┆ 06754a03b ┆           ┆           ┆   ┆           ┆           ┆           ┆           │\n",
       "│ 2226679  ┆ 7ddf754f- ┆ 2226678   ┆ null      ┆ … ┆ Malacostr ┆ Decapoda  ┆ Epialtida ┆ Epialtoid │\n",
       "│          ┆ d193-4cc9 ┆           ┆           ┆   ┆ aca       ┆           ┆ e         ┆ es        │\n",
       "│          ┆ -b351-999 ┆           ┆           ┆   ┆           ┆           ┆           ┆           │\n",
       "│          ┆ 06754a03b ┆           ┆           ┆   ┆           ┆           ┆           ┆           │\n",
       "│ 5970805  ┆ 7ddf754f- ┆ 2226678   ┆ null      ┆ … ┆ Malacostr ┆ Decapoda  ┆ Epialtida ┆ Epialtoid │\n",
       "│          ┆ d193-4cc9 ┆           ┆           ┆   ┆ aca       ┆           ┆ e         ┆ es        │\n",
       "│          ┆ -b351-999 ┆           ┆           ┆   ┆           ┆           ┆           ┆           │\n",
       "│          ┆ 06754a03b ┆           ┆           ┆   ┆           ┆           ┆           ┆           │\n",
       "│ 6453320  ┆ a6c6cead- ┆ 2655552   ┆ null      ┆ … ┆ Florideop ┆ Corallina ┆ Lithophyl ┆ Lithophyl │\n",
       "│          ┆ b5ce-4a4e ┆           ┆           ┆   ┆ hyceae    ┆ les       ┆ laceae    ┆ lum       │\n",
       "│          ┆ -8cf5-154 ┆           ┆           ┆   ┆           ┆           ┆           ┆           │\n",
       "│          ┆ 2ba708dec ┆           ┆           ┆   ┆           ┆           ┆           ┆           │\n",
       "└──────────┴───────────┴───────────┴───────────┴───┴───────────┴───────────┴───────────┴───────────┘"
      ]
     },
     "execution_count": 38,
     "metadata": {},
     "output_type": "execute_result"
    }
   ],
   "source": [
    "df_gbif_taxon_raw"
   ]
  },
  {
   "cell_type": "code",
   "execution_count": 5,
   "id": "bab14c86-0db5-49c4-8908-7f408ec11c85",
   "metadata": {},
   "outputs": [],
   "source": [
    "# Taglist\n",
    "taglist_yushu = xmp_to_taglist(\"/home/wsyxbcl/Downloads/玉树TagList.jpg.xmp\")\n",
    "taglist_qilian = xmp_to_taglist(\"/home/wsyxbcl/Downloads/祁连TagList.jpg.xmp\")\n",
    "taglist = list((set(taglist_qilian) | set(taglist_yushu)))\n",
    "s_tag = pl.Series(\"tag\", taglist).str.to_lowercase()"
   ]
  },
  {
   "cell_type": "code",
   "execution_count": 63,
   "id": "c7a86339-40e5-49e4-9305-be9701cc60cc",
   "metadata": {},
   "outputs": [
    {
     "name": "stdout",
     "output_type": "stream",
     "text": [
      "['White-winged redstart', 'Rufous-necked snowfinch', 'Fox spp.', 'Black-winged snowfinch', 'Altai weasel', \"White's thrush\", 'Bat spp.', 'Eurasian eagle owl', 'White-lipped deer', 'Unidentified', 'Domestic camel', 'Ground tit', 'Small rodents', 'Tibetan brown bear', 'Himalayan griffon', 'Japanese tit', \"Blanford's snowfinch\", 'Blue sheep', 'Black-rumped magpie', 'Domestic horse', 'Sambar deer', 'Useless data', 'Pika spp.', 'White-rumped snowfinch', 'Stone marten', 'Common leopard cat', 'White-capped water redstart', 'Bird spp.', 'Blank', 'Chough', 'Common leopard', 'Red-eared pika']\n"
     ]
    }
   ],
   "source": [
    "# # find unincluded tag in COL vernacular name\n",
    "# tag_unincluded_in_col = []\n",
    "# for tag in taglist:\n",
    "#     try:\n",
    "#         df_col.filter(pl.col(\"colVernacularNameEN\").list.contains(tag.lower())).get_column(\"scientificName\")[0]\n",
    "#     except IndexError:\n",
    "#         tag_unincluded_in_col.append(tag)\n",
    "# print(tag_unincluded_in_col)\n",
    "\n",
    "# # find unincluded tag in GBIF vernacular name\n",
    "# tag_unincluded_in_gbif = []\n",
    "# for tag in taglist:\n",
    "#     try:\n",
    "#         df_gbif.filter(pl.col(\"gbifVernacularNameEN\").list.contains(tag.lower())).get_column(\"scientificName\")[0]\n",
    "#     except IndexError:\n",
    "#         tag_unincluded_in_gbif.append(tag)\n",
    "# print(tag_unincluded_in_gbif)"
   ]
  },
  {
   "cell_type": "code",
   "execution_count": 6,
   "id": "9d2b5aaa-929d-4773-8654-c3af332fae26",
   "metadata": {},
   "outputs": [],
   "source": [
    "# Check tag in GBIF backbone and output for edit\n",
    "tag_list = []\n",
    "latin_name_list = []\n",
    "for tag in taglist:\n",
    "    tag_list.append(tag)\n",
    "    try:\n",
    "        latin_name_list.append(df_gbif.filter(pl.col(\"gbifVernacularNameEN\").list.contains(tag.lower())).get_column(\"scientificName\").to_list())\n",
    "    except IndexError:\n",
    "        latin_name_list.append([])\n",
    "    "
   ]
  },
  {
   "cell_type": "code",
   "execution_count": 7,
   "id": "9e99ee3c-4abd-4989-bd20-516175d61137",
   "metadata": {},
   "outputs": [],
   "source": [
    "# COL patch\n",
    "latin_name_patched = []\n",
    "for (i, names) in enumerate(latin_name_list):\n",
    "    if len(names) > 1:\n",
    "        # print(names)\n",
    "        names_patched = []\n",
    "        for name in names:\n",
    "            if df_col.filter(pl.col(\"scientificName\").eq(name)).is_empty():\n",
    "                pass\n",
    "            else:\n",
    "                names_patched.append(name)\n",
    "        latin_name_patched.append(names_patched)\n",
    "    else:\n",
    "        latin_name_patched.append(latin_name_list[i])"
   ]
  },
  {
   "cell_type": "code",
   "execution_count": 8,
   "id": "93cf019d-ec01-42a1-8909-9f3e7854b45a",
   "metadata": {},
   "outputs": [],
   "source": [
    "# output for edit\n",
    "import csv\n",
    "with open('taglist_to_be_edit.csv', 'w') as f:\n",
    "    writer = csv.writer(f)\n",
    "    writer.writerows(zip(tag_list, ['|'.join(names) for names in latin_name_patched]))"
   ]
  },
  {
   "cell_type": "code",
   "execution_count": 97,
   "id": "16703bf5-880c-4040-86c8-d3278a1ab4a7",
   "metadata": {},
   "outputs": [],
   "source": [
    "# Manual patch"
   ]
  },
  {
   "cell_type": "code",
   "execution_count": 98,
   "id": "cb8b7271-6b29-48fe-be42-df0cb7db1e8c",
   "metadata": {},
   "outputs": [
    {
     "data": {
      "text/html": [
       "<div><style>\n",
       ".dataframe > thead > tr,\n",
       ".dataframe > tbody > tr {\n",
       "  text-align: right;\n",
       "  white-space: pre-wrap;\n",
       "}\n",
       "</style>\n",
       "<small>shape: (1, 6)</small><table border=\"1\" class=\"dataframe\"><thead><tr><th>taxonID</th><th>parentID</th><th>col:rank</th><th>scientificName</th><th>status</th><th>colVernacularNameEN</th></tr><tr><td>str</td><td>str</td><td>str</td><td>str</td><td>str</td><td>list[str]</td></tr></thead><tbody><tr><td>&quot;TF6L&quot;</td><td>&quot;62M2T&quot;</td><td>&quot;species&quot;</td><td>&quot;Chaimarrornis leucocephalus&quot;</td><td>&quot;accepted&quot;</td><td>[&quot;white-capped redstart&quot;]</td></tr></tbody></table></div>"
      ],
      "text/plain": [
       "shape: (1, 6)\n",
       "┌─────────┬──────────┬──────────┬────────────────┬──────────┬───────────────────────────┐\n",
       "│ taxonID ┆ parentID ┆ col:rank ┆ scientificName ┆ status   ┆ colVernacularNameEN       │\n",
       "│ ---     ┆ ---      ┆ ---      ┆ ---            ┆ ---      ┆ ---                       │\n",
       "│ str     ┆ str      ┆ str      ┆ str            ┆ str      ┆ list[str]                 │\n",
       "╞═════════╪══════════╪══════════╪════════════════╪══════════╪═══════════════════════════╡\n",
       "│ TF6L    ┆ 62M2T    ┆ species  ┆ Chaimarrornis  ┆ accepted ┆ [\"white-capped redstart\"] │\n",
       "│         ┆          ┆          ┆ leucocephalus  ┆          ┆                           │\n",
       "└─────────┴──────────┴──────────┴────────────────┴──────────┴───────────────────────────┘"
      ]
     },
     "execution_count": 98,
     "metadata": {},
     "output_type": "execute_result"
    }
   ],
   "source": [
    "df_col.filter(pl.col(\"scientificName\").eq(\"Chaimarrornis leucocephalus\"))"
   ]
  },
  {
   "cell_type": "code",
   "execution_count": 99,
   "id": "536ecde4-d890-4efc-ae01-bc3f4da7a7e0",
   "metadata": {},
   "outputs": [
    {
     "data": {
      "text/html": [
       "<div><style>\n",
       ".dataframe > thead > tr,\n",
       ".dataframe > tbody > tr {\n",
       "  text-align: right;\n",
       "  white-space: pre-wrap;\n",
       "}\n",
       "</style>\n",
       "<small>shape: (1, 6)</small><table border=\"1\" class=\"dataframe\"><thead><tr><th>taxonID</th><th>parentID</th><th>col:rank</th><th>scientificName</th><th>status</th><th>colVernacularNameEN</th></tr><tr><td>str</td><td>str</td><td>str</td><td>str</td><td>str</td><td>list[str]</td></tr></thead><tbody><tr><td>&quot;4CGXR&quot;</td><td>&quot;6DBT&quot;</td><td>&quot;species&quot;</td><td>&quot;Panthera pardus&quot;</td><td>&quot;accepted&quot;</td><td>[&quot;leopard&quot;]</td></tr></tbody></table></div>"
      ],
      "text/plain": [
       "shape: (1, 6)\n",
       "┌─────────┬──────────┬──────────┬─────────────────┬──────────┬─────────────────────┐\n",
       "│ taxonID ┆ parentID ┆ col:rank ┆ scientificName  ┆ status   ┆ colVernacularNameEN │\n",
       "│ ---     ┆ ---      ┆ ---      ┆ ---             ┆ ---      ┆ ---                 │\n",
       "│ str     ┆ str      ┆ str      ┆ str             ┆ str      ┆ list[str]           │\n",
       "╞═════════╪══════════╪══════════╪═════════════════╪══════════╪═════════════════════╡\n",
       "│ 4CGXR   ┆ 6DBT     ┆ species  ┆ Panthera pardus ┆ accepted ┆ [\"leopard\"]         │\n",
       "└─────────┴──────────┴──────────┴─────────────────┴──────────┴─────────────────────┘"
      ]
     },
     "execution_count": 99,
     "metadata": {},
     "output_type": "execute_result"
    }
   ],
   "source": [
    "df_col.filter(pl.col(\"scientificName\").eq(\"Panthera pardus\"))"
   ]
  },
  {
   "cell_type": "code",
   "execution_count": 108,
   "id": "380639f8-a19c-4d2e-9d1c-5ad45513d65f",
   "metadata": {},
   "outputs": [
    {
     "data": {
      "text/html": [
       "<div><style>\n",
       ".dataframe > thead > tr,\n",
       ".dataframe > tbody > tr {\n",
       "  text-align: right;\n",
       "  white-space: pre-wrap;\n",
       "}\n",
       "</style>\n",
       "<small>shape: (2, 6)</small><table border=\"1\" class=\"dataframe\"><thead><tr><th>taxonID</th><th>parentID</th><th>col:rank</th><th>scientificName</th><th>status</th><th>colVernacularNameEN</th></tr><tr><td>str</td><td>str</td><td>str</td><td>str</td><td>str</td><td>list[str]</td></tr></thead><tbody><tr><td>&quot;Q9XF&quot;</td><td>&quot;Q9XD&quot;</td><td>&quot;species&quot;</td><td>&quot;Camelus ferus&quot;</td><td>&quot;ambiguous synonym&quot;</td><td>null</td></tr><tr><td>&quot;5WWKW&quot;</td><td>&quot;7JFKC&quot;</td><td>&quot;species&quot;</td><td>&quot;Camelus ferus&quot;</td><td>&quot;ambiguous synonym&quot;</td><td>null</td></tr></tbody></table></div>"
      ],
      "text/plain": [
       "shape: (2, 6)\n",
       "┌─────────┬──────────┬──────────┬────────────────┬───────────────────┬─────────────────────┐\n",
       "│ taxonID ┆ parentID ┆ col:rank ┆ scientificName ┆ status            ┆ colVernacularNameEN │\n",
       "│ ---     ┆ ---      ┆ ---      ┆ ---            ┆ ---               ┆ ---                 │\n",
       "│ str     ┆ str      ┆ str      ┆ str            ┆ str               ┆ list[str]           │\n",
       "╞═════════╪══════════╪══════════╪════════════════╪═══════════════════╪═════════════════════╡\n",
       "│ Q9XF    ┆ Q9XD     ┆ species  ┆ Camelus ferus  ┆ ambiguous synonym ┆ null                │\n",
       "│ 5WWKW   ┆ 7JFKC    ┆ species  ┆ Camelus ferus  ┆ ambiguous synonym ┆ null                │\n",
       "└─────────┴──────────┴──────────┴────────────────┴───────────────────┴─────────────────────┘"
      ]
     },
     "execution_count": 108,
     "metadata": {},
     "output_type": "execute_result"
    }
   ],
   "source": [
    "df_col.filter(pl.col(\"scientificName\").eq(\"Camelus ferus\"))"
   ]
  },
  {
   "cell_type": "code",
   "execution_count": 111,
   "id": "2523c3e6-23e2-4b85-9589-4a48030c9c23",
   "metadata": {},
   "outputs": [
    {
     "data": {
      "text/html": [
       "<div><style>\n",
       ".dataframe > thead > tr,\n",
       ".dataframe > tbody > tr {\n",
       "  text-align: right;\n",
       "  white-space: pre-wrap;\n",
       "}\n",
       "</style>\n",
       "<small>shape: (1, 6)</small><table border=\"1\" class=\"dataframe\"><thead><tr><th>taxonID</th><th>parentID</th><th>col:rank</th><th>scientificName</th><th>status</th><th>colVernacularNameEN</th></tr><tr><td>str</td><td>str</td><td>str</td><td>str</td><td>str</td><td>list[str]</td></tr></thead><tbody><tr><td>&quot;4N9HG&quot;</td><td>&quot;6Y7B&quot;</td><td>&quot;species&quot;</td><td>&quot;Przewalskium albirostre&quot;</td><td>&quot;accepted&quot;</td><td>null</td></tr></tbody></table></div>"
      ],
      "text/plain": [
       "shape: (1, 6)\n",
       "┌─────────┬──────────┬──────────┬─────────────────────────┬──────────┬─────────────────────┐\n",
       "│ taxonID ┆ parentID ┆ col:rank ┆ scientificName          ┆ status   ┆ colVernacularNameEN │\n",
       "│ ---     ┆ ---      ┆ ---      ┆ ---                     ┆ ---      ┆ ---                 │\n",
       "│ str     ┆ str      ┆ str      ┆ str                     ┆ str      ┆ list[str]           │\n",
       "╞═════════╪══════════╪══════════╪═════════════════════════╪══════════╪═════════════════════╡\n",
       "│ 4N9HG   ┆ 6Y7B     ┆ species  ┆ Przewalskium albirostre ┆ accepted ┆ null                │\n",
       "└─────────┴──────────┴──────────┴─────────────────────────┴──────────┴─────────────────────┘"
      ]
     },
     "execution_count": 111,
     "metadata": {},
     "output_type": "execute_result"
    }
   ],
   "source": [
    "df_col.filter(pl.col(\"taxonID\").eq(\"4N9HG\"))"
   ]
  },
  {
   "cell_type": "code",
   "execution_count": 113,
   "id": "0de0c391-84f7-4e99-8f94-eae9234cf7cb",
   "metadata": {},
   "outputs": [
    {
     "data": {
      "text/html": [
       "<div><style>\n",
       ".dataframe > thead > tr,\n",
       ".dataframe > tbody > tr {\n",
       "  text-align: right;\n",
       "  white-space: pre-wrap;\n",
       "}\n",
       "</style>\n",
       "<small>shape: (1, 6)</small><table border=\"1\" class=\"dataframe\"><thead><tr><th>taxonID</th><th>parentID</th><th>col:rank</th><th>scientificName</th><th>status</th><th>colVernacularNameEN</th></tr><tr><td>str</td><td>str</td><td>str</td><td>str</td><td>str</td><td>list[str]</td></tr></thead><tbody><tr><td>&quot;T569&quot;</td><td>&quot;4N9HG&quot;</td><td>&quot;species&quot;</td><td>&quot;Cervus albirostris&quot;</td><td>&quot;synonym&quot;</td><td>null</td></tr></tbody></table></div>"
      ],
      "text/plain": [
       "shape: (1, 6)\n",
       "┌─────────┬──────────┬──────────┬────────────────────┬─────────┬─────────────────────┐\n",
       "│ taxonID ┆ parentID ┆ col:rank ┆ scientificName     ┆ status  ┆ colVernacularNameEN │\n",
       "│ ---     ┆ ---      ┆ ---      ┆ ---                ┆ ---     ┆ ---                 │\n",
       "│ str     ┆ str      ┆ str      ┆ str                ┆ str     ┆ list[str]           │\n",
       "╞═════════╪══════════╪══════════╪════════════════════╪═════════╪═════════════════════╡\n",
       "│ T569    ┆ 4N9HG    ┆ species  ┆ Cervus albirostris ┆ synonym ┆ null                │\n",
       "└─────────┴──────────┴──────────┴────────────────────┴─────────┴─────────────────────┘"
      ]
     },
     "execution_count": 113,
     "metadata": {},
     "output_type": "execute_result"
    }
   ],
   "source": [
    "df_col.filter(pl.col(\"scientificName\").eq(\"Cervus albirostris\"))"
   ]
  },
  {
   "cell_type": "code",
   "execution_count": 114,
   "id": "d13f2f65-3cd3-4ffc-8f90-23ca976664b7",
   "metadata": {},
   "outputs": [
    {
     "data": {
      "text/html": [
       "<div><style>\n",
       ".dataframe > thead > tr,\n",
       ".dataframe > tbody > tr {\n",
       "  text-align: right;\n",
       "  white-space: pre-wrap;\n",
       "}\n",
       "</style>\n",
       "<small>shape: (1, 6)</small><table border=\"1\" class=\"dataframe\"><thead><tr><th>taxonID</th><th>parentID</th><th>col:rank</th><th>scientificName</th><th>status</th><th>colVernacularNameEN</th></tr><tr><td>str</td><td>str</td><td>str</td><td>str</td><td>str</td><td>list[str]</td></tr></thead><tbody><tr><td>&quot;BP6VT&quot;</td><td>&quot;7F2KB&quot;</td><td>&quot;subspecies&quot;</td><td>&quot;Ursus arctos pruinosus&quot;</td><td>&quot;accepted&quot;</td><td>[&quot;brown bear&quot;]</td></tr></tbody></table></div>"
      ],
      "text/plain": [
       "shape: (1, 6)\n",
       "┌─────────┬──────────┬────────────┬────────────────────────┬──────────┬─────────────────────┐\n",
       "│ taxonID ┆ parentID ┆ col:rank   ┆ scientificName         ┆ status   ┆ colVernacularNameEN │\n",
       "│ ---     ┆ ---      ┆ ---        ┆ ---                    ┆ ---      ┆ ---                 │\n",
       "│ str     ┆ str      ┆ str        ┆ str                    ┆ str      ┆ list[str]           │\n",
       "╞═════════╪══════════╪════════════╪════════════════════════╪══════════╪═════════════════════╡\n",
       "│ BP6VT   ┆ 7F2KB    ┆ subspecies ┆ Ursus arctos pruinosus ┆ accepted ┆ [\"brown bear\"]      │\n",
       "└─────────┴──────────┴────────────┴────────────────────────┴──────────┴─────────────────────┘"
      ]
     },
     "execution_count": 114,
     "metadata": {},
     "output_type": "execute_result"
    }
   ],
   "source": [
    "df_col.filter(pl.col(\"scientificName\").eq(\"Ursus arctos pruinosus\"))"
   ]
  },
  {
   "cell_type": "code",
   "execution_count": 9,
   "id": "0f6fd14e-2488-46b5-a61d-55a90500b94f",
   "metadata": {},
   "outputs": [],
   "source": [
    "df_taglist_patched = pl.read_csv(\"./taglist_latin_name_patched.csv\", has_header=False).select([pl.col(\"column_1\").alias(\"tag\"), pl.col(\"column_2\").alias(\"scientificName\")])"
   ]
  },
  {
   "cell_type": "code",
   "execution_count": 74,
   "id": "cc3d81b8-2663-4003-b435-90530f7156ad",
   "metadata": {
    "scrolled": true
   },
   "outputs": [
    {
     "data": {
      "text/html": [
       "<div><style>\n",
       ".dataframe > thead > tr,\n",
       ".dataframe > tbody > tr {\n",
       "  text-align: right;\n",
       "  white-space: pre-wrap;\n",
       "}\n",
       "</style>\n",
       "<small>shape: (112, 2)</small><table border=\"1\" class=\"dataframe\"><thead><tr><th>tag</th><th>scientificName</th></tr><tr><td>str</td><td>str</td></tr></thead><tbody><tr><td>&quot;Domestic cat&quot;</td><td>&quot;Felis catus&quot;</td></tr><tr><td>&quot;Olive-backed pipit&quot;</td><td>&quot;Anthus hodgsoni&quot;</td></tr><tr><td>&quot;Blue-fronted redstart&quot;</td><td>&quot;Phoenicurus frontalis&quot;</td></tr><tr><td>&quot;Chukar partridge&quot;</td><td>&quot;Alectoris chukar&quot;</td></tr><tr><td>&quot;Red-eared pika&quot;</td><td>&quot;Ochotona erythrotis&quot;</td></tr><tr><td>&quot;Eurasian eagle owl&quot;</td><td>&quot;Bubo bubo&quot;</td></tr><tr><td>&quot;Glover&#x27;s pika&quot;</td><td>&quot;Ochotona gloveri&quot;</td></tr><tr><td>&quot;Domestic yak&quot;</td><td>&quot;Bos grunniens&quot;</td></tr><tr><td>&quot;Eurasian hoopoe&quot;</td><td>&quot;Upupa epops&quot;</td></tr><tr><td>&quot;Himalayan buzzard&quot;</td><td>&quot;Buteo burmanicus&quot;</td></tr><tr><td>&quot;Tibetan bunting&quot;</td><td>&quot;Emberiza koslowi&quot;</td></tr><tr><td>&quot;Pink-rumped rosefinch&quot;</td><td>&quot;Carpodacus waltoni&quot;</td></tr><tr><td>&hellip;</td><td>&hellip;</td></tr><tr><td>&quot;Grey-backed shrike&quot;</td><td>&quot;Lanius tephronotus&quot;</td></tr><tr><td>&quot;Golden eagle&quot;</td><td>&quot;Aquila chrysaetos&quot;</td></tr><tr><td>&quot;Godlewski&#x27;s bunting&quot;</td><td>&quot;Emberiza godlewskii&quot;</td></tr><tr><td>&quot;Kessler&#x27;s thrush&quot;</td><td>&quot;Turdus kessleri&quot;</td></tr><tr><td>&quot;Chinese goral&quot;</td><td>&quot;Naemorhedus griseus&quot;</td></tr><tr><td>&quot;Pallas&#x27;s cat&quot;</td><td>&quot;Felis manul&quot;</td></tr><tr><td>&quot;Domestic dog&quot;</td><td>&quot;Canis lupus familiaris&quot;</td></tr><tr><td>&quot;Hill pigeon&quot;</td><td>&quot;Columba rupestris&quot;</td></tr><tr><td>&quot;Northern raven&quot;</td><td>&quot;Corvus corax&quot;</td></tr><tr><td>&quot;Bar-headed goose&quot;</td><td>&quot;Anser indicus&quot;</td></tr><tr><td>&quot;Himalayan marmot&quot;</td><td>&quot;Marmota himalayana&quot;</td></tr><tr><td>&quot;Robin accentor&quot;</td><td>&quot;Prunella rubeculoides&quot;</td></tr></tbody></table></div>"
      ],
      "text/plain": [
       "shape: (112, 2)\n",
       "┌───────────────────────┬───────────────────────┐\n",
       "│ tag                   ┆ scientificName        │\n",
       "│ ---                   ┆ ---                   │\n",
       "│ str                   ┆ str                   │\n",
       "╞═══════════════════════╪═══════════════════════╡\n",
       "│ Domestic cat          ┆ Felis catus           │\n",
       "│ Olive-backed pipit    ┆ Anthus hodgsoni       │\n",
       "│ Blue-fronted redstart ┆ Phoenicurus frontalis │\n",
       "│ Chukar partridge      ┆ Alectoris chukar      │\n",
       "│ Red-eared pika        ┆ Ochotona erythrotis   │\n",
       "│ …                     ┆ …                     │\n",
       "│ Hill pigeon           ┆ Columba rupestris     │\n",
       "│ Northern raven        ┆ Corvus corax          │\n",
       "│ Bar-headed goose      ┆ Anser indicus         │\n",
       "│ Himalayan marmot      ┆ Marmota himalayana    │\n",
       "│ Robin accentor        ┆ Prunella rubeculoides │\n",
       "└───────────────────────┴───────────────────────┘"
      ]
     },
     "execution_count": 74,
     "metadata": {},
     "output_type": "execute_result"
    }
   ],
   "source": [
    "df_taglist_patched"
   ]
  },
  {
   "cell_type": "code",
   "execution_count": 10,
   "id": "0454f30d-4a78-4333-b47c-c77ac75439ef",
   "metadata": {},
   "outputs": [],
   "source": [
    "df_shanshui_raw = pl.read_csv(shanshui_file)\n",
    "# Patch\n",
    "iucn_patch_dict = {\n",
    "    'LR/nt': 'NT',\n",
    "    'LR/LC': 'LC'\n",
    "}\n",
    "rcb_patch_dict = {\n",
    "    'Doubt:NT,VU,EN,CR': None\n",
    "}\n",
    "nationl_patch_dict = {\n",
    "    '?': None,\n",
    "    'Ⅰ': 'I'\n",
    "}\n",
    "\n",
    "df_shanshui = df_shanshui_raw.select([\n",
    "    pl.col(\"SpeciesID\").alias(\"shanshuiTaxonID\"),\n",
    "    pl.col(\"ChineseName\").alias(\"shanshuiVernacularNameCN\"),\n",
    "    pl.col(\"ScientificName\").alias(\"scientificName\"),\n",
    "    pl.col(\"IUCN\").replace(iucn_patch_dict).alias(\"protectLevelIUCN\"),\n",
    "    pl.col(\"RCB\").replace(rcb_patch_dict).alias(\"protectLevelRCB\"),\n",
    "    pl.col(\"NationalKey\").replace(nationl_patch_dict).alias(\"protectLevelNationalKey\")\n",
    "])"
   ]
  },
  {
   "cell_type": "code",
   "execution_count": 11,
   "id": "d4e9a9f9-ffd1-413a-bb1e-5f8494c1f7ae",
   "metadata": {},
   "outputs": [],
   "source": [
    "# Patch scientific name in shanshui data to COL\n",
    "df_shanshui_patch = df_shanshui.join(df_col, on=\"scientificName\", how=\"left\")"
   ]
  },
  {
   "cell_type": "code",
   "execution_count": 15,
   "id": "69ac3413-f025-44bb-a519-ed9e1381c5d6",
   "metadata": {
    "scrolled": true
   },
   "outputs": [],
   "source": [
    "df_shanshui_synonym = df_shanshui_patch.filter(pl.col(\"status\").eq(\"synonym\"))\n",
    "synonym_parent_id = df_shanshui_synonym.get_column(\"parentID\")\n",
    "synonym_scientific_names = []\n",
    "for id in synonym_parent_id:\n",
    "    synonym_scientific_names.append(df_col.filter(pl.col(\"taxonID\").eq(id)).get_column(\"scientificName\")[0])\n",
    "\n",
    "df_shanshui_synonym = df_shanshui_synonym.with_columns([\n",
    "    pl.Series(synonym_scientific_names).alias(\"scientificName\"),\n",
    "    pl.lit(\"accepted\").alias(\"status\")])\n"
   ]
  },
  {
   "cell_type": "code",
   "execution_count": 25,
   "id": "b26b546e-63ec-46ab-8fba-48b2a932ee24",
   "metadata": {
    "scrolled": true
   },
   "outputs": [
    {
     "data": {
      "text/html": [
       "<div><style>\n",
       ".dataframe > thead > tr,\n",
       ".dataframe > tbody > tr {\n",
       "  text-align: right;\n",
       "  white-space: pre-wrap;\n",
       "}\n",
       "</style>\n",
       "<small>shape: (2_976, 6)</small><table border=\"1\" class=\"dataframe\"><thead><tr><th>shanshuiTaxonID</th><th>shanshuiVernacularNameCN</th><th>scientificName</th><th>protectLevelIUCN</th><th>protectLevelRCB</th><th>protectLevelNationalKey</th></tr><tr><td>str</td><td>str</td><td>str</td><td>str</td><td>str</td><td>str</td></tr></thead><tbody><tr><td>&quot;AM0009&quot;</td><td>&quot;台湾小鲵&quot;</td><td>&quot;Hynobius formosanus&quot;</td><td>&quot;EN&quot;</td><td>&quot;EN&quot;</td><td>&quot;II&quot;</td></tr><tr><td>&quot;AM0012&quot;</td><td>&quot;楚南小鲵&quot;</td><td>&quot;Hynobius sonani&quot;</td><td>&quot;EN&quot;</td><td>&quot;EN&quot;</td><td>&quot;II&quot;</td></tr><tr><td>&quot;AM0021&quot;</td><td>&quot;辽宁爪鲵&quot;</td><td>&quot;Onychodactylus zhaoermii&quot;</td><td>null</td><td>&quot;CR&quot;</td><td>&quot;I&quot;</td></tr><tr><td>&quot;AM0013&quot;</td><td>&quot;商城肥鲵&quot;</td><td>&quot;Pachyhynobius shangchengensis&quot;</td><td>&quot;VU&quot;</td><td>&quot;VU&quot;</td><td>null</td></tr><tr><td>&quot;AM0022&quot;</td><td>&quot;吉林爪鲵&quot;</td><td>&quot;Onychodactylus zhangyapingi&quot;</td><td>&quot;DD&quot;</td><td>&quot;VU&quot;</td><td>&quot;II&quot;</td></tr><tr><td>&quot;AM0023&quot;</td><td>&quot;巫山巴鲵&quot;</td><td>&quot;Liua shihi&quot;</td><td>&quot;LC&quot;</td><td>&quot;NT&quot;</td><td>&quot;II&quot;</td></tr><tr><td>&quot;AM0025&quot;</td><td>&quot;新疆北鲵&quot;</td><td>&quot;Ranodon sibiricus&quot;</td><td>&quot;EN&quot;</td><td>&quot;CR&quot;</td><td>&quot;II&quot;</td></tr><tr><td>&quot;AM0028&quot;</td><td>&quot;龙洞山溪鲵&quot;</td><td>&quot;Batrachuperus londongensis&quot;</td><td>&quot;EN&quot;</td><td>&quot;VU&quot;</td><td>&quot;II&quot;</td></tr><tr><td>&quot;AM0002&quot;</td><td>&quot;安吉小鲵&quot;</td><td>&quot;Hynobius amjiensis&quot;</td><td>&quot;CR&quot;</td><td>&quot;CR&quot;</td><td>&quot;I&quot;</td></tr><tr><td>&quot;AM0003&quot;</td><td>&quot;中国小鲵&quot;</td><td>&quot;Hynobius chinensis&quot;</td><td>&quot;DD&quot;</td><td>&quot;EN&quot;</td><td>&quot;I&quot;</td></tr><tr><td>&quot;AM0004&quot;</td><td>&quot;挂榜山小鲵&quot;</td><td>&quot;Hynobius guabangshanensis&quot;</td><td>&quot;DD&quot;</td><td>&quot;CR&quot;</td><td>&quot;I&quot;</td></tr><tr><td>&quot;AM0005&quot;</td><td>&quot;东北小鲵&quot;</td><td>&quot;Hynobius leechii&quot;</td><td>&quot;LC&quot;</td><td>&quot;VU&quot;</td><td>&quot;II&quot;</td></tr><tr><td>&hellip;</td><td>&hellip;</td><td>&hellip;</td><td>&hellip;</td><td>&hellip;</td><td>&hellip;</td></tr><tr><td>&quot;AM0264&quot;</td><td>&quot;台岛臭蛙&quot;</td><td>&quot;Odorrana swinhoana&quot;</td><td>null</td><td>&quot;LC&quot;</td><td>null</td></tr><tr><td>&quot;AM0486&quot;</td><td>&quot;屏边树蛙&quot;</td><td>&quot;Zhangixalus duboisi&quot;</td><td>null</td><td>null</td><td>null</td></tr><tr><td>&quot;AM0042&quot;</td><td>&quot;海南瑶螈&quot;</td><td>&quot;Tylototriton hainanensis&quot;</td><td>null</td><td>&quot;EN&quot;</td><td>&quot;II&quot;</td></tr><tr><td>&quot;AM0040&quot;</td><td>&quot;细痣瑶螈&quot;</td><td>&quot;Tylototriton asperrimus&quot;</td><td>null</td><td>&quot;NT&quot;</td><td>&quot;II&quot;</td></tr><tr><td>&quot;AM0046&quot;</td><td>&quot;大凉螈&quot;</td><td>&quot;Tylototriton taliangensis&quot;</td><td>null</td><td>&quot;VU&quot;</td><td>&quot;II&quot;</td></tr><tr><td>&quot;AM0296&quot;</td><td>&quot;虎纹蛙&quot;</td><td>&quot;Hoplobatrachus rugulosus&quot;</td><td>&quot;LC&quot;</td><td>&quot;EN&quot;</td><td>&quot;II&quot;</td></tr><tr><td>&quot;AV0609&quot;</td><td>&quot;双辫八色鸫&quot;</td><td>&quot;Anthocincla phayrei&quot;</td><td>null</td><td>&quot;VU&quot;</td><td>&quot;II&quot;</td></tr><tr><td>&quot;MA0284&quot;</td><td>&quot;小爪水獭&quot;</td><td>&quot;Amblonyx cinereus cinereus&quot;</td><td>&quot;VU&quot;</td><td>&quot;EN&quot;</td><td>&quot;II&quot;</td></tr><tr><td>&quot;AV1216&quot;</td><td>&quot;西域山雀&quot;</td><td>&quot;Parus major bokharensis&quot;</td><td>null</td><td>&quot;LC&quot;</td><td>null</td></tr><tr><td>&quot;MA0412&quot;</td><td>&quot;长吻真海豚&quot;</td><td>&quot;Delphinus delphis&quot;</td><td>&quot;DD&quot;</td><td>&quot;DD&quot;</td><td>&quot;II&quot;</td></tr><tr><td>&quot;AV0142&quot;</td><td>&quot;渔雕&quot;</td><td>&quot;Icthyophaga humilis&quot;</td><td>&quot;NT&quot;</td><td>&quot;NT&quot;</td><td>&quot;II&quot;</td></tr><tr><td>&quot;RE0018&quot;</td><td>&quot;凹甲陆龟&quot;</td><td>&quot;Manouria impressa&quot;</td><td>&quot;EN&quot;</td><td>&quot;CR&quot;</td><td>&quot;I&quot;</td></tr></tbody></table></div>"
      ],
      "text/plain": [
       "shape: (2_976, 6)\n",
       "┌────────────────┬────────────────┬────────────────┬───────────────┬───────────────┬───────────────┐\n",
       "│ shanshuiTaxonI ┆ shanshuiVernac ┆ scientificName ┆ protectLevelI ┆ protectLevelR ┆ protectLevelN │\n",
       "│ D              ┆ ularNameCN     ┆ ---            ┆ UCN           ┆ CB            ┆ ationalKey    │\n",
       "│ ---            ┆ ---            ┆ str            ┆ ---           ┆ ---           ┆ ---           │\n",
       "│ str            ┆ str            ┆                ┆ str           ┆ str           ┆ str           │\n",
       "╞════════════════╪════════════════╪════════════════╪═══════════════╪═══════════════╪═══════════════╡\n",
       "│ AM0009         ┆ 台湾小鲵       ┆ Hynobius       ┆ EN            ┆ EN            ┆ II            │\n",
       "│                ┆                ┆ formosanus     ┆               ┆               ┆               │\n",
       "│ AM0012         ┆ 楚南小鲵       ┆ Hynobius       ┆ EN            ┆ EN            ┆ II            │\n",
       "│                ┆                ┆ sonani         ┆               ┆               ┆               │\n",
       "│ AM0021         ┆ 辽宁爪鲵       ┆ Onychodactylus ┆ null          ┆ CR            ┆ I             │\n",
       "│                ┆                ┆ zhaoermii      ┆               ┆               ┆               │\n",
       "│ AM0013         ┆ 商城肥鲵       ┆ Pachyhynobius  ┆ VU            ┆ VU            ┆ null          │\n",
       "│                ┆                ┆ shangchengensi ┆               ┆               ┆               │\n",
       "│                ┆                ┆ s              ┆               ┆               ┆               │\n",
       "│ AM0022         ┆ 吉林爪鲵       ┆ Onychodactylus ┆ DD            ┆ VU            ┆ II            │\n",
       "│                ┆                ┆ zhangyapingi   ┆               ┆               ┆               │\n",
       "│ …              ┆ …              ┆ …              ┆ …             ┆ …             ┆ …             │\n",
       "│ MA0284         ┆ 小爪水獭       ┆ Amblonyx       ┆ VU            ┆ EN            ┆ II            │\n",
       "│                ┆                ┆ cinereus       ┆               ┆               ┆               │\n",
       "│                ┆                ┆ cinereus       ┆               ┆               ┆               │\n",
       "│ AV1216         ┆ 西域山雀       ┆ Parus major    ┆ null          ┆ LC            ┆ null          │\n",
       "│                ┆                ┆ bokharensis    ┆               ┆               ┆               │\n",
       "│ MA0412         ┆ 长吻真海豚     ┆ Delphinus      ┆ DD            ┆ DD            ┆ II            │\n",
       "│                ┆                ┆ delphis        ┆               ┆               ┆               │\n",
       "│ AV0142         ┆ 渔雕           ┆ Icthyophaga    ┆ NT            ┆ NT            ┆ II            │\n",
       "│                ┆                ┆ humilis        ┆               ┆               ┆               │\n",
       "│ RE0018         ┆ 凹甲陆龟       ┆ Manouria       ┆ EN            ┆ CR            ┆ I             │\n",
       "│                ┆                ┆ impressa       ┆               ┆               ┆               │\n",
       "└────────────────┴────────────────┴────────────────┴───────────────┴───────────────┴───────────────┘"
      ]
     },
     "execution_count": 25,
     "metadata": {},
     "output_type": "execute_result"
    }
   ],
   "source": [
    "df_shanshui = pl.concat([\n",
    "    df_shanshui_patch.filter(pl.col(\"status\").ne(\"synonym\")),\n",
    "    df_shanshui_synonym]).select([\n",
    "        pl.col(\"shanshuiTaxonID\"),\n",
    "        pl.col(\"shanshuiVernacularNameCN\"),\n",
    "        pl.col(\"scientificName\"),\n",
    "        pl.col(\"protectLevelIUCN\"),\n",
    "        pl.col(\"protectLevelRCB\"),\n",
    "        pl.col(\"protectLevelNationalKey\")\n",
    "    ])\n",
    "df_shanshui"
   ]
  },
  {
   "cell_type": "code",
   "execution_count": null,
   "id": "e23b42d3-3405-4f5d-a62f-9fc829922dbb",
   "metadata": {},
   "outputs": [],
   "source": []
  },
  {
   "cell_type": "code",
   "execution_count": 27,
   "id": "a409c57a-6f83-42fa-98dc-2575b5f9a79d",
   "metadata": {},
   "outputs": [],
   "source": [
    "maze_taglist = df_taglist_patched.join(df_shanshui, on=\"scientificName\", how=\"left\")"
   ]
  },
  {
   "cell_type": "code",
   "execution_count": 40,
   "id": "2a34671b-a0cd-4350-9f0d-8669ceff228f",
   "metadata": {},
   "outputs": [],
   "source": [
    "maze_taglist_taxon = (maze_taglist\n",
    "    .join(df_gbif.drop(\"gbifVernacularNameEN\"), on=\"scientificName\", how=\"left\")\n",
    "    .join(df_col.drop([\"parentID\", \"status\", \"colVernacularNameEN\"]), on=\"scientificName\", how=\"left\")\n",
    ")"
   ]
  },
  {
   "cell_type": "code",
   "execution_count": 42,
   "id": "6c7a0d7d-d6d4-4473-8dff-8e448fec6fec",
   "metadata": {},
   "outputs": [],
   "source": [
    "maze_taglist_taxon.write_csv(\"maze_taglist.csv\")"
   ]
  }
 ],
 "metadata": {
  "kernelspec": {
   "display_name": "Python 3 (ipykernel)",
   "language": "python",
   "name": "python3"
  },
  "language_info": {
   "codemirror_mode": {
    "name": "ipython",
    "version": 3
   },
   "file_extension": ".py",
   "mimetype": "text/x-python",
   "name": "python",
   "nbconvert_exporter": "python",
   "pygments_lexer": "ipython3",
   "version": "3.11.7"
  }
 },
 "nbformat": 4,
 "nbformat_minor": 5
}
