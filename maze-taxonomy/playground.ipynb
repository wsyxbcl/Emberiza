{
 "cells": [
  {
   "cell_type": "code",
   "execution_count": 1,
   "id": "faac6cd3-d126-4a5b-9372-5a30864eb218",
   "metadata": {},
   "outputs": [
    {
     "name": "stdout",
     "output_type": "stream",
     "text": [
      "0.20.6\n"
     ]
    }
   ],
   "source": [
    "import re\n",
    "import polars as pl\n",
    "pl.Config.set_fmt_str_lengths(50)\n",
    "print(pl.__version__)\n",
    "\n",
    "from utils import xmp_to_taglist"
   ]
  },
  {
   "cell_type": "code",
   "execution_count": 2,
   "id": "f361057c-073b-419b-b4ad-eef9d59e41a9",
   "metadata": {},
   "outputs": [],
   "source": [
    "col_taxon_file = \"/home/wsyxbcl/Downloads/col-20231215/NameUsage.tsv\"\n",
    "col_name_file = \"/home/wsyxbcl/Downloads/col-20231215/VernacularName.tsv\"\n",
    "shanshui_file = \"/home/wsyxbcl/Downloads/_Species_Data__202401051603.csv\"\n",
    "gbif_backbone_file = \"/home/wsyxbcl/Downloads/gbif-backbone/Taxon.tsv\"\n",
    "gbif_backbone_name_file = \"/home/wsyxbcl/Downloads/gbif-backbone/VernacularName.tsv\"\n"
   ]
  },
  {
   "cell_type": "code",
   "execution_count": 3,
   "id": "4e675aa5-9b24-4bc3-9683-75081fff3827",
   "metadata": {},
   "outputs": [],
   "source": [
    "dtypes = {\n",
    "    # \"col:ID\": pl.Categorical,\n",
    "    \"col:rank\": pl.Categorical,\n",
    "    \"col:status\": pl.Categorical,\n",
    "}\n",
    "# COL taxon data\n",
    "df_col_taxon_raw = pl.read_csv(col_taxon_file, separator='\\t', infer_schema_length=20000, rechunk=True, quote_char=None)\n",
    "df_col_taxon = df_col_taxon_raw.filter(pl.col(\"col:code\").eq(\"zoological\"))\n",
    "df_col_taxon = df_col_taxon.select([\n",
    "    pl.col(\"col:ID\").alias(\"taxonID\"), \n",
    "    pl.col(\"col:parentID\").alias(\"parentID\"), \n",
    "    pl.col(\"col:rank\"), \n",
    "    pl.col(\"col:scientificName\").str.replace(r' \\([^)]*\\)', '').alias(\"scientificName\"), \n",
    "    pl.col(\"col:status\").alias(\"status\")])\n",
    "# COL name data\n",
    "df_col_name_raw = pl.read_csv(col_name_file, separator=\"\\t\", infer_schema_length=20000)\n",
    "df_col_name = df_col_name_raw.filter(pl.col(\"col:language\") == \"eng\")\n",
    "df_col_name = df_col_name.select([\n",
    "    pl.col(\"col:taxonID\").alias(\"taxonID\"),\n",
    "    pl.col(\"col:name\").str.to_lowercase().alias(\"colVernacularNameEN\"),\n",
    "])\n",
    "df_col_name = df_col_name.group_by(\"taxonID\").agg([pl.col(\"colVernacularNameEN\")])\n",
    "\n",
    "df_col = df_col_taxon.join(df_col_name, on=\"taxonID\", how=\"left\")"
   ]
  },
  {
   "cell_type": "code",
   "execution_count": 4,
   "id": "47592b7a-7ad0-48c1-9673-5a21da448a23",
   "metadata": {},
   "outputs": [],
   "source": [
    "# GBIF backbone data\n",
    "\n",
    "df_gbif_taxon_raw = pl.read_csv(gbif_backbone_file, separator='\\t', rechunk=True, quote_char=None)\n",
    "# df_gbif_taxon = df_gbif_taxon_raw.filter(pl.col(\"taxonRank\").is_in([\"species\", \"subspecies\"]))\n",
    "df_gbif_taxon = (df_gbif_taxon_raw\n",
    "    .filter(pl.col(\"kingdom\").eq(\"Animalia\"))\n",
    "    .filter(pl.col(\"taxonRank\").is_in([\"species\", \"subspecies\"]))\n",
    "    .filter(pl.col(\"taxonomicStatus\").eq(\"accepted\"))\n",
    "    .select([\n",
    "        pl.col(\"taxonID\").alias(\"gbifTaxonID\"),\n",
    "        pl.col(\"canonicalName\").alias(\"scientificName\"),\n",
    "    ])\n",
    ")\n",
    "\n",
    "df_gbif_name_raw = pl.read_csv(gbif_backbone_name_file, separator=\"\\t\")\n",
    "df_gbif_name = (df_gbif_name_raw\n",
    "    .filter((pl.col(\"language\") == \"en\") | (pl.col(\"language\").is_null()))\n",
    "    .filter(pl.col(\"source\") != \"United Kingdom Species Inventory (UKSI)\")\n",
    "    .select([\n",
    "        pl.col(\"taxonID\").alias(\"gbifTaxonID\"),\n",
    "        pl.col(\"vernacularName\").str.to_lowercase().alias(\"gbifVernacularNameEN\"),])\n",
    "    .group_by(\"gbifTaxonID\")\n",
    "    .agg([pl.col(\"gbifVernacularNameEN\")])\n",
    ")\n",
    "\n",
    "df_gbif = df_gbif_taxon.join(df_gbif_name, on=\"gbifTaxonID\", how=\"left\")"
   ]
  },
  {
   "cell_type": "code",
   "execution_count": 60,
   "id": "e785dac6-7153-413a-83e0-daaae45187a1",
   "metadata": {
    "scrolled": true
   },
   "outputs": [
    {
     "data": {
      "text/plain": [
       "['Truchas Mexicanas',\n",
       " 'Catalogue of the Lepidoptera of Belgium',\n",
       " 'Checklist of the Butterflies (Papilionoidea) of Vermont, USA',\n",
       " 'Taxon list of Orthoptera (Grashoppers) from Germany compiled at the SNSB',\n",
       " 'Herpestidae',\n",
       " 'Iniidae',\n",
       " 'Calomyscidae',\n",
       " 'Octodontidae',\n",
       " 'Pelagic Invertebrates',\n",
       " 'Acrobatidae',\n",
       " 'Orthoptera Species File',\n",
       " 'Castoridae',\n",
       " 'Petromuridae',\n",
       " 'Ziphiidae',\n",
       " 'Mantophasmatodea Species File',\n",
       " 'Platacanthomyidae',\n",
       " 'Myrmecophagidae',\n",
       " 'BioAcoustica: Wildlife Sounds Database',\n",
       " 'Myzopodidae',\n",
       " 'Cataloging Diversity in the Sacoglossa',\n",
       " 'Terrestrial Slugs Web',\n",
       " 'Checklist of the marine and estuarine fishes of New Ireland Province, Papua New Guinea, western Pacific Ocean, with 810 new records',\n",
       " 'Taxon list of Pscoptera from Germany compiled in the context of the GBOL project',\n",
       " 'Rhinonycteridae',\n",
       " 'Mammals of the World',\n",
       " 'Abrocomidae',\n",
       " 'Lista de plantas útiles y promisorias en la Comunidad de Wacurabá (Caño Cuduyarí) en el Departamento de Vaupés (Amazonía Colombiana)',\n",
       " 'Eschrichtiidae',\n",
       " 'Thylacomyidae',\n",
       " 'Integrated Taxonomic Information System (ITIS)',\n",
       " 'Taxon list of Tardigrada from Germany compiled in the context of the GBOL project',\n",
       " 'Global Invasive Species Database',\n",
       " 'Dasypodidae',\n",
       " 'Lorisidae',\n",
       " 'Pedetidae',\n",
       " 'Taxon list of Protura from Germany compiled in the context of the GBOL project',\n",
       " 'COA Wildlife Conservation List',\n",
       " 'List of Invasive Alien Species of Union concern',\n",
       " 'Cervidae',\n",
       " 'Checklist of extant species recorded in Keo Seima Wildlife Sanctuary, Cambodia',\n",
       " 'Cnidaria',\n",
       " 'Monodontidae',\n",
       " 'The IUCN Red List of Threatened Species',\n",
       " 'Megalonychidae',\n",
       " 'Cebidae',\n",
       " 'Caviidae',\n",
       " 'Hypsiprymnodontidae',\n",
       " 'Reptilia.my',\n",
       " 'Galagidae',\n",
       " 'Checklist of Fireflies (Lampyridae) in Vermont, USA',\n",
       " 'Bathyergidae',\n",
       " 'NCBI Taxonomy',\n",
       " 'Porifera',\n",
       " 'Plecoptera Species File',\n",
       " 'Staurozoa',\n",
       " 'List of algae, fungi, and plant species included into the Red Data Book of Ukraine',\n",
       " 'Odonata',\n",
       " 'Taxon list of Sternorrhyncha from Germany compiled in the context of the GBOL project',\n",
       " 'Taxon list of Microcoryphia (Archaeognatha) from Germany compiled in the context of the GBOL project',\n",
       " 'Peramelidae',\n",
       " 'Suidae',\n",
       " 'Annelida',\n",
       " 'Cockroach Species File',\n",
       " 'Mustelidae',\n",
       " 'Lista sistemática actualizada de los peces de Chile',\n",
       " 'Cuniculidae',\n",
       " 'Nesomyidae',\n",
       " 'Tarsipedidae',\n",
       " 'Taxon list of Araneae from Germany compiled in the context of the GBOL project',\n",
       " 'Otariidae',\n",
       " 'Alpheidae',\n",
       " 'Spalacidae',\n",
       " 'Aves de la Llanura Amazónica, Leguízamo, Putumayo-Colombia.',\n",
       " 'Zapodidae',\n",
       " 'EUNIS Biodiversity Database',\n",
       " 'Tarsiidae',\n",
       " 'January 26, 1836',\n",
       " 'Mimosaceae & Papilionaceae Fl. Paisös Catalans',\n",
       " 'Dyntaxa. Svensk taxonomisk databas',\n",
       " 'Nordic crop wild relative priority list',\n",
       " 'Amphibia-Malaysia',\n",
       " 'Echinoderms',\n",
       " 'CATE Araceae',\n",
       " 'Lista Roja de las Aves de Ecuador',\n",
       " 'A new terrestrial species of Chiropterotriton (Caudata: Plethodontidae) from central Mexico',\n",
       " 'Noctilionidae',\n",
       " 'Invasive Alien Species in Belgium - HARMONIA database',\n",
       " 'Taxon list of fungi and fungal-like organisms from Germany compiled by the DGfM',\n",
       " 'Potamogalidae',\n",
       " 'Rhinocerotidae',\n",
       " 'Rhinolophidae',\n",
       " 'United Kingdom Species Inventory (UKSI)',\n",
       " 'Eupleridae',\n",
       " 'Taxon list of Dermaptera from Germany compiled in the context of the GBOL project',\n",
       " 'Dipodidae',\n",
       " 'Checklist Dutch Species Register - Nederlands Soortenregister',\n",
       " 'The Diptera Site',\n",
       " 'Mammals of Korea: a review of their taxonomy, distribution and conservation status',\n",
       " 'Aves del piedemonte Andino-Amazónico, Putumayo-Colombia.',\n",
       " 'Catalogue of Life Checklist',\n",
       " 'Vernacular names of Iberian fungi in Spain',\n",
       " 'Tapiridae',\n",
       " 'Taxon list of Megaloptera from Germany compiled in the context of the GBOL project',\n",
       " 'Tupaiidae',\n",
       " 'National checklists and red lists for European butterflies',\n",
       " 'Caenolestidae',\n",
       " 'Hylobatidae',\n",
       " 'Taxon list of vascular plants from Bavaria, Germany compiled in the context of the BFL project',\n",
       " 'Taxon list of mosses from Germany compiled in the context of the GBOL project',\n",
       " 'Pontoporiidae',\n",
       " 'Daubentoniidae',\n",
       " 'Phocidae',\n",
       " 'Leporidae',\n",
       " 'Coleorrhyncha Species File',\n",
       " 'Peracarida',\n",
       " 'Lemuridae',\n",
       " 'Yanayacu Natural History Research Group',\n",
       " 'Stoneflies (Plecoptera) of the Canadian Prairie Provinces',\n",
       " 'Endangered Species from the Coastal Region of Kenya',\n",
       " 'Anthophila- an online repository of bee diversity',\n",
       " 'Hippopotamidae',\n",
       " 'Taxon list of animals with German names (worldwide) compiled at the SMNS',\n",
       " 'World Register of Marine Species',\n",
       " 'Hyaenidae',\n",
       " 'Elephantidae',\n",
       " 'Aves del Valle de Sibundoy, Alto Putumayo-Colombia.',\n",
       " 'Taxon list of Diplura from Germany compiled in the context of the GBOL project',\n",
       " 'Nycteridae',\n",
       " 'Dinomyidae',\n",
       " 'Ctenodactylidae',\n",
       " 'Antilocapridae',\n",
       " 'Registry of introduced terrestrial molluscs in Belgium',\n",
       " 'Taxon list of Strepsiptera from Germany compiled in the context of the GBOL project',\n",
       " 'Hominidae',\n",
       " 'Aphid Species File',\n",
       " 'Echimyidae',\n",
       " 'eButterfly Species List',\n",
       " 'Taxon list of Pseudoscorpiones from Germany compiled in the context of the GBOL project',\n",
       " 'The Clements Checklist',\n",
       " 'Cercopithecidae',\n",
       " 'Mystacinidae',\n",
       " 'Ptilocercidae',\n",
       " 'A New Horseshoe Bat, Rhinolophus chiewkweeae (Chiroptera, Rhinolophidae), from Malaysia',\n",
       " 'Cricetidae',\n",
       " 'Taxon list of Raphidioptera from Germany compiled in the context of the GBOL project',\n",
       " 'World Register of Introduced Marine Species (WRiMS)',\n",
       " 'Pseudocheiridae',\n",
       " 'Checklist of Danish Burrow Worms (Echiura)',\n",
       " 'Chlamyphoridae',\n",
       " 'Didelphidae',\n",
       " 'Parasenegalia and Pseudosenegalia (Fabaceae): New Genera of the Mimosoideae',\n",
       " 'Erinaceidae',\n",
       " 'Indriidae',\n",
       " 'Cheirogaleidae',\n",
       " 'Thryonomyidae',\n",
       " 'The Swedish Red List 2020',\n",
       " 'Taxon list of Siphonaptera from Germany compiled in the context of the GBOL project',\n",
       " 'Bryoquel : Liste des bryophytes présentes au Québec-Labrador',\n",
       " 'Checklist of Vermont Species',\n",
       " 'Taxon list of Zygentoma from Germany compiled in the context of the GBOL project',\n",
       " 'A Checklist of the Butterflies of Arabuko-Sokoke Forest, Kenya',\n",
       " 'Erethizontidae',\n",
       " 'Macroscelididae',\n",
       " 'A new species of deep-sea anglerfish, genus Himantolophus (Lophiiformes: Himantolophidae) from the Andaman Sea, India',\n",
       " 'Heterocephalidae',\n",
       " 'Orchidaceae, Orchideen',\n",
       " 'Nordic plant uses from Gunnerus and Høeg',\n",
       " 'Taxon list of Pteridophyta from Germany compiled in the context of the GBOL project',\n",
       " 'Global Register of Introduced and Invasive Species - Alaska, United States (ver.2.0, 2022)',\n",
       " 'Bradypodidae',\n",
       " 'Listado de especies de plantas usadas por la avifauna en sitios priorizados de la ciudad de Barranquilla',\n",
       " 'Nandiniidae',\n",
       " 'Common names of Chilean Plants',\n",
       " 'Dasyuridae',\n",
       " 'Seagrasses in Taiwan',\n",
       " 'Neobalaenidae',\n",
       " 'Taxonomy in Flux Checklist',\n",
       " 'Taxon list of Pauropoda from Germany compiled in the context of the GBOL project',\n",
       " 'Balaenidae',\n",
       " 'Amphibians of Ecuador/Anfibios de Ecuador',\n",
       " 'Checklist: Atlas and catalogue of the mosquitoes (Diptera, Culicidae) of Luxembourg - 2023',\n",
       " 'Heteromyidae',\n",
       " 'Notoryctidae',\n",
       " 'Five Newrodents From The Eastern Elburz Moitntains And A New Race Of Hare From Teheran',\n",
       " 'Hystricidae',\n",
       " 'Taxon list of hornworts from Germany compiled in the context of the GBOL project',\n",
       " 'Dugongidae',\n",
       " 'Multilingual IOC World Bird List, v11.2',\n",
       " 'Aplodontiidae',\n",
       " 'Atlas of the reptile fauna of Luxembourg',\n",
       " \"Vernacular names of the Flore d'Afrique Centrale\",\n",
       " 'List of amphibian species found in the territory of the Slobozhanskyi National Nature Park',\n",
       " 'Lista Roja Nacional de peces de agua dulce de Ecuador',\n",
       " 'Lipotidae',\n",
       " 'Database of Vascular Plants of Canada (VASCAN)',\n",
       " 'Especies forestales que ofrecen productos no maderables en la jurisdicción de CORPOCHIVOR (Boyacá-Colombia)',\n",
       " 'Korean Peninsula Flora',\n",
       " 'Vombatidae',\n",
       " 'List of reptile species found in the territory of the Slobozhanskyi National Nature Park',\n",
       " 'Tenrecidae',\n",
       " 'Procyonidae',\n",
       " 'Myriatrix',\n",
       " 'Passiflora vernacular names',\n",
       " 'Checklist Dutch Caribbean Species Register',\n",
       " 'Taxon list of Pisces and Cyclostoma from Germany compiled in the context of the GBOL project',\n",
       " 'Phasmida Species File',\n",
       " 'Giraffidae',\n",
       " 'Macropodidae',\n",
       " 'A lost world in Wallacea: Description of a montane archipelagic avifauna (supplement)',\n",
       " 'Chinchillidae',\n",
       " 'Mormoopidae',\n",
       " 'Odobenidae',\n",
       " 'Malaysian Mangrove',\n",
       " 'Checklist of mammals of the Slobozhanskyi National Nature Park',\n",
       " 'Talpidae',\n",
       " 'Embioptera Species File',\n",
       " 'Procaviidae',\n",
       " 'Chrysochloridae',\n",
       " 'Bovidae',\n",
       " 'Burramyidae',\n",
       " 'Deep-Sea Octocorals Online',\n",
       " 'World Butterfly Species List',\n",
       " 'Buccinid Gastropods',\n",
       " 'Taxon list of Hymenoptera from Germany compiled in the context of the GBOL project',\n",
       " 'Lista Roja de Palmas del Ecuador',\n",
       " 'Myrmecobiidae',\n",
       " 'Grylloblattodea Species File',\n",
       " 'RIPARIAS target species list',\n",
       " 'Phthiraptera.myspecies.info',\n",
       " 'Belgian Species List',\n",
       " 'Geomyidae',\n",
       " 'Ctenomyidae',\n",
       " 'Phocoenidae',\n",
       " 'Lista sistemática actualizada de los Moluscos de Chile',\n",
       " 'Taxon list of Dictyoptera from Germany compiled in the context of the GBOL project',\n",
       " 'Brazilian Flora 2020 project - Projeto Flora do Brasil 2020',\n",
       " 'Thyropteridae',\n",
       " 'Cynocephalidae',\n",
       " 'Global Register of Introduced and Invasive Species - Hawaii, United States (ver.2.0, 2022)',\n",
       " 'Invasive species in Sweden',\n",
       " 'Marine Invaders of the NE Pacific',\n",
       " 'EOL Hotlist',\n",
       " 'GRIN Taxonomy',\n",
       " 'Nordic Crop Wild Relative (CWR) Checklist',\n",
       " 'Physeteridae',\n",
       " 'Aotidae',\n",
       " 'Chrysididae Species File',\n",
       " 'Taxon list of Trichoptera from Germany compiled in the context of the GBOL project',\n",
       " 'National checklist of all species occurring in Denmark',\n",
       " 'Risk assessment of invasive taxa in Sweden',\n",
       " 'Phalangeridae',\n",
       " 'Taxon list of liverworts from Germany compiled in the context of the GBOL project',\n",
       " 'Gliridae',\n",
       " 'Checklist of hard ticks in Luxembourg (Parasitiformes, Ixodida, Ixodidae)',\n",
       " 'Arácnidos de Centroamérica',\n",
       " 'Colaboraciones Americanas Sobre Aves',\n",
       " None,\n",
       " 'Sciuridae',\n",
       " 'Cyanolichens Index',\n",
       " 'Balaenopteridae',\n",
       " 'AfriBats',\n",
       " 'Mammal Species of the World',\n",
       " 'Orycetropodidae',\n",
       " 'Checklist of amphibians of the Dvorichanskyi National Nature Park',\n",
       " 'Felidae',\n",
       " 'Listado actualizado de las aves endémicas y casi-endémicas de Colombia',\n",
       " 'Lepilemuridae',\n",
       " 'Ochotonidae',\n",
       " 'Vespertilionidae',\n",
       " 'Coreoidea Species File',\n",
       " 'Ailuridae',\n",
       " 'Checklist of Pea Clams (Sphaeriidae) in Vermont, USA',\n",
       " 'Phyllostomidae',\n",
       " 'Swiss National Butterflies and Forester Moths Databank (Checklist)',\n",
       " 'Lista taxonómica de las especies de equinodermos  de México',\n",
       " 'African Amphibians',\n",
       " 'Delphinidae',\n",
       " 'Western Hemisphere Caraboidea',\n",
       " 'Propuesta actualizada de nombres comunes en castellano para las mariposas de la península ibérica, Baleares, Ceuta, Melilla y Canarias (Lepidoptera: Papilionoidea)',\n",
       " 'Taxon list of Thysanoptera from Germany compiled in the context of the GBOL project',\n",
       " 'Soricidae',\n",
       " 'Common bird names Luxembourg',\n",
       " 'Taxon list of Diplopoda from Germany in the context of the GBOL project',\n",
       " 'Rhinopomatidae',\n",
       " 'Anomaluridae',\n",
       " 'IOC World Bird List, v13.2',\n",
       " 'A new species of Noblella (Amphibia: Strabomantidae) from the Río Manduriacu Reserve on the Pacific slopes of the Ecuadorian Andes',\n",
       " 'List of animal species included into the Red Data Book of Ukraine',\n",
       " 'Platanistidae',\n",
       " 'Red list of Lycopodiaceae of Luxembourg 2019',\n",
       " 'International Cichorieae Network (ICN): Cichorieae Portal',\n",
       " 'Sminthidae',\n",
       " 'Taxon list of Auchenorrhyncha from Germany compiled in the context of the GBOL project',\n",
       " 'DAISIE - Inventory of alien invasive species in Europe',\n",
       " 'Another Angolan Namib endemic species: a new Nucras Gray, 1838 (Squamata: Lacertidae) from south-western Angola',\n",
       " 'Phitheciidae',\n",
       " 'Diatomyidae',\n",
       " 'Trichechidae',\n",
       " 'The Paleobiology Database',\n",
       " \"Martha's Vineyard species checklist\",\n",
       " 'The Woody Plants of Korea (한국의 수목)',\n",
       " 'Checklist of non-native freshwater fishes in Flanders, Belgium',\n",
       " 'Nayades',\n",
       " 'Global Register of Introduced and Invasive Species - United States (Contiguous) (ver.2.0, 2022)',\n",
       " 'Molossidae',\n",
       " 'Cyclopedidae',\n",
       " 'Potoroidae',\n",
       " 'Taxon list of Symphyla from Germany compiled in the context of the GBOL project',\n",
       " 'Dasyproctidae']"
      ]
     },
     "execution_count": 60,
     "metadata": {},
     "output_type": "execute_result"
    }
   ],
   "source": [
    "# df_gbif_name_raw.get_column(\"source\").unique().to_list()"
   ]
  },
  {
   "cell_type": "code",
   "execution_count": 5,
   "id": "bab14c86-0db5-49c4-8908-7f408ec11c85",
   "metadata": {},
   "outputs": [],
   "source": [
    "# Taglist\n",
    "taglist_yushu = xmp_to_taglist(\"/home/wsyxbcl/Downloads/玉树TagList.jpg.xmp\")\n",
    "taglist_qilian = xmp_to_taglist(\"/home/wsyxbcl/Downloads/祁连TagList.jpg.xmp\")\n",
    "taglist = list((set(taglist_qilian) | set(taglist_yushu)))\n",
    "s_tag = pl.Series(\"tag\", taglist).str.to_lowercase()"
   ]
  },
  {
   "cell_type": "code",
   "execution_count": 63,
   "id": "c7a86339-40e5-49e4-9305-be9701cc60cc",
   "metadata": {},
   "outputs": [
    {
     "name": "stdout",
     "output_type": "stream",
     "text": [
      "['White-winged redstart', 'Rufous-necked snowfinch', 'Fox spp.', 'Black-winged snowfinch', 'Altai weasel', \"White's thrush\", 'Bat spp.', 'Eurasian eagle owl', 'White-lipped deer', 'Unidentified', 'Domestic camel', 'Ground tit', 'Small rodents', 'Tibetan brown bear', 'Himalayan griffon', 'Japanese tit', \"Blanford's snowfinch\", 'Blue sheep', 'Black-rumped magpie', 'Domestic horse', 'Sambar deer', 'Useless data', 'Pika spp.', 'White-rumped snowfinch', 'Stone marten', 'Common leopard cat', 'White-capped water redstart', 'Bird spp.', 'Blank', 'Chough', 'Common leopard', 'Red-eared pika']\n"
     ]
    }
   ],
   "source": [
    "# # find unincluded tag in COL vernacular name\n",
    "# tag_unincluded_in_col = []\n",
    "# for tag in taglist:\n",
    "#     try:\n",
    "#         df_col.filter(pl.col(\"colVernacularNameEN\").list.contains(tag.lower())).get_column(\"scientificName\")[0]\n",
    "#     except IndexError:\n",
    "#         tag_unincluded_in_col.append(tag)\n",
    "# print(tag_unincluded_in_col)\n",
    "\n",
    "# # find unincluded tag in GBIF vernacular name\n",
    "# tag_unincluded_in_gbif = []\n",
    "# for tag in taglist:\n",
    "#     try:\n",
    "#         df_gbif.filter(pl.col(\"gbifVernacularNameEN\").list.contains(tag.lower())).get_column(\"scientificName\")[0]\n",
    "#     except IndexError:\n",
    "#         tag_unincluded_in_gbif.append(tag)\n",
    "# print(tag_unincluded_in_gbif)"
   ]
  },
  {
   "cell_type": "code",
   "execution_count": 6,
   "id": "9d2b5aaa-929d-4773-8654-c3af332fae26",
   "metadata": {},
   "outputs": [],
   "source": [
    "# Check tag in GBIF backbone and output for edit\n",
    "tag_list = []\n",
    "latin_name_list = []\n",
    "for tag in taglist:\n",
    "    tag_list.append(tag)\n",
    "    try:\n",
    "        latin_name_list.append(df_gbif.filter(pl.col(\"gbifVernacularNameEN\").list.contains(tag.lower())).get_column(\"scientificName\").to_list())\n",
    "    except IndexError:\n",
    "        latin_name_list.append([])\n",
    "    "
   ]
  },
  {
   "cell_type": "code",
   "execution_count": 7,
   "id": "9e99ee3c-4abd-4989-bd20-516175d61137",
   "metadata": {},
   "outputs": [],
   "source": [
    "# COL patch\n",
    "latin_name_patched = []\n",
    "for (i, names) in enumerate(latin_name_list):\n",
    "    if len(names) > 1:\n",
    "        # print(names)\n",
    "        names_patched = []\n",
    "        for name in names:\n",
    "            if df_col.filter(pl.col(\"scientificName\").eq(name)).is_empty():\n",
    "                pass\n",
    "            else:\n",
    "                names_patched.append(name)\n",
    "        latin_name_patched.append(names_patched)\n",
    "    else:\n",
    "        latin_name_patched.append(latin_name_list[i])"
   ]
  },
  {
   "cell_type": "code",
   "execution_count": 8,
   "id": "93cf019d-ec01-42a1-8909-9f3e7854b45a",
   "metadata": {},
   "outputs": [],
   "source": [
    "# output for edit\n",
    "import csv\n",
    "with open('taglist_to_be_edit.csv', 'w') as f:\n",
    "    writer = csv.writer(f)\n",
    "    writer.writerows(zip(tag_list, ['|'.join(names) for names in latin_name_patched]))"
   ]
  },
  {
   "cell_type": "code",
   "execution_count": 97,
   "id": "16703bf5-880c-4040-86c8-d3278a1ab4a7",
   "metadata": {},
   "outputs": [],
   "source": [
    "# Manual patch"
   ]
  },
  {
   "cell_type": "code",
   "execution_count": 98,
   "id": "cb8b7271-6b29-48fe-be42-df0cb7db1e8c",
   "metadata": {},
   "outputs": [
    {
     "data": {
      "text/html": [
       "<div><style>\n",
       ".dataframe > thead > tr,\n",
       ".dataframe > tbody > tr {\n",
       "  text-align: right;\n",
       "  white-space: pre-wrap;\n",
       "}\n",
       "</style>\n",
       "<small>shape: (1, 6)</small><table border=\"1\" class=\"dataframe\"><thead><tr><th>taxonID</th><th>parentID</th><th>col:rank</th><th>scientificName</th><th>status</th><th>colVernacularNameEN</th></tr><tr><td>str</td><td>str</td><td>str</td><td>str</td><td>str</td><td>list[str]</td></tr></thead><tbody><tr><td>&quot;TF6L&quot;</td><td>&quot;62M2T&quot;</td><td>&quot;species&quot;</td><td>&quot;Chaimarrornis leucocephalus&quot;</td><td>&quot;accepted&quot;</td><td>[&quot;white-capped redstart&quot;]</td></tr></tbody></table></div>"
      ],
      "text/plain": [
       "shape: (1, 6)\n",
       "┌─────────┬──────────┬──────────┬────────────────┬──────────┬───────────────────────────┐\n",
       "│ taxonID ┆ parentID ┆ col:rank ┆ scientificName ┆ status   ┆ colVernacularNameEN       │\n",
       "│ ---     ┆ ---      ┆ ---      ┆ ---            ┆ ---      ┆ ---                       │\n",
       "│ str     ┆ str      ┆ str      ┆ str            ┆ str      ┆ list[str]                 │\n",
       "╞═════════╪══════════╪══════════╪════════════════╪══════════╪═══════════════════════════╡\n",
       "│ TF6L    ┆ 62M2T    ┆ species  ┆ Chaimarrornis  ┆ accepted ┆ [\"white-capped redstart\"] │\n",
       "│         ┆          ┆          ┆ leucocephalus  ┆          ┆                           │\n",
       "└─────────┴──────────┴──────────┴────────────────┴──────────┴───────────────────────────┘"
      ]
     },
     "execution_count": 98,
     "metadata": {},
     "output_type": "execute_result"
    }
   ],
   "source": [
    "df_col.filter(pl.col(\"scientificName\").eq(\"Chaimarrornis leucocephalus\"))"
   ]
  },
  {
   "cell_type": "code",
   "execution_count": 99,
   "id": "536ecde4-d890-4efc-ae01-bc3f4da7a7e0",
   "metadata": {},
   "outputs": [
    {
     "data": {
      "text/html": [
       "<div><style>\n",
       ".dataframe > thead > tr,\n",
       ".dataframe > tbody > tr {\n",
       "  text-align: right;\n",
       "  white-space: pre-wrap;\n",
       "}\n",
       "</style>\n",
       "<small>shape: (1, 6)</small><table border=\"1\" class=\"dataframe\"><thead><tr><th>taxonID</th><th>parentID</th><th>col:rank</th><th>scientificName</th><th>status</th><th>colVernacularNameEN</th></tr><tr><td>str</td><td>str</td><td>str</td><td>str</td><td>str</td><td>list[str]</td></tr></thead><tbody><tr><td>&quot;4CGXR&quot;</td><td>&quot;6DBT&quot;</td><td>&quot;species&quot;</td><td>&quot;Panthera pardus&quot;</td><td>&quot;accepted&quot;</td><td>[&quot;leopard&quot;]</td></tr></tbody></table></div>"
      ],
      "text/plain": [
       "shape: (1, 6)\n",
       "┌─────────┬──────────┬──────────┬─────────────────┬──────────┬─────────────────────┐\n",
       "│ taxonID ┆ parentID ┆ col:rank ┆ scientificName  ┆ status   ┆ colVernacularNameEN │\n",
       "│ ---     ┆ ---      ┆ ---      ┆ ---             ┆ ---      ┆ ---                 │\n",
       "│ str     ┆ str      ┆ str      ┆ str             ┆ str      ┆ list[str]           │\n",
       "╞═════════╪══════════╪══════════╪═════════════════╪══════════╪═════════════════════╡\n",
       "│ 4CGXR   ┆ 6DBT     ┆ species  ┆ Panthera pardus ┆ accepted ┆ [\"leopard\"]         │\n",
       "└─────────┴──────────┴──────────┴─────────────────┴──────────┴─────────────────────┘"
      ]
     },
     "execution_count": 99,
     "metadata": {},
     "output_type": "execute_result"
    }
   ],
   "source": [
    "df_col.filter(pl.col(\"scientificName\").eq(\"Panthera pardus\"))"
   ]
  },
  {
   "cell_type": "code",
   "execution_count": 108,
   "id": "380639f8-a19c-4d2e-9d1c-5ad45513d65f",
   "metadata": {},
   "outputs": [
    {
     "data": {
      "text/html": [
       "<div><style>\n",
       ".dataframe > thead > tr,\n",
       ".dataframe > tbody > tr {\n",
       "  text-align: right;\n",
       "  white-space: pre-wrap;\n",
       "}\n",
       "</style>\n",
       "<small>shape: (2, 6)</small><table border=\"1\" class=\"dataframe\"><thead><tr><th>taxonID</th><th>parentID</th><th>col:rank</th><th>scientificName</th><th>status</th><th>colVernacularNameEN</th></tr><tr><td>str</td><td>str</td><td>str</td><td>str</td><td>str</td><td>list[str]</td></tr></thead><tbody><tr><td>&quot;Q9XF&quot;</td><td>&quot;Q9XD&quot;</td><td>&quot;species&quot;</td><td>&quot;Camelus ferus&quot;</td><td>&quot;ambiguous synonym&quot;</td><td>null</td></tr><tr><td>&quot;5WWKW&quot;</td><td>&quot;7JFKC&quot;</td><td>&quot;species&quot;</td><td>&quot;Camelus ferus&quot;</td><td>&quot;ambiguous synonym&quot;</td><td>null</td></tr></tbody></table></div>"
      ],
      "text/plain": [
       "shape: (2, 6)\n",
       "┌─────────┬──────────┬──────────┬────────────────┬───────────────────┬─────────────────────┐\n",
       "│ taxonID ┆ parentID ┆ col:rank ┆ scientificName ┆ status            ┆ colVernacularNameEN │\n",
       "│ ---     ┆ ---      ┆ ---      ┆ ---            ┆ ---               ┆ ---                 │\n",
       "│ str     ┆ str      ┆ str      ┆ str            ┆ str               ┆ list[str]           │\n",
       "╞═════════╪══════════╪══════════╪════════════════╪═══════════════════╪═════════════════════╡\n",
       "│ Q9XF    ┆ Q9XD     ┆ species  ┆ Camelus ferus  ┆ ambiguous synonym ┆ null                │\n",
       "│ 5WWKW   ┆ 7JFKC    ┆ species  ┆ Camelus ferus  ┆ ambiguous synonym ┆ null                │\n",
       "└─────────┴──────────┴──────────┴────────────────┴───────────────────┴─────────────────────┘"
      ]
     },
     "execution_count": 108,
     "metadata": {},
     "output_type": "execute_result"
    }
   ],
   "source": [
    "df_col.filter(pl.col(\"scientificName\").eq(\"Camelus ferus\"))"
   ]
  },
  {
   "cell_type": "code",
   "execution_count": 111,
   "id": "2523c3e6-23e2-4b85-9589-4a48030c9c23",
   "metadata": {},
   "outputs": [
    {
     "data": {
      "text/html": [
       "<div><style>\n",
       ".dataframe > thead > tr,\n",
       ".dataframe > tbody > tr {\n",
       "  text-align: right;\n",
       "  white-space: pre-wrap;\n",
       "}\n",
       "</style>\n",
       "<small>shape: (1, 6)</small><table border=\"1\" class=\"dataframe\"><thead><tr><th>taxonID</th><th>parentID</th><th>col:rank</th><th>scientificName</th><th>status</th><th>colVernacularNameEN</th></tr><tr><td>str</td><td>str</td><td>str</td><td>str</td><td>str</td><td>list[str]</td></tr></thead><tbody><tr><td>&quot;4N9HG&quot;</td><td>&quot;6Y7B&quot;</td><td>&quot;species&quot;</td><td>&quot;Przewalskium albirostre&quot;</td><td>&quot;accepted&quot;</td><td>null</td></tr></tbody></table></div>"
      ],
      "text/plain": [
       "shape: (1, 6)\n",
       "┌─────────┬──────────┬──────────┬─────────────────────────┬──────────┬─────────────────────┐\n",
       "│ taxonID ┆ parentID ┆ col:rank ┆ scientificName          ┆ status   ┆ colVernacularNameEN │\n",
       "│ ---     ┆ ---      ┆ ---      ┆ ---                     ┆ ---      ┆ ---                 │\n",
       "│ str     ┆ str      ┆ str      ┆ str                     ┆ str      ┆ list[str]           │\n",
       "╞═════════╪══════════╪══════════╪═════════════════════════╪══════════╪═════════════════════╡\n",
       "│ 4N9HG   ┆ 6Y7B     ┆ species  ┆ Przewalskium albirostre ┆ accepted ┆ null                │\n",
       "└─────────┴──────────┴──────────┴─────────────────────────┴──────────┴─────────────────────┘"
      ]
     },
     "execution_count": 111,
     "metadata": {},
     "output_type": "execute_result"
    }
   ],
   "source": [
    "df_col.filter(pl.col(\"taxonID\").eq(\"4N9HG\"))"
   ]
  },
  {
   "cell_type": "code",
   "execution_count": 113,
   "id": "0de0c391-84f7-4e99-8f94-eae9234cf7cb",
   "metadata": {},
   "outputs": [
    {
     "data": {
      "text/html": [
       "<div><style>\n",
       ".dataframe > thead > tr,\n",
       ".dataframe > tbody > tr {\n",
       "  text-align: right;\n",
       "  white-space: pre-wrap;\n",
       "}\n",
       "</style>\n",
       "<small>shape: (1, 6)</small><table border=\"1\" class=\"dataframe\"><thead><tr><th>taxonID</th><th>parentID</th><th>col:rank</th><th>scientificName</th><th>status</th><th>colVernacularNameEN</th></tr><tr><td>str</td><td>str</td><td>str</td><td>str</td><td>str</td><td>list[str]</td></tr></thead><tbody><tr><td>&quot;T569&quot;</td><td>&quot;4N9HG&quot;</td><td>&quot;species&quot;</td><td>&quot;Cervus albirostris&quot;</td><td>&quot;synonym&quot;</td><td>null</td></tr></tbody></table></div>"
      ],
      "text/plain": [
       "shape: (1, 6)\n",
       "┌─────────┬──────────┬──────────┬────────────────────┬─────────┬─────────────────────┐\n",
       "│ taxonID ┆ parentID ┆ col:rank ┆ scientificName     ┆ status  ┆ colVernacularNameEN │\n",
       "│ ---     ┆ ---      ┆ ---      ┆ ---                ┆ ---     ┆ ---                 │\n",
       "│ str     ┆ str      ┆ str      ┆ str                ┆ str     ┆ list[str]           │\n",
       "╞═════════╪══════════╪══════════╪════════════════════╪═════════╪═════════════════════╡\n",
       "│ T569    ┆ 4N9HG    ┆ species  ┆ Cervus albirostris ┆ synonym ┆ null                │\n",
       "└─────────┴──────────┴──────────┴────────────────────┴─────────┴─────────────────────┘"
      ]
     },
     "execution_count": 113,
     "metadata": {},
     "output_type": "execute_result"
    }
   ],
   "source": [
    "df_col.filter(pl.col(\"scientificName\").eq(\"Cervus albirostris\"))"
   ]
  },
  {
   "cell_type": "code",
   "execution_count": 114,
   "id": "d13f2f65-3cd3-4ffc-8f90-23ca976664b7",
   "metadata": {},
   "outputs": [
    {
     "data": {
      "text/html": [
       "<div><style>\n",
       ".dataframe > thead > tr,\n",
       ".dataframe > tbody > tr {\n",
       "  text-align: right;\n",
       "  white-space: pre-wrap;\n",
       "}\n",
       "</style>\n",
       "<small>shape: (1, 6)</small><table border=\"1\" class=\"dataframe\"><thead><tr><th>taxonID</th><th>parentID</th><th>col:rank</th><th>scientificName</th><th>status</th><th>colVernacularNameEN</th></tr><tr><td>str</td><td>str</td><td>str</td><td>str</td><td>str</td><td>list[str]</td></tr></thead><tbody><tr><td>&quot;BP6VT&quot;</td><td>&quot;7F2KB&quot;</td><td>&quot;subspecies&quot;</td><td>&quot;Ursus arctos pruinosus&quot;</td><td>&quot;accepted&quot;</td><td>[&quot;brown bear&quot;]</td></tr></tbody></table></div>"
      ],
      "text/plain": [
       "shape: (1, 6)\n",
       "┌─────────┬──────────┬────────────┬────────────────────────┬──────────┬─────────────────────┐\n",
       "│ taxonID ┆ parentID ┆ col:rank   ┆ scientificName         ┆ status   ┆ colVernacularNameEN │\n",
       "│ ---     ┆ ---      ┆ ---        ┆ ---                    ┆ ---      ┆ ---                 │\n",
       "│ str     ┆ str      ┆ str        ┆ str                    ┆ str      ┆ list[str]           │\n",
       "╞═════════╪══════════╪════════════╪════════════════════════╪══════════╪═════════════════════╡\n",
       "│ BP6VT   ┆ 7F2KB    ┆ subspecies ┆ Ursus arctos pruinosus ┆ accepted ┆ [\"brown bear\"]      │\n",
       "└─────────┴──────────┴────────────┴────────────────────────┴──────────┴─────────────────────┘"
      ]
     },
     "execution_count": 114,
     "metadata": {},
     "output_type": "execute_result"
    }
   ],
   "source": [
    "df_col.filter(pl.col(\"scientificName\").eq(\"Ursus arctos pruinosus\"))"
   ]
  },
  {
   "cell_type": "code",
   "execution_count": 9,
   "id": "0f6fd14e-2488-46b5-a61d-55a90500b94f",
   "metadata": {},
   "outputs": [],
   "source": [
    "df_taglist_patched = pl.read_csv(\"./taglist_latin_name_patched.csv\", has_header=False).select([pl.col(\"column_1\").alias(\"tag\"), pl.col(\"column_2\").alias(\"scientificName\")])"
   ]
  },
  {
   "cell_type": "code",
   "execution_count": 74,
   "id": "cc3d81b8-2663-4003-b435-90530f7156ad",
   "metadata": {
    "scrolled": true
   },
   "outputs": [
    {
     "data": {
      "text/html": [
       "<div><style>\n",
       ".dataframe > thead > tr,\n",
       ".dataframe > tbody > tr {\n",
       "  text-align: right;\n",
       "  white-space: pre-wrap;\n",
       "}\n",
       "</style>\n",
       "<small>shape: (112, 2)</small><table border=\"1\" class=\"dataframe\"><thead><tr><th>tag</th><th>scientificName</th></tr><tr><td>str</td><td>str</td></tr></thead><tbody><tr><td>&quot;Domestic cat&quot;</td><td>&quot;Felis catus&quot;</td></tr><tr><td>&quot;Olive-backed pipit&quot;</td><td>&quot;Anthus hodgsoni&quot;</td></tr><tr><td>&quot;Blue-fronted redstart&quot;</td><td>&quot;Phoenicurus frontalis&quot;</td></tr><tr><td>&quot;Chukar partridge&quot;</td><td>&quot;Alectoris chukar&quot;</td></tr><tr><td>&quot;Red-eared pika&quot;</td><td>&quot;Ochotona erythrotis&quot;</td></tr><tr><td>&quot;Eurasian eagle owl&quot;</td><td>&quot;Bubo bubo&quot;</td></tr><tr><td>&quot;Glover&#x27;s pika&quot;</td><td>&quot;Ochotona gloveri&quot;</td></tr><tr><td>&quot;Domestic yak&quot;</td><td>&quot;Bos grunniens&quot;</td></tr><tr><td>&quot;Eurasian hoopoe&quot;</td><td>&quot;Upupa epops&quot;</td></tr><tr><td>&quot;Himalayan buzzard&quot;</td><td>&quot;Buteo burmanicus&quot;</td></tr><tr><td>&quot;Tibetan bunting&quot;</td><td>&quot;Emberiza koslowi&quot;</td></tr><tr><td>&quot;Pink-rumped rosefinch&quot;</td><td>&quot;Carpodacus waltoni&quot;</td></tr><tr><td>&hellip;</td><td>&hellip;</td></tr><tr><td>&quot;Grey-backed shrike&quot;</td><td>&quot;Lanius tephronotus&quot;</td></tr><tr><td>&quot;Golden eagle&quot;</td><td>&quot;Aquila chrysaetos&quot;</td></tr><tr><td>&quot;Godlewski&#x27;s bunting&quot;</td><td>&quot;Emberiza godlewskii&quot;</td></tr><tr><td>&quot;Kessler&#x27;s thrush&quot;</td><td>&quot;Turdus kessleri&quot;</td></tr><tr><td>&quot;Chinese goral&quot;</td><td>&quot;Naemorhedus griseus&quot;</td></tr><tr><td>&quot;Pallas&#x27;s cat&quot;</td><td>&quot;Felis manul&quot;</td></tr><tr><td>&quot;Domestic dog&quot;</td><td>&quot;Canis lupus familiaris&quot;</td></tr><tr><td>&quot;Hill pigeon&quot;</td><td>&quot;Columba rupestris&quot;</td></tr><tr><td>&quot;Northern raven&quot;</td><td>&quot;Corvus corax&quot;</td></tr><tr><td>&quot;Bar-headed goose&quot;</td><td>&quot;Anser indicus&quot;</td></tr><tr><td>&quot;Himalayan marmot&quot;</td><td>&quot;Marmota himalayana&quot;</td></tr><tr><td>&quot;Robin accentor&quot;</td><td>&quot;Prunella rubeculoides&quot;</td></tr></tbody></table></div>"
      ],
      "text/plain": [
       "shape: (112, 2)\n",
       "┌───────────────────────┬───────────────────────┐\n",
       "│ tag                   ┆ scientificName        │\n",
       "│ ---                   ┆ ---                   │\n",
       "│ str                   ┆ str                   │\n",
       "╞═══════════════════════╪═══════════════════════╡\n",
       "│ Domestic cat          ┆ Felis catus           │\n",
       "│ Olive-backed pipit    ┆ Anthus hodgsoni       │\n",
       "│ Blue-fronted redstart ┆ Phoenicurus frontalis │\n",
       "│ Chukar partridge      ┆ Alectoris chukar      │\n",
       "│ Red-eared pika        ┆ Ochotona erythrotis   │\n",
       "│ …                     ┆ …                     │\n",
       "│ Hill pigeon           ┆ Columba rupestris     │\n",
       "│ Northern raven        ┆ Corvus corax          │\n",
       "│ Bar-headed goose      ┆ Anser indicus         │\n",
       "│ Himalayan marmot      ┆ Marmota himalayana    │\n",
       "│ Robin accentor        ┆ Prunella rubeculoides │\n",
       "└───────────────────────┴───────────────────────┘"
      ]
     },
     "execution_count": 74,
     "metadata": {},
     "output_type": "execute_result"
    }
   ],
   "source": [
    "df_taglist_patched"
   ]
  },
  {
   "cell_type": "code",
   "execution_count": 10,
   "id": "0454f30d-4a78-4333-b47c-c77ac75439ef",
   "metadata": {},
   "outputs": [],
   "source": [
    "df_shanshui_raw = pl.read_csv(shanshui_file)\n",
    "# Patch\n",
    "iucn_patch_dict = {\n",
    "    'LR/nt': 'NT',\n",
    "    'LR/LC': 'LC'\n",
    "}\n",
    "rcb_patch_dict = {\n",
    "    'Doubt:NT,VU,EN,CR': None\n",
    "}\n",
    "nationl_patch_dict = {\n",
    "    '?': None,\n",
    "    'Ⅰ': 'I'\n",
    "}\n",
    "\n",
    "df_shanshui = df_shanshui_raw.select([\n",
    "    pl.col(\"SpeciesID\").alias(\"shanshuiTaxonID\"),\n",
    "    pl.col(\"ChineseName\").alias(\"shanshuiVernacularNameCN\"),\n",
    "    pl.col(\"ScientificName\").alias(\"scientificName\"),\n",
    "    pl.col(\"IUCN\").replace(iucn_patch_dict).alias(\"protectLevelIUCN\"),\n",
    "    pl.col(\"RCB\").replace(rcb_patch_dict).alias(\"protectLevelRCB\"),\n",
    "    pl.col(\"NationalKey\").replace(nationl_patch_dict).alias(\"protectLevelNationalKey\")\n",
    "])"
   ]
  },
  {
   "cell_type": "code",
   "execution_count": 11,
   "id": "d4e9a9f9-ffd1-413a-bb1e-5f8494c1f7ae",
   "metadata": {},
   "outputs": [],
   "source": [
    "# Patch scientific name in shanshui data to COL\n",
    "df_shanshui_patch = df_shanshui.join(df_col, on=\"scientificName\", how=\"left\")"
   ]
  },
  {
   "cell_type": "code",
   "execution_count": 15,
   "id": "69ac3413-f025-44bb-a519-ed9e1381c5d6",
   "metadata": {
    "scrolled": true
   },
   "outputs": [],
   "source": [
    "df_shanshui_synonym = df_shanshui_patch.filter(pl.col(\"status\").eq(\"synonym\"))\n",
    "synonym_parent_id = df_shanshui_synonym.get_column(\"parentID\")\n",
    "synonym_scientific_names = []\n",
    "for id in synonym_parent_id:\n",
    "    synonym_scientific_names.append(df_col.filter(pl.col(\"taxonID\").eq(id)).get_column(\"scientificName\")[0])\n",
    "\n",
    "df_shanshui_synonym = df_shanshui_synonym.with_columns([\n",
    "    pl.Series(synonym_scientific_names).alias(\"scientificName\"),\n",
    "    pl.lit(\"accepted\").alias(\"status\")])\n"
   ]
  },
  {
   "cell_type": "code",
   "execution_count": 25,
   "id": "b26b546e-63ec-46ab-8fba-48b2a932ee24",
   "metadata": {
    "scrolled": true
   },
   "outputs": [
    {
     "data": {
      "text/html": [
       "<div><style>\n",
       ".dataframe > thead > tr,\n",
       ".dataframe > tbody > tr {\n",
       "  text-align: right;\n",
       "  white-space: pre-wrap;\n",
       "}\n",
       "</style>\n",
       "<small>shape: (2_976, 6)</small><table border=\"1\" class=\"dataframe\"><thead><tr><th>shanshuiTaxonID</th><th>shanshuiVernacularNameCN</th><th>scientificName</th><th>protectLevelIUCN</th><th>protectLevelRCB</th><th>protectLevelNationalKey</th></tr><tr><td>str</td><td>str</td><td>str</td><td>str</td><td>str</td><td>str</td></tr></thead><tbody><tr><td>&quot;AM0009&quot;</td><td>&quot;台湾小鲵&quot;</td><td>&quot;Hynobius formosanus&quot;</td><td>&quot;EN&quot;</td><td>&quot;EN&quot;</td><td>&quot;II&quot;</td></tr><tr><td>&quot;AM0012&quot;</td><td>&quot;楚南小鲵&quot;</td><td>&quot;Hynobius sonani&quot;</td><td>&quot;EN&quot;</td><td>&quot;EN&quot;</td><td>&quot;II&quot;</td></tr><tr><td>&quot;AM0021&quot;</td><td>&quot;辽宁爪鲵&quot;</td><td>&quot;Onychodactylus zhaoermii&quot;</td><td>null</td><td>&quot;CR&quot;</td><td>&quot;I&quot;</td></tr><tr><td>&quot;AM0013&quot;</td><td>&quot;商城肥鲵&quot;</td><td>&quot;Pachyhynobius shangchengensis&quot;</td><td>&quot;VU&quot;</td><td>&quot;VU&quot;</td><td>null</td></tr><tr><td>&quot;AM0022&quot;</td><td>&quot;吉林爪鲵&quot;</td><td>&quot;Onychodactylus zhangyapingi&quot;</td><td>&quot;DD&quot;</td><td>&quot;VU&quot;</td><td>&quot;II&quot;</td></tr><tr><td>&quot;AM0023&quot;</td><td>&quot;巫山巴鲵&quot;</td><td>&quot;Liua shihi&quot;</td><td>&quot;LC&quot;</td><td>&quot;NT&quot;</td><td>&quot;II&quot;</td></tr><tr><td>&quot;AM0025&quot;</td><td>&quot;新疆北鲵&quot;</td><td>&quot;Ranodon sibiricus&quot;</td><td>&quot;EN&quot;</td><td>&quot;CR&quot;</td><td>&quot;II&quot;</td></tr><tr><td>&quot;AM0028&quot;</td><td>&quot;龙洞山溪鲵&quot;</td><td>&quot;Batrachuperus londongensis&quot;</td><td>&quot;EN&quot;</td><td>&quot;VU&quot;</td><td>&quot;II&quot;</td></tr><tr><td>&quot;AM0002&quot;</td><td>&quot;安吉小鲵&quot;</td><td>&quot;Hynobius amjiensis&quot;</td><td>&quot;CR&quot;</td><td>&quot;CR&quot;</td><td>&quot;I&quot;</td></tr><tr><td>&quot;AM0003&quot;</td><td>&quot;中国小鲵&quot;</td><td>&quot;Hynobius chinensis&quot;</td><td>&quot;DD&quot;</td><td>&quot;EN&quot;</td><td>&quot;I&quot;</td></tr><tr><td>&quot;AM0004&quot;</td><td>&quot;挂榜山小鲵&quot;</td><td>&quot;Hynobius guabangshanensis&quot;</td><td>&quot;DD&quot;</td><td>&quot;CR&quot;</td><td>&quot;I&quot;</td></tr><tr><td>&quot;AM0005&quot;</td><td>&quot;东北小鲵&quot;</td><td>&quot;Hynobius leechii&quot;</td><td>&quot;LC&quot;</td><td>&quot;VU&quot;</td><td>&quot;II&quot;</td></tr><tr><td>&hellip;</td><td>&hellip;</td><td>&hellip;</td><td>&hellip;</td><td>&hellip;</td><td>&hellip;</td></tr><tr><td>&quot;AM0264&quot;</td><td>&quot;台岛臭蛙&quot;</td><td>&quot;Odorrana swinhoana&quot;</td><td>null</td><td>&quot;LC&quot;</td><td>null</td></tr><tr><td>&quot;AM0486&quot;</td><td>&quot;屏边树蛙&quot;</td><td>&quot;Zhangixalus duboisi&quot;</td><td>null</td><td>null</td><td>null</td></tr><tr><td>&quot;AM0042&quot;</td><td>&quot;海南瑶螈&quot;</td><td>&quot;Tylototriton hainanensis&quot;</td><td>null</td><td>&quot;EN&quot;</td><td>&quot;II&quot;</td></tr><tr><td>&quot;AM0040&quot;</td><td>&quot;细痣瑶螈&quot;</td><td>&quot;Tylototriton asperrimus&quot;</td><td>null</td><td>&quot;NT&quot;</td><td>&quot;II&quot;</td></tr><tr><td>&quot;AM0046&quot;</td><td>&quot;大凉螈&quot;</td><td>&quot;Tylototriton taliangensis&quot;</td><td>null</td><td>&quot;VU&quot;</td><td>&quot;II&quot;</td></tr><tr><td>&quot;AM0296&quot;</td><td>&quot;虎纹蛙&quot;</td><td>&quot;Hoplobatrachus rugulosus&quot;</td><td>&quot;LC&quot;</td><td>&quot;EN&quot;</td><td>&quot;II&quot;</td></tr><tr><td>&quot;AV0609&quot;</td><td>&quot;双辫八色鸫&quot;</td><td>&quot;Anthocincla phayrei&quot;</td><td>null</td><td>&quot;VU&quot;</td><td>&quot;II&quot;</td></tr><tr><td>&quot;MA0284&quot;</td><td>&quot;小爪水獭&quot;</td><td>&quot;Amblonyx cinereus cinereus&quot;</td><td>&quot;VU&quot;</td><td>&quot;EN&quot;</td><td>&quot;II&quot;</td></tr><tr><td>&quot;AV1216&quot;</td><td>&quot;西域山雀&quot;</td><td>&quot;Parus major bokharensis&quot;</td><td>null</td><td>&quot;LC&quot;</td><td>null</td></tr><tr><td>&quot;MA0412&quot;</td><td>&quot;长吻真海豚&quot;</td><td>&quot;Delphinus delphis&quot;</td><td>&quot;DD&quot;</td><td>&quot;DD&quot;</td><td>&quot;II&quot;</td></tr><tr><td>&quot;AV0142&quot;</td><td>&quot;渔雕&quot;</td><td>&quot;Icthyophaga humilis&quot;</td><td>&quot;NT&quot;</td><td>&quot;NT&quot;</td><td>&quot;II&quot;</td></tr><tr><td>&quot;RE0018&quot;</td><td>&quot;凹甲陆龟&quot;</td><td>&quot;Manouria impressa&quot;</td><td>&quot;EN&quot;</td><td>&quot;CR&quot;</td><td>&quot;I&quot;</td></tr></tbody></table></div>"
      ],
      "text/plain": [
       "shape: (2_976, 6)\n",
       "┌────────────────┬────────────────┬────────────────┬───────────────┬───────────────┬───────────────┐\n",
       "│ shanshuiTaxonI ┆ shanshuiVernac ┆ scientificName ┆ protectLevelI ┆ protectLevelR ┆ protectLevelN │\n",
       "│ D              ┆ ularNameCN     ┆ ---            ┆ UCN           ┆ CB            ┆ ationalKey    │\n",
       "│ ---            ┆ ---            ┆ str            ┆ ---           ┆ ---           ┆ ---           │\n",
       "│ str            ┆ str            ┆                ┆ str           ┆ str           ┆ str           │\n",
       "╞════════════════╪════════════════╪════════════════╪═══════════════╪═══════════════╪═══════════════╡\n",
       "│ AM0009         ┆ 台湾小鲵       ┆ Hynobius       ┆ EN            ┆ EN            ┆ II            │\n",
       "│                ┆                ┆ formosanus     ┆               ┆               ┆               │\n",
       "│ AM0012         ┆ 楚南小鲵       ┆ Hynobius       ┆ EN            ┆ EN            ┆ II            │\n",
       "│                ┆                ┆ sonani         ┆               ┆               ┆               │\n",
       "│ AM0021         ┆ 辽宁爪鲵       ┆ Onychodactylus ┆ null          ┆ CR            ┆ I             │\n",
       "│                ┆                ┆ zhaoermii      ┆               ┆               ┆               │\n",
       "│ AM0013         ┆ 商城肥鲵       ┆ Pachyhynobius  ┆ VU            ┆ VU            ┆ null          │\n",
       "│                ┆                ┆ shangchengensi ┆               ┆               ┆               │\n",
       "│                ┆                ┆ s              ┆               ┆               ┆               │\n",
       "│ AM0022         ┆ 吉林爪鲵       ┆ Onychodactylus ┆ DD            ┆ VU            ┆ II            │\n",
       "│                ┆                ┆ zhangyapingi   ┆               ┆               ┆               │\n",
       "│ …              ┆ …              ┆ …              ┆ …             ┆ …             ┆ …             │\n",
       "│ MA0284         ┆ 小爪水獭       ┆ Amblonyx       ┆ VU            ┆ EN            ┆ II            │\n",
       "│                ┆                ┆ cinereus       ┆               ┆               ┆               │\n",
       "│                ┆                ┆ cinereus       ┆               ┆               ┆               │\n",
       "│ AV1216         ┆ 西域山雀       ┆ Parus major    ┆ null          ┆ LC            ┆ null          │\n",
       "│                ┆                ┆ bokharensis    ┆               ┆               ┆               │\n",
       "│ MA0412         ┆ 长吻真海豚     ┆ Delphinus      ┆ DD            ┆ DD            ┆ II            │\n",
       "│                ┆                ┆ delphis        ┆               ┆               ┆               │\n",
       "│ AV0142         ┆ 渔雕           ┆ Icthyophaga    ┆ NT            ┆ NT            ┆ II            │\n",
       "│                ┆                ┆ humilis        ┆               ┆               ┆               │\n",
       "│ RE0018         ┆ 凹甲陆龟       ┆ Manouria       ┆ EN            ┆ CR            ┆ I             │\n",
       "│                ┆                ┆ impressa       ┆               ┆               ┆               │\n",
       "└────────────────┴────────────────┴────────────────┴───────────────┴───────────────┴───────────────┘"
      ]
     },
     "execution_count": 25,
     "metadata": {},
     "output_type": "execute_result"
    }
   ],
   "source": [
    "df_shanshui = pl.concat([\n",
    "    df_shanshui_patch.filter(pl.col(\"status\").ne(\"synonym\")),\n",
    "    df_shanshui_synonym]).select([\n",
    "        pl.col(\"shanshuiTaxonID\"),\n",
    "        pl.col(\"shanshuiVernacularNameCN\"),\n",
    "        pl.col(\"scientificName\"),\n",
    "        pl.col(\"protectLevelIUCN\"),\n",
    "        pl.col(\"protectLevelRCB\"),\n",
    "        pl.col(\"protectLevelNationalKey\")\n",
    "    ])\n",
    "df_shanshui"
   ]
  },
  {
   "cell_type": "code",
   "execution_count": 26,
   "id": "a409c57a-6f83-42fa-98dc-2575b5f9a79d",
   "metadata": {},
   "outputs": [
    {
     "data": {
      "text/html": [
       "<div><style>\n",
       ".dataframe > thead > tr,\n",
       ".dataframe > tbody > tr {\n",
       "  text-align: right;\n",
       "  white-space: pre-wrap;\n",
       "}\n",
       "</style>\n",
       "<small>shape: (11, 7)</small><table border=\"1\" class=\"dataframe\"><thead><tr><th>tag</th><th>scientificName</th><th>shanshuiTaxonID</th><th>shanshuiVernacularNameCN</th><th>protectLevelIUCN</th><th>protectLevelRCB</th><th>protectLevelNationalKey</th></tr><tr><td>str</td><td>str</td><td>str</td><td>str</td><td>str</td><td>str</td><td>str</td></tr></thead><tbody><tr><td>&quot;Domestic cat&quot;</td><td>&quot;Felis catus&quot;</td><td>null</td><td>null</td><td>null</td><td>null</td><td>null</td></tr><tr><td>&quot;Blue-fronted redstart&quot;</td><td>&quot;Phoenicurus frontalis&quot;</td><td>null</td><td>null</td><td>null</td><td>null</td><td>null</td></tr><tr><td>&quot;Domestic yak&quot;</td><td>&quot;Bos grunniens&quot;</td><td>null</td><td>null</td><td>null</td><td>null</td><td>null</td></tr><tr><td>&quot;Himalayan buzzard&quot;</td><td>&quot;Buteo burmanicus&quot;</td><td>null</td><td>null</td><td>null</td><td>null</td><td>null</td></tr><tr><td>&quot;Japanese tit&quot;</td><td>&quot;Parus minor&quot;</td><td>null</td><td>null</td><td>null</td><td>null</td><td>null</td></tr><tr><td>&quot;White-throated redstart&quot;</td><td>&quot;Phoenicurus schisticeps&quot;</td><td>null</td><td>null</td><td>null</td><td>null</td><td>null</td></tr><tr><td>&quot;Kiang&quot;</td><td>&quot;Equus kiang&quot;</td><td>null</td><td>null</td><td>null</td><td>null</td><td>null</td></tr><tr><td>&quot;Black-rumped magpie&quot;</td><td>&quot;Pica bottanensis&quot;</td><td>null</td><td>null</td><td>null</td><td>null</td><td>null</td></tr><tr><td>&quot;Tibetan brown bear&quot;</td><td>&quot;Ursus arctos pruinosus&quot;</td><td>null</td><td>null</td><td>null</td><td>null</td><td>null</td></tr><tr><td>&quot;Domestic sheep&quot;</td><td>&quot;Ovis aries&quot;</td><td>null</td><td>null</td><td>null</td><td>null</td><td>null</td></tr><tr><td>&quot;Domestic dog&quot;</td><td>&quot;Canis lupus familiaris&quot;</td><td>null</td><td>null</td><td>null</td><td>null</td><td>null</td></tr></tbody></table></div>"
      ],
      "text/plain": [
       "shape: (11, 7)\n",
       "┌──────────────┬─────────────┬─────────────┬─────────────┬─────────────┬─────────────┬─────────────┐\n",
       "│ tag          ┆ scientificN ┆ shanshuiTax ┆ shanshuiVer ┆ protectLeve ┆ protectLeve ┆ protectLeve │\n",
       "│ ---          ┆ ame         ┆ onID        ┆ nacularName ┆ lIUCN       ┆ lRCB        ┆ lNationalKe │\n",
       "│ str          ┆ ---         ┆ ---         ┆ CN          ┆ ---         ┆ ---         ┆ y           │\n",
       "│              ┆ str         ┆ str         ┆ ---         ┆ str         ┆ str         ┆ ---         │\n",
       "│              ┆             ┆             ┆ str         ┆             ┆             ┆ str         │\n",
       "╞══════════════╪═════════════╪═════════════╪═════════════╪═════════════╪═════════════╪═════════════╡\n",
       "│ Domestic cat ┆ Felis catus ┆ null        ┆ null        ┆ null        ┆ null        ┆ null        │\n",
       "│ Blue-fronted ┆ Phoenicurus ┆ null        ┆ null        ┆ null        ┆ null        ┆ null        │\n",
       "│ redstart     ┆ frontalis   ┆             ┆             ┆             ┆             ┆             │\n",
       "│ Domestic yak ┆ Bos         ┆ null        ┆ null        ┆ null        ┆ null        ┆ null        │\n",
       "│              ┆ grunniens   ┆             ┆             ┆             ┆             ┆             │\n",
       "│ Himalayan    ┆ Buteo       ┆ null        ┆ null        ┆ null        ┆ null        ┆ null        │\n",
       "│ buzzard      ┆ burmanicus  ┆             ┆             ┆             ┆             ┆             │\n",
       "│ Japanese tit ┆ Parus minor ┆ null        ┆ null        ┆ null        ┆ null        ┆ null        │\n",
       "│ White-throat ┆ Phoenicurus ┆ null        ┆ null        ┆ null        ┆ null        ┆ null        │\n",
       "│ ed redstart  ┆ schisticeps ┆             ┆             ┆             ┆             ┆             │\n",
       "│ Kiang        ┆ Equus kiang ┆ null        ┆ null        ┆ null        ┆ null        ┆ null        │\n",
       "│ Black-rumped ┆ Pica        ┆ null        ┆ null        ┆ null        ┆ null        ┆ null        │\n",
       "│ magpie       ┆ bottanensis ┆             ┆             ┆             ┆             ┆             │\n",
       "│ Tibetan      ┆ Ursus       ┆ null        ┆ null        ┆ null        ┆ null        ┆ null        │\n",
       "│ brown bear   ┆ arctos      ┆             ┆             ┆             ┆             ┆             │\n",
       "│              ┆ pruinosus   ┆             ┆             ┆             ┆             ┆             │\n",
       "│ Domestic     ┆ Ovis aries  ┆ null        ┆ null        ┆ null        ┆ null        ┆ null        │\n",
       "│ sheep        ┆             ┆             ┆             ┆             ┆             ┆             │\n",
       "│ Domestic dog ┆ Canis lupus ┆ null        ┆ null        ┆ null        ┆ null        ┆ null        │\n",
       "│              ┆ familiaris  ┆             ┆             ┆             ┆             ┆             │\n",
       "└──────────────┴─────────────┴─────────────┴─────────────┴─────────────┴─────────────┴─────────────┘"
      ]
     },
     "execution_count": 26,
     "metadata": {},
     "output_type": "execute_result"
    }
   ],
   "source": [
    "df_taglist_patched.join(df_shanshui, on=\"scientificName\", how=\"left\").filter(pl.col(\"shanshuiVernacularNameCN\").is_null())"
   ]
  }
 ],
 "metadata": {
  "kernelspec": {
   "display_name": "Python 3 (ipykernel)",
   "language": "python",
   "name": "python3"
  },
  "language_info": {
   "codemirror_mode": {
    "name": "ipython",
    "version": 3
   },
   "file_extension": ".py",
   "mimetype": "text/x-python",
   "name": "python",
   "nbconvert_exporter": "python",
   "pygments_lexer": "ipython3",
   "version": "3.11.7"
  }
 },
 "nbformat": 4,
 "nbformat_minor": 5
}
