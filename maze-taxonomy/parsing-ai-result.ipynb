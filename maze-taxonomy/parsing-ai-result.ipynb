{
 "cells": [
  {
   "cell_type": "code",
   "execution_count": 179,
   "id": "028cd118-1627-4716-81de-fe5d369e7f7d",
   "metadata": {},
   "outputs": [
    {
     "data": {
      "text/html": [
       "<div><style>\n",
       ".dataframe > thead > tr,\n",
       ".dataframe > tbody > tr {\n",
       "  text-align: right;\n",
       "  white-space: pre-wrap;\n",
       "}\n",
       "</style>\n",
       "<small>shape: (33_097, 6)</small><table border=\"1\" class=\"dataframe\"><thead><tr><th>file_path</th><th>label</th><th>detail</th><th>file_id</th><th>extension</th><th>seq_label</th></tr><tr><td>str</td><td>str</td><td>str</td><td>i64</td><td>str</td><td>str</td></tr></thead><tbody><tr><td>&quot;F:\\云塔2024.04.28\\4040\\CNNR000X-…</td><td>&quot;Person&quot;</td><td>&quot;[{&quot;frame&quot;: 0, &quot;objects&quot;: [{&quot;x&quot;…</td><td>1</td><td>&quot;jpg&quot;</td><td>&quot;Person&quot;</td></tr><tr><td>&quot;F:\\云塔2024.04.28\\4040\\CNNR000X-…</td><td>&quot;Person&quot;</td><td>&quot;[{&quot;frame&quot;: 0, &quot;objects&quot;: [{&quot;x&quot;…</td><td>2</td><td>&quot;jpg&quot;</td><td>&quot;Person&quot;</td></tr><tr><td>&quot;F:\\云塔2024.04.28\\4040\\CNNR000X-…</td><td>&quot;Person&quot;</td><td>&quot;[{&quot;frame&quot;: 0, &quot;objects&quot;: [{&quot;x&quot;…</td><td>3</td><td>&quot;jpg&quot;</td><td>&quot;Person&quot;</td></tr><tr><td>&quot;F:\\云塔2024.04.28\\4040\\CNNR000X-…</td><td>&quot;Person&quot;</td><td>&quot;[{&quot;frame&quot;: 0, &quot;objects&quot;: [{&quot;x&quot;…</td><td>4</td><td>&quot;jpg&quot;</td><td>&quot;Person&quot;</td></tr><tr><td>&quot;F:\\云塔2024.04.28\\4040\\CNNR000X-…</td><td>&quot;Person&quot;</td><td>&quot;[{&quot;frame&quot;: 0, &quot;objects&quot;: [{&quot;x&quot;…</td><td>5</td><td>&quot;jpg&quot;</td><td>&quot;Person&quot;</td></tr><tr><td>&hellip;</td><td>&hellip;</td><td>&hellip;</td><td>&hellip;</td><td>&hellip;</td><td>&hellip;</td></tr><tr><td>&quot;F:\\云塔2024.04.28\\shanshui01real…</td><td>&quot;Animal&quot;</td><td>&quot;[{&quot;frame&quot;: 0, &quot;objects&quot;: [{&quot;x&quot;…</td><td>33093</td><td>&quot;jpg&quot;</td><td>&quot;Animal&quot;</td></tr><tr><td>&quot;F:\\云塔2024.04.28\\shanshui01real…</td><td>&quot;Animal&quot;</td><td>&quot;[{&quot;frame&quot;: 0, &quot;objects&quot;: [{&quot;x&quot;…</td><td>33094</td><td>&quot;jpg&quot;</td><td>&quot;Animal&quot;</td></tr><tr><td>&quot;F:\\云塔2024.04.28\\shanshui01real…</td><td>&quot;Person&quot;</td><td>&quot;[{&quot;frame&quot;: 0, &quot;objects&quot;: [{&quot;x&quot;…</td><td>33095</td><td>&quot;mp4&quot;</td><td>&quot;Person&quot;</td></tr><tr><td>&quot;F:\\云塔2024.04.28\\shanshui01real…</td><td>&quot;Person&quot;</td><td>&quot;[{&quot;frame&quot;: 0, &quot;objects&quot;: [{&quot;x&quot;…</td><td>33096</td><td>&quot;jpg&quot;</td><td>&quot;Person&quot;</td></tr><tr><td>&quot;F:\\云塔2024.04.28\\shanshui01real…</td><td>&quot;Person&quot;</td><td>&quot;[{&quot;frame&quot;: 0, &quot;objects&quot;: [{&quot;x&quot;…</td><td>33097</td><td>&quot;jpg&quot;</td><td>&quot;Person&quot;</td></tr></tbody></table></div>"
      ],
      "text/plain": [
       "shape: (33_097, 6)\n",
       "┌───────────────────────────┬────────┬───────────────────────────┬─────────┬───────────┬───────────┐\n",
       "│ file_path                 ┆ label  ┆ detail                    ┆ file_id ┆ extension ┆ seq_label │\n",
       "│ ---                       ┆ ---    ┆ ---                       ┆ ---     ┆ ---       ┆ ---       │\n",
       "│ str                       ┆ str    ┆ str                       ┆ i64     ┆ str       ┆ str       │\n",
       "╞═══════════════════════════╪════════╪═══════════════════════════╪═════════╪═══════════╪═══════════╡\n",
       "│ F:\\云塔2024.04.28\\4040\\CN ┆ Person ┆ [{\"frame\": 0, \"objects\":  ┆ 1       ┆ jpg       ┆ Person    │\n",
       "│ NR000X-…                  ┆        ┆ [{\"x\"…                    ┆         ┆           ┆           │\n",
       "│ F:\\云塔2024.04.28\\4040\\CN ┆ Person ┆ [{\"frame\": 0, \"objects\":  ┆ 2       ┆ jpg       ┆ Person    │\n",
       "│ NR000X-…                  ┆        ┆ [{\"x\"…                    ┆         ┆           ┆           │\n",
       "│ F:\\云塔2024.04.28\\4040\\CN ┆ Person ┆ [{\"frame\": 0, \"objects\":  ┆ 3       ┆ jpg       ┆ Person    │\n",
       "│ NR000X-…                  ┆        ┆ [{\"x\"…                    ┆         ┆           ┆           │\n",
       "│ F:\\云塔2024.04.28\\4040\\CN ┆ Person ┆ [{\"frame\": 0, \"objects\":  ┆ 4       ┆ jpg       ┆ Person    │\n",
       "│ NR000X-…                  ┆        ┆ [{\"x\"…                    ┆         ┆           ┆           │\n",
       "│ F:\\云塔2024.04.28\\4040\\CN ┆ Person ┆ [{\"frame\": 0, \"objects\":  ┆ 5       ┆ jpg       ┆ Person    │\n",
       "│ NR000X-…                  ┆        ┆ [{\"x\"…                    ┆         ┆           ┆           │\n",
       "│ …                         ┆ …      ┆ …                         ┆ …       ┆ …         ┆ …         │\n",
       "│ F:\\云塔2024.04.28\\shanshu ┆ Animal ┆ [{\"frame\": 0, \"objects\":  ┆ 33093   ┆ jpg       ┆ Animal    │\n",
       "│ i01real…                  ┆        ┆ [{\"x\"…                    ┆         ┆           ┆           │\n",
       "│ F:\\云塔2024.04.28\\shanshu ┆ Animal ┆ [{\"frame\": 0, \"objects\":  ┆ 33094   ┆ jpg       ┆ Animal    │\n",
       "│ i01real…                  ┆        ┆ [{\"x\"…                    ┆         ┆           ┆           │\n",
       "│ F:\\云塔2024.04.28\\shanshu ┆ Person ┆ [{\"frame\": 0, \"objects\":  ┆ 33095   ┆ mp4       ┆ Person    │\n",
       "│ i01real…                  ┆        ┆ [{\"x\"…                    ┆         ┆           ┆           │\n",
       "│ F:\\云塔2024.04.28\\shanshu ┆ Person ┆ [{\"frame\": 0, \"objects\":  ┆ 33096   ┆ jpg       ┆ Person    │\n",
       "│ i01real…                  ┆        ┆ [{\"x\"…                    ┆         ┆           ┆           │\n",
       "│ F:\\云塔2024.04.28\\shanshu ┆ Person ┆ [{\"frame\": 0, \"objects\":  ┆ 33097   ┆ jpg       ┆ Person    │\n",
       "│ i01real…                  ┆        ┆ [{\"x\"…                    ┆         ┆           ┆           │\n",
       "└───────────────────────────┴────────┴───────────────────────────┴─────────┴───────────┴───────────┘"
      ]
     },
     "execution_count": 179,
     "metadata": {},
     "output_type": "execute_result"
    }
   ],
   "source": [
    "# Parsing AI result file from megadetector\n",
    "import polars as pl\n",
    "\n",
    "result_path = \"/run/media/wsyxbcl/97290686-f4c4-499c-bb42-4dfe42b96533/Yunta_trapper/YT202312-202404/result.csv\"\n",
    "result_organized_path = \"/run/media/wsyxbcl/97290686-f4c4-499c-bb42-4dfe42b96533/Yunta_trapper/YT202312-202404/result_organized.csv\"\n",
    "df_result = pl.read_csv(result_path).select([\"file_path\", \"label\", \"detail\", \"file_id\"])\n",
    "df_result = df_result.with_columns(pl.col(\"file_path\").str.split(\".\").list.last().str.to_lowercase().alias(\"extension\"))\n",
    "df_result_patch = pl.read_csv(result_organized_path).select([\"file_id\", \"seq_label\"])\n",
    "df_result = df_result.join(df_result_patch, on=\"file_id\", how=\"left\")\n",
    "df_result"
   ]
  },
  {
   "cell_type": "code",
   "execution_count": 180,
   "id": "9e2734c4-a7c4-48d1-9d4e-caac78c874cd",
   "metadata": {},
   "outputs": [
    {
     "data": {
      "text/html": [
       "<div><style>\n",
       ".dataframe > thead > tr,\n",
       ".dataframe > tbody > tr {\n",
       "  text-align: right;\n",
       "  white-space: pre-wrap;\n",
       "}\n",
       "</style>\n",
       "<small>shape: (4,)</small><table border=\"1\" class=\"dataframe\"><thead><tr><th>extension</th></tr><tr><td>str</td></tr></thead><tbody><tr><td>&quot;avi&quot;</td></tr><tr><td>&quot;mp4&quot;</td></tr><tr><td>&quot;jpg&quot;</td></tr><tr><td>&quot;mov&quot;</td></tr></tbody></table></div>"
      ],
      "text/plain": [
       "shape: (4,)\n",
       "Series: 'extension' [str]\n",
       "[\n",
       "\t\"avi\"\n",
       "\t\"mp4\"\n",
       "\t\"jpg\"\n",
       "\t\"mov\"\n",
       "]"
      ]
     },
     "execution_count": 180,
     "metadata": {},
     "output_type": "execute_result"
    }
   ],
   "source": [
    "# Confirm image extension\n",
    "df_result[\"extension\"].unique()"
   ]
  },
  {
   "cell_type": "code",
   "execution_count": 181,
   "id": "0e6a7883-6fcb-4e2c-b710-444eeeae778b",
   "metadata": {},
   "outputs": [],
   "source": [
    "df_result_image = df_result.filter(pl.col(\"extension\").eq(\"jpg\"))"
   ]
  },
  {
   "cell_type": "code",
   "execution_count": 182,
   "id": "76ce895a-0412-43bf-88f8-183363f9b8b6",
   "metadata": {},
   "outputs": [
    {
     "name": "stdout",
     "output_type": "stream",
     "text": [
      "F:\\云塔2024.04.28\\4040\\CNNR000X-404000-20231223-0001.JPG\n"
     ]
    }
   ],
   "source": [
    "# Patch the path\n",
    "LOCAL_PATH = \"/run/media/wsyxbcl/97290686-f4c4-499c-bb42-4dfe42b96533/Yunta_trapper/YT_align/YT202312-202404/\"\n",
    "COLLECTION_NAME = \"YT202312-202404\"\n",
    "print(df_result_image[\"file_path\"][0])\n",
    "# df_result_image.with_columns(pl.col(\"file_path\")\n",
    "#                        .str.strip_prefix(\"F:\\\\云塔2024.04.28\\\\\")\n",
    "#                        # .str.replace_all(r\"\\\\\", \"/\")\n",
    "#                        .str.split(\"\\\\\")\n",
    "#                        )"
   ]
  },
  {
   "cell_type": "code",
   "execution_count": 183,
   "id": "fd7be043-e7b7-4ed4-b3dd-52b0956c2a68",
   "metadata": {},
   "outputs": [
    {
     "data": {
      "text/html": [
       "<div><style>\n",
       ".dataframe > thead > tr,\n",
       ".dataframe > tbody > tr {\n",
       "  text-align: right;\n",
       "  white-space: pre-wrap;\n",
       "}\n",
       "</style>\n",
       "<small>shape: (21_914, 10)</small><table border=\"1\" class=\"dataframe\"><thead><tr><th>label</th><th>file_id</th><th>extension</th><th>seq_label</th><th>filename</th><th>bbox_x</th><th>bbox_y</th><th>bbox_width</th><th>bbox_height</th><th>path</th></tr><tr><td>str</td><td>i64</td><td>str</td><td>str</td><td>str</td><td>f64</td><td>f64</td><td>f64</td><td>f64</td><td>str</td></tr></thead><tbody><tr><td>&quot;Person&quot;</td><td>1</td><td>&quot;jpg&quot;</td><td>&quot;Person&quot;</td><td>&quot;4040_YT202312-202404-Person-CN…</td><td>1582.199951</td><td>524.700012</td><td>1548.0</td><td>2002.5</td><td>&quot;/run/media/wsyxbcl/97290686-f4…</td></tr><tr><td>&quot;Person&quot;</td><td>2</td><td>&quot;jpg&quot;</td><td>&quot;Person&quot;</td><td>&quot;4040_YT202312-202404-Person-CN…</td><td>0.0</td><td>2.7</td><td>2952.0</td><td>2510.100098</td><td>&quot;/run/media/wsyxbcl/97290686-f4…</td></tr><tr><td>&quot;Person&quot;</td><td>3</td><td>&quot;jpg&quot;</td><td>&quot;Person&quot;</td><td>&quot;4040_YT202312-202404-Person-CN…</td><td>0.0</td><td>4.5</td><td>2944.799805</td><td>2508.300049</td><td>&quot;/run/media/wsyxbcl/97290686-f4…</td></tr><tr><td>&quot;Person&quot;</td><td>4</td><td>&quot;jpg&quot;</td><td>&quot;Person&quot;</td><td>&quot;4040_YT202312-202404-Person-CN…</td><td>0.0</td><td>2.7</td><td>2899.799805</td><td>2513.699951</td><td>&quot;/run/media/wsyxbcl/97290686-f4…</td></tr><tr><td>&quot;Person&quot;</td><td>5</td><td>&quot;jpg&quot;</td><td>&quot;Person&quot;</td><td>&quot;4040_YT202312-202404-Person-CN…</td><td>0.9</td><td>2.7</td><td>2897.100098</td><td>2513.699951</td><td>&quot;/run/media/wsyxbcl/97290686-f4…</td></tr><tr><td>&hellip;</td><td>&hellip;</td><td>&hellip;</td><td>&hellip;</td><td>&hellip;</td><td>&hellip;</td><td>&hellip;</td><td>&hellip;</td><td>&hellip;</td><td>&hellip;</td></tr><tr><td>&quot;Animal&quot;</td><td>33091</td><td>&quot;jpg&quot;</td><td>&quot;Animal&quot;</td><td>&quot;shanshui01realtime_YT202312-20…</td><td>0.0</td><td>1995.0</td><td>2386.25</td><td>2770.0</td><td>&quot;/run/media/wsyxbcl/97290686-f4…</td></tr><tr><td>&quot;Animal&quot;</td><td>33093</td><td>&quot;jpg&quot;</td><td>&quot;Animal&quot;</td><td>&quot;shanshui01realtime_YT202312-20…</td><td>3270.0</td><td>2355.0</td><td>1220.0</td><td>1120.0</td><td>&quot;/run/media/wsyxbcl/97290686-f4…</td></tr><tr><td>&quot;Animal&quot;</td><td>33094</td><td>&quot;jpg&quot;</td><td>&quot;Animal&quot;</td><td>&quot;shanshui01realtime_YT202312-20…</td><td>4032.5</td><td>2240.0</td><td>490.0</td><td>1020.0</td><td>&quot;/run/media/wsyxbcl/97290686-f4…</td></tr><tr><td>&quot;Person&quot;</td><td>33096</td><td>&quot;jpg&quot;</td><td>&quot;Person&quot;</td><td>&quot;shanshui01realtime_YT202312-20…</td><td>2525.0</td><td>0.0</td><td>1600.0</td><td>3047.5</td><td>&quot;/run/media/wsyxbcl/97290686-f4…</td></tr><tr><td>&quot;Person&quot;</td><td>33097</td><td>&quot;jpg&quot;</td><td>&quot;Person&quot;</td><td>&quot;shanshui01realtime_YT202312-20…</td><td>1643.75</td><td>5.0</td><td>2361.25</td><td>3190.0</td><td>&quot;/run/media/wsyxbcl/97290686-f4…</td></tr></tbody></table></div>"
      ],
      "text/plain": [
       "shape: (21_914, 10)\n",
       "┌────────┬─────────┬───────────┬───────────┬───┬────────────┬────────────┬────────────┬────────────┐\n",
       "│ label  ┆ file_id ┆ extension ┆ seq_label ┆ … ┆ bbox_y     ┆ bbox_width ┆ bbox_heigh ┆ path       │\n",
       "│ ---    ┆ ---     ┆ ---       ┆ ---       ┆   ┆ ---        ┆ ---        ┆ t          ┆ ---        │\n",
       "│ str    ┆ i64     ┆ str       ┆ str       ┆   ┆ f64        ┆ f64        ┆ ---        ┆ str        │\n",
       "│        ┆         ┆           ┆           ┆   ┆            ┆            ┆ f64        ┆            │\n",
       "╞════════╪═════════╪═══════════╪═══════════╪═══╪════════════╪════════════╪════════════╪════════════╡\n",
       "│ Person ┆ 1       ┆ jpg       ┆ Person    ┆ … ┆ 524.700012 ┆ 1548.0     ┆ 2002.5     ┆ /run/media │\n",
       "│        ┆         ┆           ┆           ┆   ┆            ┆            ┆            ┆ /wsyxbcl/9 │\n",
       "│        ┆         ┆           ┆           ┆   ┆            ┆            ┆            ┆ 7290686-f4 │\n",
       "│        ┆         ┆           ┆           ┆   ┆            ┆            ┆            ┆ …          │\n",
       "│ Person ┆ 2       ┆ jpg       ┆ Person    ┆ … ┆ 2.7        ┆ 2952.0     ┆ 2510.10009 ┆ /run/media │\n",
       "│        ┆         ┆           ┆           ┆   ┆            ┆            ┆ 8          ┆ /wsyxbcl/9 │\n",
       "│        ┆         ┆           ┆           ┆   ┆            ┆            ┆            ┆ 7290686-f4 │\n",
       "│        ┆         ┆           ┆           ┆   ┆            ┆            ┆            ┆ …          │\n",
       "│ Person ┆ 3       ┆ jpg       ┆ Person    ┆ … ┆ 4.5        ┆ 2944.79980 ┆ 2508.30004 ┆ /run/media │\n",
       "│        ┆         ┆           ┆           ┆   ┆            ┆ 5          ┆ 9          ┆ /wsyxbcl/9 │\n",
       "│        ┆         ┆           ┆           ┆   ┆            ┆            ┆            ┆ 7290686-f4 │\n",
       "│        ┆         ┆           ┆           ┆   ┆            ┆            ┆            ┆ …          │\n",
       "│ Person ┆ 4       ┆ jpg       ┆ Person    ┆ … ┆ 2.7        ┆ 2899.79980 ┆ 2513.69995 ┆ /run/media │\n",
       "│        ┆         ┆           ┆           ┆   ┆            ┆ 5          ┆ 1          ┆ /wsyxbcl/9 │\n",
       "│        ┆         ┆           ┆           ┆   ┆            ┆            ┆            ┆ 7290686-f4 │\n",
       "│        ┆         ┆           ┆           ┆   ┆            ┆            ┆            ┆ …          │\n",
       "│ Person ┆ 5       ┆ jpg       ┆ Person    ┆ … ┆ 2.7        ┆ 2897.10009 ┆ 2513.69995 ┆ /run/media │\n",
       "│        ┆         ┆           ┆           ┆   ┆            ┆ 8          ┆ 1          ┆ /wsyxbcl/9 │\n",
       "│        ┆         ┆           ┆           ┆   ┆            ┆            ┆            ┆ 7290686-f4 │\n",
       "│        ┆         ┆           ┆           ┆   ┆            ┆            ┆            ┆ …          │\n",
       "│ …      ┆ …       ┆ …         ┆ …         ┆ … ┆ …          ┆ …          ┆ …          ┆ …          │\n",
       "│ Animal ┆ 33091   ┆ jpg       ┆ Animal    ┆ … ┆ 1995.0     ┆ 2386.25    ┆ 2770.0     ┆ /run/media │\n",
       "│        ┆         ┆           ┆           ┆   ┆            ┆            ┆            ┆ /wsyxbcl/9 │\n",
       "│        ┆         ┆           ┆           ┆   ┆            ┆            ┆            ┆ 7290686-f4 │\n",
       "│        ┆         ┆           ┆           ┆   ┆            ┆            ┆            ┆ …          │\n",
       "│ Animal ┆ 33093   ┆ jpg       ┆ Animal    ┆ … ┆ 2355.0     ┆ 1220.0     ┆ 1120.0     ┆ /run/media │\n",
       "│        ┆         ┆           ┆           ┆   ┆            ┆            ┆            ┆ /wsyxbcl/9 │\n",
       "│        ┆         ┆           ┆           ┆   ┆            ┆            ┆            ┆ 7290686-f4 │\n",
       "│        ┆         ┆           ┆           ┆   ┆            ┆            ┆            ┆ …          │\n",
       "│ Animal ┆ 33094   ┆ jpg       ┆ Animal    ┆ … ┆ 2240.0     ┆ 490.0      ┆ 1020.0     ┆ /run/media │\n",
       "│        ┆         ┆           ┆           ┆   ┆            ┆            ┆            ┆ /wsyxbcl/9 │\n",
       "│        ┆         ┆           ┆           ┆   ┆            ┆            ┆            ┆ 7290686-f4 │\n",
       "│        ┆         ┆           ┆           ┆   ┆            ┆            ┆            ┆ …          │\n",
       "│ Person ┆ 33096   ┆ jpg       ┆ Person    ┆ … ┆ 0.0        ┆ 1600.0     ┆ 3047.5     ┆ /run/media │\n",
       "│        ┆         ┆           ┆           ┆   ┆            ┆            ┆            ┆ /wsyxbcl/9 │\n",
       "│        ┆         ┆           ┆           ┆   ┆            ┆            ┆            ┆ 7290686-f4 │\n",
       "│        ┆         ┆           ┆           ┆   ┆            ┆            ┆            ┆ …          │\n",
       "│ Person ┆ 33097   ┆ jpg       ┆ Person    ┆ … ┆ 5.0        ┆ 2361.25    ┆ 3190.0     ┆ /run/media │\n",
       "│        ┆         ┆           ┆           ┆   ┆            ┆            ┆            ┆ /wsyxbcl/9 │\n",
       "│        ┆         ┆           ┆           ┆   ┆            ┆            ┆            ┆ 7290686-f4 │\n",
       "│        ┆         ┆           ┆           ┆   ┆            ┆            ┆            ┆ …          │\n",
       "└────────┴─────────┴───────────┴───────────┴───┴────────────┴────────────┴────────────┴────────────┘"
      ]
     },
     "execution_count": 183,
     "metadata": {},
     "output_type": "execute_result"
    }
   ],
   "source": [
    "df_result_format = df_result_image.with_columns(pl.col(\"file_path\")\n",
    "                       .str.strip_prefix(\"F:\\\\云塔2024.04.28\\\\\")\n",
    "                       # .str.replace_all(r\"\\\\\", \"/\")\n",
    "                       .str.split(\"\\\\\")\n",
    "                       )\n",
    "# df_result_format\n",
    "first_bbox_regex = r'\"x\":\\s*(\\d+\\.?\\d*),\\s*\"y\":\\s*(\\d+\\.?\\d*),\\s*\"width\":\\s*(\\d+\\.?\\d*),\\s*\"height\":\\s*(\\d+\\.?\\d*)'\n",
    "df_result_format = df_result_format.with_columns(\n",
    "    filename = pl.col(\"file_path\").list.get(0)+pl.lit(\"_\")+pl.concat_str(\n",
    "        [\n",
    "            # pl.col(\"file_path\").list.get(0),\n",
    "            pl.lit(COLLECTION_NAME),\n",
    "            pl.col(\"seq_label\"),\n",
    "            pl.col(\"file_path\").list.get(1),\n",
    "        ],\n",
    "        separator=\"-\"\n",
    "    ),\n",
    "    bbox_x = pl.col(\"detail\").str.extract(first_bbox_regex, 1).cast(pl.Float64), \n",
    "    bbox_y = pl.col(\"detail\").str.extract(first_bbox_regex, 2).cast(pl.Float64), \n",
    "    bbox_width = pl.col(\"detail\").str.extract(first_bbox_regex, 3).cast(pl.Float64), \n",
    "    bbox_height = pl.col(\"detail\").str.extract(first_bbox_regex, 4).cast(pl.Float64),\n",
    ")\n",
    "df_result_format = df_result_format.with_columns(\n",
    "    (pl.lit(LOCAL_PATH) + pl.col(\"file_path\").list.get(0) + pl.lit(\"_YT202312-202404/\") + pl.col(\"filename\")).alias(\"path\")\n",
    ").drop([\"file_path\", \"detail\"]).drop_nulls(subset=[\"path\"])\n",
    "df_result_format"
   ]
  },
  {
   "cell_type": "code",
   "execution_count": 184,
   "id": "138dc79e-ef3e-4c62-880a-ad5ba9ae624d",
   "metadata": {},
   "outputs": [
    {
     "data": {
      "text/html": [
       "<div><style>\n",
       ".dataframe > thead > tr,\n",
       ".dataframe > tbody > tr {\n",
       "  text-align: right;\n",
       "  white-space: pre-wrap;\n",
       "}\n",
       "</style>\n",
       "<small>shape: (4,)</small><table border=\"1\" class=\"dataframe\"><thead><tr><th>label</th></tr><tr><td>str</td></tr></thead><tbody><tr><td>&quot;Vehicle&quot;</td></tr><tr><td>&quot;Blank&quot;</td></tr><tr><td>&quot;Animal&quot;</td></tr><tr><td>&quot;Person&quot;</td></tr></tbody></table></div>"
      ],
      "text/plain": [
       "shape: (4,)\n",
       "Series: 'label' [str]\n",
       "[\n",
       "\t\"Vehicle\"\n",
       "\t\"Blank\"\n",
       "\t\"Animal\"\n",
       "\t\"Person\"\n",
       "]"
      ]
     },
     "execution_count": 184,
     "metadata": {},
     "output_type": "execute_result"
    }
   ],
   "source": [
    "# Patch labels\n",
    "df_result_format[\"label\"].unique()"
   ]
  },
  {
   "cell_type": "code",
   "execution_count": 188,
   "id": "f251df52-ab36-47e2-8d0c-f6926c26c3b5",
   "metadata": {},
   "outputs": [],
   "source": [
    "ai_tag_dict = {\n",
    "    \"Animal\": \"Unidentified\", \n",
    "    \"Person\": \"Homo sapiens\", \n",
    "    \"Blank\": \"Blank\", \n",
    "    \"Vehicle\": \"Homo sapiens\"\n",
    "}\n",
    "df_result_format = df_result_format.with_columns(\n",
    "    pl.col(\"label\").replace(ai_tag_dict).alias(\"scientificName\"),\n",
    "    pl.col(\"label\").str.replace_all(\"Person\", \"Human\")\n",
    ")\n",
    "\n"
   ]
  },
  {
   "cell_type": "code",
   "execution_count": 186,
   "id": "d5cf8fc5-5ccd-4083-bb64-a12ec56c95ed",
   "metadata": {
    "scrolled": true
   },
   "outputs": [],
   "source": [
    "from PIL import Image\n",
    "image_width_list = []\n",
    "image_height_list = []\n",
    "i = 0\n",
    "for image in df_result_format[\"path\"]:\n",
    "    try:\n",
    "        with Image.open(image) as img:\n",
    "            width, height = img.size\n",
    "            image_width_list.append(width)\n",
    "            image_height_list.append(height)\n",
    "    except AttributeError:\n",
    "        print(image)\n",
    "    except FileNotFoundError:\n",
    "        print(\"Not found.\")\n",
    "        image_width_list.append(0)\n",
    "        image_height_list.append(0)\n",
    "        print(image)"
   ]
  },
  {
   "cell_type": "code",
   "execution_count": 189,
   "id": "6ad30bb3-1146-4fa8-9d85-b69f8a38b675",
   "metadata": {
    "scrolled": true
   },
   "outputs": [
    {
     "data": {
      "text/html": [
       "<div><style>\n",
       ".dataframe > thead > tr,\n",
       ".dataframe > tbody > tr {\n",
       "  text-align: right;\n",
       "  white-space: pre-wrap;\n",
       "}\n",
       "</style>\n",
       "<small>shape: (21_914, 13)</small><table border=\"1\" class=\"dataframe\"><thead><tr><th>label</th><th>file_id</th><th>extension</th><th>seq_label</th><th>filename</th><th>bbox_x</th><th>bbox_y</th><th>bbox_width</th><th>bbox_height</th><th>path</th><th>scientificName</th><th>img_width</th><th>img_height</th></tr><tr><td>str</td><td>i64</td><td>str</td><td>str</td><td>str</td><td>f64</td><td>f64</td><td>f64</td><td>f64</td><td>str</td><td>str</td><td>i64</td><td>i64</td></tr></thead><tbody><tr><td>&quot;Human&quot;</td><td>1</td><td>&quot;jpg&quot;</td><td>&quot;Person&quot;</td><td>&quot;4040_YT202312-202404-Person-CN…</td><td>1582.199951</td><td>524.700012</td><td>1548.0</td><td>2002.5</td><td>&quot;/run/media/wsyxbcl/97290686-f4…</td><td>&quot;Homo sapiens&quot;</td><td>4608</td><td>2592</td></tr><tr><td>&quot;Human&quot;</td><td>2</td><td>&quot;jpg&quot;</td><td>&quot;Person&quot;</td><td>&quot;4040_YT202312-202404-Person-CN…</td><td>0.0</td><td>2.7</td><td>2952.0</td><td>2510.100098</td><td>&quot;/run/media/wsyxbcl/97290686-f4…</td><td>&quot;Homo sapiens&quot;</td><td>4608</td><td>2592</td></tr><tr><td>&quot;Human&quot;</td><td>3</td><td>&quot;jpg&quot;</td><td>&quot;Person&quot;</td><td>&quot;4040_YT202312-202404-Person-CN…</td><td>0.0</td><td>4.5</td><td>2944.799805</td><td>2508.300049</td><td>&quot;/run/media/wsyxbcl/97290686-f4…</td><td>&quot;Homo sapiens&quot;</td><td>4608</td><td>2592</td></tr><tr><td>&quot;Human&quot;</td><td>4</td><td>&quot;jpg&quot;</td><td>&quot;Person&quot;</td><td>&quot;4040_YT202312-202404-Person-CN…</td><td>0.0</td><td>2.7</td><td>2899.799805</td><td>2513.699951</td><td>&quot;/run/media/wsyxbcl/97290686-f4…</td><td>&quot;Homo sapiens&quot;</td><td>4608</td><td>2592</td></tr><tr><td>&quot;Human&quot;</td><td>5</td><td>&quot;jpg&quot;</td><td>&quot;Person&quot;</td><td>&quot;4040_YT202312-202404-Person-CN…</td><td>0.9</td><td>2.7</td><td>2897.100098</td><td>2513.699951</td><td>&quot;/run/media/wsyxbcl/97290686-f4…</td><td>&quot;Homo sapiens&quot;</td><td>4608</td><td>2592</td></tr><tr><td>&hellip;</td><td>&hellip;</td><td>&hellip;</td><td>&hellip;</td><td>&hellip;</td><td>&hellip;</td><td>&hellip;</td><td>&hellip;</td><td>&hellip;</td><td>&hellip;</td><td>&hellip;</td><td>&hellip;</td><td>&hellip;</td></tr><tr><td>&quot;Animal&quot;</td><td>33091</td><td>&quot;jpg&quot;</td><td>&quot;Animal&quot;</td><td>&quot;shanshui01realtime_YT202312-20…</td><td>0.0</td><td>1995.0</td><td>2386.25</td><td>2770.0</td><td>&quot;/run/media/wsyxbcl/97290686-f4…</td><td>&quot;Unidentified&quot;</td><td>6400</td><td>4800</td></tr><tr><td>&quot;Animal&quot;</td><td>33093</td><td>&quot;jpg&quot;</td><td>&quot;Animal&quot;</td><td>&quot;shanshui01realtime_YT202312-20…</td><td>3270.0</td><td>2355.0</td><td>1220.0</td><td>1120.0</td><td>&quot;/run/media/wsyxbcl/97290686-f4…</td><td>&quot;Unidentified&quot;</td><td>6400</td><td>4800</td></tr><tr><td>&quot;Animal&quot;</td><td>33094</td><td>&quot;jpg&quot;</td><td>&quot;Animal&quot;</td><td>&quot;shanshui01realtime_YT202312-20…</td><td>4032.5</td><td>2240.0</td><td>490.0</td><td>1020.0</td><td>&quot;/run/media/wsyxbcl/97290686-f4…</td><td>&quot;Unidentified&quot;</td><td>6400</td><td>4800</td></tr><tr><td>&quot;Human&quot;</td><td>33096</td><td>&quot;jpg&quot;</td><td>&quot;Person&quot;</td><td>&quot;shanshui01realtime_YT202312-20…</td><td>2525.0</td><td>0.0</td><td>1600.0</td><td>3047.5</td><td>&quot;/run/media/wsyxbcl/97290686-f4…</td><td>&quot;Homo sapiens&quot;</td><td>6400</td><td>4800</td></tr><tr><td>&quot;Human&quot;</td><td>33097</td><td>&quot;jpg&quot;</td><td>&quot;Person&quot;</td><td>&quot;shanshui01realtime_YT202312-20…</td><td>1643.75</td><td>5.0</td><td>2361.25</td><td>3190.0</td><td>&quot;/run/media/wsyxbcl/97290686-f4…</td><td>&quot;Homo sapiens&quot;</td><td>6400</td><td>4800</td></tr></tbody></table></div>"
      ],
      "text/plain": [
       "shape: (21_914, 13)\n",
       "┌────────┬─────────┬───────────┬───────────┬───┬─────────────┬────────────┬───────────┬────────────┐\n",
       "│ label  ┆ file_id ┆ extension ┆ seq_label ┆ … ┆ path        ┆ scientific ┆ img_width ┆ img_height │\n",
       "│ ---    ┆ ---     ┆ ---       ┆ ---       ┆   ┆ ---         ┆ Name       ┆ ---       ┆ ---        │\n",
       "│ str    ┆ i64     ┆ str       ┆ str       ┆   ┆ str         ┆ ---        ┆ i64       ┆ i64        │\n",
       "│        ┆         ┆           ┆           ┆   ┆             ┆ str        ┆           ┆            │\n",
       "╞════════╪═════════╪═══════════╪═══════════╪═══╪═════════════╪════════════╪═══════════╪════════════╡\n",
       "│ Human  ┆ 1       ┆ jpg       ┆ Person    ┆ … ┆ /run/media/ ┆ Homo       ┆ 4608      ┆ 2592       │\n",
       "│        ┆         ┆           ┆           ┆   ┆ wsyxbcl/972 ┆ sapiens    ┆           ┆            │\n",
       "│        ┆         ┆           ┆           ┆   ┆ 90686-f4…   ┆            ┆           ┆            │\n",
       "│ Human  ┆ 2       ┆ jpg       ┆ Person    ┆ … ┆ /run/media/ ┆ Homo       ┆ 4608      ┆ 2592       │\n",
       "│        ┆         ┆           ┆           ┆   ┆ wsyxbcl/972 ┆ sapiens    ┆           ┆            │\n",
       "│        ┆         ┆           ┆           ┆   ┆ 90686-f4…   ┆            ┆           ┆            │\n",
       "│ Human  ┆ 3       ┆ jpg       ┆ Person    ┆ … ┆ /run/media/ ┆ Homo       ┆ 4608      ┆ 2592       │\n",
       "│        ┆         ┆           ┆           ┆   ┆ wsyxbcl/972 ┆ sapiens    ┆           ┆            │\n",
       "│        ┆         ┆           ┆           ┆   ┆ 90686-f4…   ┆            ┆           ┆            │\n",
       "│ Human  ┆ 4       ┆ jpg       ┆ Person    ┆ … ┆ /run/media/ ┆ Homo       ┆ 4608      ┆ 2592       │\n",
       "│        ┆         ┆           ┆           ┆   ┆ wsyxbcl/972 ┆ sapiens    ┆           ┆            │\n",
       "│        ┆         ┆           ┆           ┆   ┆ 90686-f4…   ┆            ┆           ┆            │\n",
       "│ Human  ┆ 5       ┆ jpg       ┆ Person    ┆ … ┆ /run/media/ ┆ Homo       ┆ 4608      ┆ 2592       │\n",
       "│        ┆         ┆           ┆           ┆   ┆ wsyxbcl/972 ┆ sapiens    ┆           ┆            │\n",
       "│        ┆         ┆           ┆           ┆   ┆ 90686-f4…   ┆            ┆           ┆            │\n",
       "│ …      ┆ …       ┆ …         ┆ …         ┆ … ┆ …           ┆ …          ┆ …         ┆ …          │\n",
       "│ Animal ┆ 33091   ┆ jpg       ┆ Animal    ┆ … ┆ /run/media/ ┆ Unidentifi ┆ 6400      ┆ 4800       │\n",
       "│        ┆         ┆           ┆           ┆   ┆ wsyxbcl/972 ┆ ed         ┆           ┆            │\n",
       "│        ┆         ┆           ┆           ┆   ┆ 90686-f4…   ┆            ┆           ┆            │\n",
       "│ Animal ┆ 33093   ┆ jpg       ┆ Animal    ┆ … ┆ /run/media/ ┆ Unidentifi ┆ 6400      ┆ 4800       │\n",
       "│        ┆         ┆           ┆           ┆   ┆ wsyxbcl/972 ┆ ed         ┆           ┆            │\n",
       "│        ┆         ┆           ┆           ┆   ┆ 90686-f4…   ┆            ┆           ┆            │\n",
       "│ Animal ┆ 33094   ┆ jpg       ┆ Animal    ┆ … ┆ /run/media/ ┆ Unidentifi ┆ 6400      ┆ 4800       │\n",
       "│        ┆         ┆           ┆           ┆   ┆ wsyxbcl/972 ┆ ed         ┆           ┆            │\n",
       "│        ┆         ┆           ┆           ┆   ┆ 90686-f4…   ┆            ┆           ┆            │\n",
       "│ Human  ┆ 33096   ┆ jpg       ┆ Person    ┆ … ┆ /run/media/ ┆ Homo       ┆ 6400      ┆ 4800       │\n",
       "│        ┆         ┆           ┆           ┆   ┆ wsyxbcl/972 ┆ sapiens    ┆           ┆            │\n",
       "│        ┆         ┆           ┆           ┆   ┆ 90686-f4…   ┆            ┆           ┆            │\n",
       "│ Human  ┆ 33097   ┆ jpg       ┆ Person    ┆ … ┆ /run/media/ ┆ Homo       ┆ 6400      ┆ 4800       │\n",
       "│        ┆         ┆           ┆           ┆   ┆ wsyxbcl/972 ┆ sapiens    ┆           ┆            │\n",
       "│        ┆         ┆           ┆           ┆   ┆ 90686-f4…   ┆            ┆           ┆            │\n",
       "└────────┴─────────┴───────────┴───────────┴───┴─────────────┴────────────┴───────────┴────────────┘"
      ]
     },
     "execution_count": 189,
     "metadata": {},
     "output_type": "execute_result"
    }
   ],
   "source": [
    "df_result_img_dimension = df_result_format.with_columns(\n",
    "    pl.Series(name=\"img_width\", values = image_width_list), \n",
    "    pl.Series(name=\"img_height\", values = image_height_list)\n",
    ")\n",
    "df_result_img_dimension"
   ]
  },
  {
   "cell_type": "code",
   "execution_count": 190,
   "id": "697071b7-fd51-4e0c-bde5-2b26c496d1c7",
   "metadata": {},
   "outputs": [],
   "source": [
    "df_tags_ai = df_result_img_dimension.select(\n",
    "    pl.col(\"filename\"),\n",
    "    pl.col(\"label\").str.to_lowercase().alias(\"observationType\"),\n",
    "    pl.col(\"scientificName\"),\n",
    "    (pl.col(\"bbox_x\") / pl.col(\"img_width\")).alias(\"bboxX\"),\n",
    "    (pl.col(\"bbox_y\") / pl.col(\"img_height\")).alias(\"bboxY\"),\n",
    "    (pl.col(\"bbox_width\") / pl.col(\"img_width\")).alias(\"bboxWidth\"),\n",
    "    (pl.col(\"bbox_height\") / pl.col(\"img_height\")).alias(\"bboxHeight\"),\n",
    ")\n",
    "df_tags_ai.write_csv(\"/run/media/wsyxbcl/97290686-f4c4-499c-bb42-4dfe42b96533/Yunta_trapper/YT202312-202404/tags-ai.csv\")"
   ]
  },
  {
   "cell_type": "code",
   "execution_count": 170,
   "id": "8cb9cb9c-932a-4dbb-8a06-1f105516b06c",
   "metadata": {},
   "outputs": [
    {
     "data": {
      "text/html": [
       "<div><style>\n",
       ".dataframe > thead > tr,\n",
       ".dataframe > tbody > tr {\n",
       "  text-align: right;\n",
       "  white-space: pre-wrap;\n",
       "}\n",
       "</style>\n",
       "<small>shape: (21_914, 6)</small><table border=\"1\" class=\"dataframe\"><thead><tr><th>filename</th><th>observationType</th><th>bboxX</th><th>bboxY</th><th>bboxWidth</th><th>bboxHeight</th></tr><tr><td>str</td><td>str</td><td>f64</td><td>f64</td><td>f64</td><td>f64</td></tr></thead><tbody><tr><td>&quot;4040_YT202312-202404-Person-CN…</td><td>&quot;person&quot;</td><td>0.343359</td><td>0.202431</td><td>0.3359375</td><td>0.772569</td></tr><tr><td>&quot;4040_YT202312-202404-Person-CN…</td><td>&quot;person&quot;</td><td>0.0</td><td>0.001042</td><td>0.640625</td><td>0.968403</td></tr><tr><td>&quot;4040_YT202312-202404-Person-CN…</td><td>&quot;person&quot;</td><td>0.0</td><td>0.001736</td><td>0.639062</td><td>0.967708</td></tr><tr><td>&quot;4040_YT202312-202404-Person-CN…</td><td>&quot;person&quot;</td><td>0.0</td><td>0.001042</td><td>0.629297</td><td>0.969792</td></tr><tr><td>&quot;4040_YT202312-202404-Person-CN…</td><td>&quot;person&quot;</td><td>0.000195</td><td>0.001042</td><td>0.628711</td><td>0.969792</td></tr><tr><td>&hellip;</td><td>&hellip;</td><td>&hellip;</td><td>&hellip;</td><td>&hellip;</td><td>&hellip;</td></tr><tr><td>&quot;shanshui01realtime_YT202312-20…</td><td>&quot;animal&quot;</td><td>0.0</td><td>0.415625</td><td>0.372852</td><td>0.577083</td></tr><tr><td>&quot;shanshui01realtime_YT202312-20…</td><td>&quot;animal&quot;</td><td>0.5109375</td><td>0.490625</td><td>0.190625</td><td>0.233333</td></tr><tr><td>&quot;shanshui01realtime_YT202312-20…</td><td>&quot;animal&quot;</td><td>0.630078</td><td>0.466667</td><td>0.0765625</td><td>0.2125</td></tr><tr><td>&quot;shanshui01realtime_YT202312-20…</td><td>&quot;person&quot;</td><td>0.394531</td><td>0.0</td><td>0.25</td><td>0.634896</td></tr><tr><td>&quot;shanshui01realtime_YT202312-20…</td><td>&quot;person&quot;</td><td>0.256836</td><td>0.001042</td><td>0.368945</td><td>0.664583</td></tr></tbody></table></div>"
      ],
      "text/plain": [
       "shape: (21_914, 6)\n",
       "┌────────────────────────────────┬─────────────────┬───────────┬──────────┬───────────┬────────────┐\n",
       "│ filename                       ┆ observationType ┆ bboxX     ┆ bboxY    ┆ bboxWidth ┆ bboxHeight │\n",
       "│ ---                            ┆ ---             ┆ ---       ┆ ---      ┆ ---       ┆ ---        │\n",
       "│ str                            ┆ str             ┆ f64       ┆ f64      ┆ f64       ┆ f64        │\n",
       "╞════════════════════════════════╪═════════════════╪═══════════╪══════════╪═══════════╪════════════╡\n",
       "│ 4040_YT202312-202404-Person-CN ┆ person          ┆ 0.343359  ┆ 0.202431 ┆ 0.3359375 ┆ 0.772569   │\n",
       "│ …                              ┆                 ┆           ┆          ┆           ┆            │\n",
       "│ 4040_YT202312-202404-Person-CN ┆ person          ┆ 0.0       ┆ 0.001042 ┆ 0.640625  ┆ 0.968403   │\n",
       "│ …                              ┆                 ┆           ┆          ┆           ┆            │\n",
       "│ 4040_YT202312-202404-Person-CN ┆ person          ┆ 0.0       ┆ 0.001736 ┆ 0.639062  ┆ 0.967708   │\n",
       "│ …                              ┆                 ┆           ┆          ┆           ┆            │\n",
       "│ 4040_YT202312-202404-Person-CN ┆ person          ┆ 0.0       ┆ 0.001042 ┆ 0.629297  ┆ 0.969792   │\n",
       "│ …                              ┆                 ┆           ┆          ┆           ┆            │\n",
       "│ 4040_YT202312-202404-Person-CN ┆ person          ┆ 0.000195  ┆ 0.001042 ┆ 0.628711  ┆ 0.969792   │\n",
       "│ …                              ┆                 ┆           ┆          ┆           ┆            │\n",
       "│ …                              ┆ …               ┆ …         ┆ …        ┆ …         ┆ …          │\n",
       "│ shanshui01realtime_YT202312-20 ┆ animal          ┆ 0.0       ┆ 0.415625 ┆ 0.372852  ┆ 0.577083   │\n",
       "│ …                              ┆                 ┆           ┆          ┆           ┆            │\n",
       "│ shanshui01realtime_YT202312-20 ┆ animal          ┆ 0.5109375 ┆ 0.490625 ┆ 0.190625  ┆ 0.233333   │\n",
       "│ …                              ┆                 ┆           ┆          ┆           ┆            │\n",
       "│ shanshui01realtime_YT202312-20 ┆ animal          ┆ 0.630078  ┆ 0.466667 ┆ 0.0765625 ┆ 0.2125     │\n",
       "│ …                              ┆                 ┆           ┆          ┆           ┆            │\n",
       "│ shanshui01realtime_YT202312-20 ┆ person          ┆ 0.394531  ┆ 0.0      ┆ 0.25      ┆ 0.634896   │\n",
       "│ …                              ┆                 ┆           ┆          ┆           ┆            │\n",
       "│ shanshui01realtime_YT202312-20 ┆ person          ┆ 0.256836  ┆ 0.001042 ┆ 0.368945  ┆ 0.664583   │\n",
       "│ …                              ┆                 ┆           ┆          ┆           ┆            │\n",
       "└────────────────────────────────┴─────────────────┴───────────┴──────────┴───────────┴────────────┘"
      ]
     },
     "execution_count": 170,
     "metadata": {},
     "output_type": "execute_result"
    }
   ],
   "source": [
    "df_tags_ai"
   ]
  }
 ],
 "metadata": {
  "kernelspec": {
   "display_name": "venv",
   "language": "python",
   "name": "venv"
  },
  "language_info": {
   "codemirror_mode": {
    "name": "ipython",
    "version": 3
   },
   "file_extension": ".py",
   "mimetype": "text/x-python",
   "name": "python",
   "nbconvert_exporter": "python",
   "pygments_lexer": "ipython3",
   "version": "3.12.5"
  }
 },
 "nbformat": 4,
 "nbformat_minor": 5
}
